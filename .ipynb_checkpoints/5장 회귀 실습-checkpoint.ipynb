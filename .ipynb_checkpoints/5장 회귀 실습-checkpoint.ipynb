{
 "cells": [
  {
   "cell_type": "markdown",
   "metadata": {},
   "source": [
    "# 회귀 실습 - 지전거 대여 수요 예측\n",
    "\n",
    "캐글의 자전거 대여 수요(Bike Sharing Demand) 에측 경영 데이터 세트를 이용해 선형 회귀와 트리기반 회귀를 비교해 보겠습니다.  \n",
    "https://www.kaggle.com/c/bike-sharing-demand/data  \n",
    "\n",
    "2011년 1월 부터 12년 12월까지 날짜/시간, 기온, 습도, 풍속 등의 정볼르 기반으로 1시간 간격 동안의 자전거 대여 횟수가 기재돼 있습니다. "
   ]
  },
  {
   "cell_type": "markdown",
   "metadata": {},
   "source": [
    "#### 데이터 클렌징 및 가공"
   ]
  },
  {
   "cell_type": "code",
   "execution_count": null,
   "metadata": {},
   "outputs": [],
   "source": []
  }
 ],
 "metadata": {
  "kernelspec": {
   "display_name": "Python 3",
   "language": "python",
   "name": "python3"
  },
  "language_info": {
   "codemirror_mode": {
    "name": "ipython",
    "version": 3
   },
   "file_extension": ".py",
   "mimetype": "text/x-python",
   "name": "python",
   "nbconvert_exporter": "python",
   "pygments_lexer": "ipython3",
   "version": "3.7.3"
  }
 },
 "nbformat": 4,
 "nbformat_minor": 2
}
