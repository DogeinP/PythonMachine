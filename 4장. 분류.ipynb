{
 "cells": [
  {
   "cell_type": "markdown",
   "metadata": {},
   "source": [
    "# 분류(Classification)의 개요\n",
    "\n",
    "    지도학습 (Label), 즉 명시적인 정답이 있는 데이터가 주어진 상태에서 학습하는 머신러닝 방식입니다. 지도학습의 대표적인 유형인 분류(Classification)는 학습 데이터로 주어진 데이터의 피처와 레이블값(결정 값, 클래스 값)을 머신러닝 알고리즘으로 학습해 모델을 생성하고, 이렇게 생성된 모델에 새로운 데이터 값이 주어졌을 때 미지의 레이블 값을 예측하는 것입니다.\n",
    "    \n",
    "    - 베이즈(Bayes) 통계와 생성 모델이 기반한 나이브 베이즈(Naiive Bayes)\n",
    "    - 독립변수와 종속변수의 선형 관셰성에 기반한 로지스틱 회귀(Logistic Regression)\n",
    "    - 데이터 균일도에 따른 규칙 기반의 결정 트리(Decision Tree)\n",
    "    - 개별 클래스 간의 최대 분류 마진을 효과적으로 찾아주는 서포트 벡터 머신(Support Vector Machine)\n",
    "    - 근접 거리를 기준으로 하는 최소 근접(Nearest Neighbor) 알고리즘\n",
    "    - 심층 연결 기반의 신경망(Nerural Network)\n",
    "    - 서로 다른(또는 같은) 머신러닝 알고리즘을 결합한 앙상블(Ensemble)"
   ]
  },
  {
   "cell_type": "markdown",
   "metadata": {},
   "source": [
    "    앙상블은 서로 다른/또는 같은 알고리즘을 단순히 결합한 형태도 있으나, 일반적으로 배깅(Bagging)과 부스팅(Boosting) 방식으로 나뉩니다. 배깅 방식의 대표인 랜덤 포레스트(Random Forest)는 뛰어난 예측 성능, 상대적으로 빠른 수행 시간, 유연승 등으로 많은 분석가가 애용하는 알고리즘 입니다. 하지만 근래의 앙상블 방법은 부스팅 방식으로 지속해서 발전하고 있습니다. 부스팅의 효시라고 할 수 있는 그래디언트 부스팅(Gradient Boosting)의 경우 뛰어난 예측 성능을 가지고 있지만, 수행 시간이 너무 오래 걸리는 단점으로 인해 최적화 모델 튜닝이 어려웠습니다. 하지만 XgBoost(eXtra Gradient Boost)와 LightGBM 등 기존 그래디언트 부스팅의 예측 성능을 한 단계 발전시키면서도 수행 시간능 단축시킨 알고리즘이 계속 등장하면서 정형 데잍의 분류 영역에서 가장 활용도가 높은 알고리즘으로 자리 잡았습니다.\n",
    "    "
   ]
  },
  {
   "cell_type": "markdown",
   "metadata": {},
   "source": [
    "# 결정트리\n",
    "    \n",
    "    매우 쉽고 유연하게 적용될 수 있는 알고리즘입니다. 또한 데이터의 스케일링이나 정규화등의 사전 가공이 영향이 적습니다. 하지만 예측 성능을 향상시키기 위해 복잡한 규치직 구조를 가져야 하며, 이로 인한 과적합(Overfitting)이 발생해 반대로 예측성능이 저하될 수도 있다는 단점이 있습니다. 하지만 이러한 단점이 앙상블 기법에서는 오히려 장점으로 작용합니다. 앙상블은 매우 많은 여러개의 약한 학습기(즉, 예측 성능이 상대적을 떨어지는 학습 알고리즘)를 결합해 확룔적 보완과 오류가 발생한 부분에 대한 가중치를 계속 업데이트하면서 예측 성능을 향상시키는데, 결정 트리가 좋은 약한 학습기가 되기 때문입니다.\n",
    "    \n",
    "    직관적으로 이해하기 쉬운 알고리즘 입니다. 데이터의 어떤 기준을 바탕으로 규칙을 만들어야 가장 효율적인 분류가 될 것인가가 알고리즘의 성능을 크게 좌우합니다.\n",
    "    규칙 노드(Decision Node)로 표시된 노드는 규치 조건이 되는 것이고, 리프 노드(Leaf Node)로 표시된 노드는 결정된 클래스 값입니다. 그렇게 새로운 서브 노트(Sub Node)가 생성됩니다. 많은 규칙이 있다는 것은 곧 분류를 결정하는 방식이 더욱 복잡해즌다는 얘기이고, 이는 곧 과적합으로 이어지기 쉽습니다. 즉, 트리의 깊이(Depth)가 깊어질수록 결정트리의 예측 성능이 저하될 가능성이 높습니다.\n",
    "    가능한 한 적은 결정 노드로 높은 예측 정확도를 가지려면 데이터를 분류할 때 최대한 많은 데이터 세트가 해당 분류에 속할 수 있도록 결정 노드 구칙이 정해져야 합니다. 최대한 균일한 데이터 세트를 구성할 수 있도록 분할 하는 것이 필요합니다."
   ]
  },
  {
   "cell_type": "markdown",
   "metadata": {},
   "source": [
    "    균일한 데이터 세트란, 데이터를 구분하는 데 필요한 정보의 양에 영향을 미치는 정도가 적은 데이터로 균일도가 낮은 데이터는 같은 조건에서 데이터를 판단하는데 있어 더 많은 정보가 필요합니다.\n",
    "    결정 노드는 정보 균일도가 높은 데이터 세트를 먼저 선택할 수있도록 규칙 조건을 만듭니다. 즉, 정보 균일도가 데이터 세트로 쪼개질 수 있도록 조건을 찾아 서브 데이터 세트를 만들고, 다시 이 서브 데이터ㅓ 세트에서 균일도가 높은 자식 데이터 세트로 쪼개는 방식을 자식 트리로 내려가면서 반복하는 방식으로 데이터 값으 예측하게 됩니다.\n",
    "    이러한 정보의 균일도를 측정하는 대표적인 방법은 엔트로피를 이용한 정보 이득(Information Gain)지수와 지니(Gini)계수가 있습니다.\n",
    "    \n",
    "    정보이득은 엔트로피 개념을 기반으로 하며 엔트로피는 주어진 데이터 집합의 혼잡도를 의미하는데, 서로 다른 값이 섞여 있으면 엔트로피가 높고, 같은 값이 섞여 있으면 엔트로프가 낮습니다. 정보 이득 지수는 1에서 엔트로피 지수를 뺀 값입니다. 1- 엔트로프 지수. 결정트리는 이 정보 이득 지수로 분할 기준을 정합니다. 즉, 정보이득이 높은 속성을 기준으로 분할합니다.\n",
    "    지니 계수는 원래 경제학에서 불평등 지수를 나타낼 때 사용하는 계수입니다. 0이 가장 평등하고 1로 갈수록 불평등합니다. 지니 계수가 낮을수록 데이터 균일도가 높은 것으로 해석해 지니 계수가 낮은 속성을 기준으로 분할합니다."
   ]
  },
  {
   "cell_type": "code",
   "execution_count": 5,
   "metadata": {},
   "outputs": [
    {
     "data": {
      "text/plain": [
       "DecisionTreeClassifier(class_weight=None, criterion='gini', max_depth=None,\n",
       "                       max_features=None, max_leaf_nodes=None,\n",
       "                       min_impurity_decrease=0.0, min_impurity_split=None,\n",
       "                       min_samples_leaf=1, min_samples_split=2,\n",
       "                       min_weight_fraction_leaf=0.0, presort=False,\n",
       "                       random_state=156, splitter='best')"
      ]
     },
     "execution_count": 5,
     "metadata": {},
     "output_type": "execute_result"
    }
   ],
   "source": [
    "from sklearn.tree import DecisionTreeClassifier\n",
    "from sklearn.datasets import load_iris\n",
    "from sklearn.model_selection import train_test_split\n",
    "import warnings\n",
    "\n",
    "warnings.filterwarnings('ignore')\n",
    "\n",
    "# DecisionTree Classifier 생서\n",
    "dt_clf = DecisionTreeClassifier(random_state=156)\n",
    "\n",
    "# 붓꽃 데이터를 로딩하고, 학습과 테스트 데이터 세트로 분리\n",
    "iris_data = load_iris()\n",
    "X_train, X_test, y_train, y_test = train_test_split(iris_data.data, iris_data.target, test_size=0.2, random_state=11)\n",
    "\n",
    "# DecisionTreeClassifier 학습.\n",
    "dt_clf.fit(X_train, y_train)"
   ]
  },
  {
   "cell_type": "markdown",
   "metadata": {},
   "source": [
    "사이킷런의 트리 모듈은 Graphviz를 이용하기 위해 export_graphviz() 함수를 제공합니다. export_graphviz()에 인자로 학습이 완료된 esimator, output 파일 명, 결정 클래스의 명칭, 피처의 명칭을 입력해주면 됩니다."
   ]
  },
  {
   "cell_type": "code",
   "execution_count": 2,
   "metadata": {},
   "outputs": [],
   "source": [
    "from sklearn.tree import export_graphviz\n",
    "\n",
    "# export_graphviz() 호출 결과로 out_file로 지정된 tree.dot 파일을 생성함.\n",
    "export_graphviz(dt_clf, out_file='tree.dot', class_names=iris_data.target_names, feature_names=iris_data.feature_names,\n",
    "                impurity=True, filled=True)"
   ]
  },
  {
   "cell_type": "code",
   "execution_count": 3,
   "metadata": {
    "collapsed": true
   },
   "outputs": [
    {
     "data": {
      "image/svg+xml": [
       "<?xml version=\"1.0\" encoding=\"UTF-8\" standalone=\"no\"?>\r\n",
       "<!DOCTYPE svg PUBLIC \"-//W3C//DTD SVG 1.1//EN\"\r\n",
       " \"http://www.w3.org/Graphics/SVG/1.1/DTD/svg11.dtd\">\r\n",
       "<!-- Generated by graphviz version 2.38.0 (20140413.2041)\r\n",
       " -->\r\n",
       "<!-- Title: Tree Pages: 1 -->\r\n",
       "<svg width=\"746pt\" height=\"671pt\"\r\n",
       " viewBox=\"0.00 0.00 746.00 671.00\" xmlns=\"http://www.w3.org/2000/svg\" xmlns:xlink=\"http://www.w3.org/1999/xlink\">\r\n",
       "<g id=\"graph0\" class=\"graph\" transform=\"scale(1 1) rotate(0) translate(4 667)\">\r\n",
       "<title>Tree</title>\r\n",
       "<polygon fill=\"white\" stroke=\"none\" points=\"-4,4 -4,-667 742,-667 742,4 -4,4\"/>\r\n",
       "<!-- 0 -->\r\n",
       "<g id=\"node1\" class=\"node\"><title>0</title>\r\n",
       "<polygon fill=\"#fffdfd\" stroke=\"black\" points=\"272,-663 114,-663 114,-580 272,-580 272,-663\"/>\r\n",
       "<text text-anchor=\"middle\" x=\"193\" y=\"-647.8\" font-family=\"Times New Roman,serif\" font-size=\"14.00\">petal length (cm) &lt;= 2.45</text>\r\n",
       "<text text-anchor=\"middle\" x=\"193\" y=\"-632.8\" font-family=\"Times New Roman,serif\" font-size=\"14.00\">gini = 0.667</text>\r\n",
       "<text text-anchor=\"middle\" x=\"193\" y=\"-617.8\" font-family=\"Times New Roman,serif\" font-size=\"14.00\">samples = 120</text>\r\n",
       "<text text-anchor=\"middle\" x=\"193\" y=\"-602.8\" font-family=\"Times New Roman,serif\" font-size=\"14.00\">value = [41, 40, 39]</text>\r\n",
       "<text text-anchor=\"middle\" x=\"193\" y=\"-587.8\" font-family=\"Times New Roman,serif\" font-size=\"14.00\">class = setosa</text>\r\n",
       "</g>\r\n",
       "<!-- 1 -->\r\n",
       "<g id=\"node2\" class=\"node\"><title>1</title>\r\n",
       "<polygon fill=\"#e58139\" stroke=\"black\" points=\"173,-536.5 61,-536.5 61,-468.5 173,-468.5 173,-536.5\"/>\r\n",
       "<text text-anchor=\"middle\" x=\"117\" y=\"-521.3\" font-family=\"Times New Roman,serif\" font-size=\"14.00\">gini = 0.0</text>\r\n",
       "<text text-anchor=\"middle\" x=\"117\" y=\"-506.3\" font-family=\"Times New Roman,serif\" font-size=\"14.00\">samples = 41</text>\r\n",
       "<text text-anchor=\"middle\" x=\"117\" y=\"-491.3\" font-family=\"Times New Roman,serif\" font-size=\"14.00\">value = [41, 0, 0]</text>\r\n",
       "<text text-anchor=\"middle\" x=\"117\" y=\"-476.3\" font-family=\"Times New Roman,serif\" font-size=\"14.00\">class = setosa</text>\r\n",
       "</g>\r\n",
       "<!-- 0&#45;&gt;1 -->\r\n",
       "<g id=\"edge1\" class=\"edge\"><title>0&#45;&gt;1</title>\r\n",
       "<path fill=\"none\" stroke=\"black\" d=\"M166.632,-579.907C159.321,-568.652 151.374,-556.418 144.026,-545.106\"/>\r\n",
       "<polygon fill=\"black\" stroke=\"black\" points=\"146.927,-543.146 138.544,-536.667 141.057,-546.96 146.927,-543.146\"/>\r\n",
       "<text text-anchor=\"middle\" x=\"133.349\" y=\"-557.421\" font-family=\"Times New Roman,serif\" font-size=\"14.00\">True</text>\r\n",
       "</g>\r\n",
       "<!-- 2 -->\r\n",
       "<g id=\"node3\" class=\"node\"><title>2</title>\r\n",
       "<polygon fill=\"#fafefc\" stroke=\"black\" points=\"346.5,-544 191.5,-544 191.5,-461 346.5,-461 346.5,-544\"/>\r\n",
       "<text text-anchor=\"middle\" x=\"269\" y=\"-528.8\" font-family=\"Times New Roman,serif\" font-size=\"14.00\">petal width (cm) &lt;= 1.55</text>\r\n",
       "<text text-anchor=\"middle\" x=\"269\" y=\"-513.8\" font-family=\"Times New Roman,serif\" font-size=\"14.00\">gini = 0.5</text>\r\n",
       "<text text-anchor=\"middle\" x=\"269\" y=\"-498.8\" font-family=\"Times New Roman,serif\" font-size=\"14.00\">samples = 79</text>\r\n",
       "<text text-anchor=\"middle\" x=\"269\" y=\"-483.8\" font-family=\"Times New Roman,serif\" font-size=\"14.00\">value = [0, 40, 39]</text>\r\n",
       "<text text-anchor=\"middle\" x=\"269\" y=\"-468.8\" font-family=\"Times New Roman,serif\" font-size=\"14.00\">class = versicolor</text>\r\n",
       "</g>\r\n",
       "<!-- 0&#45;&gt;2 -->\r\n",
       "<g id=\"edge2\" class=\"edge\"><title>0&#45;&gt;2</title>\r\n",
       "<path fill=\"none\" stroke=\"black\" d=\"M219.368,-579.907C225.086,-571.105 231.193,-561.703 237.098,-552.612\"/>\r\n",
       "<polygon fill=\"black\" stroke=\"black\" points=\"240.167,-554.313 242.679,-544.021 234.296,-550.5 240.167,-554.313\"/>\r\n",
       "<text text-anchor=\"middle\" x=\"247.874\" y=\"-564.775\" font-family=\"Times New Roman,serif\" font-size=\"14.00\">False</text>\r\n",
       "</g>\r\n",
       "<!-- 3 -->\r\n",
       "<g id=\"node4\" class=\"node\"><title>3</title>\r\n",
       "<polygon fill=\"#3ee684\" stroke=\"black\" points=\"261,-425 103,-425 103,-342 261,-342 261,-425\"/>\r\n",
       "<text text-anchor=\"middle\" x=\"182\" y=\"-409.8\" font-family=\"Times New Roman,serif\" font-size=\"14.00\">petal length (cm) &lt;= 5.25</text>\r\n",
       "<text text-anchor=\"middle\" x=\"182\" y=\"-394.8\" font-family=\"Times New Roman,serif\" font-size=\"14.00\">gini = 0.051</text>\r\n",
       "<text text-anchor=\"middle\" x=\"182\" y=\"-379.8\" font-family=\"Times New Roman,serif\" font-size=\"14.00\">samples = 38</text>\r\n",
       "<text text-anchor=\"middle\" x=\"182\" y=\"-364.8\" font-family=\"Times New Roman,serif\" font-size=\"14.00\">value = [0, 37, 1]</text>\r\n",
       "<text text-anchor=\"middle\" x=\"182\" y=\"-349.8\" font-family=\"Times New Roman,serif\" font-size=\"14.00\">class = versicolor</text>\r\n",
       "</g>\r\n",
       "<!-- 2&#45;&gt;3 -->\r\n",
       "<g id=\"edge3\" class=\"edge\"><title>2&#45;&gt;3</title>\r\n",
       "<path fill=\"none\" stroke=\"black\" d=\"M238.816,-460.907C232.135,-451.923 224.991,-442.315 218.101,-433.05\"/>\r\n",
       "<polygon fill=\"black\" stroke=\"black\" points=\"220.907,-430.957 212.131,-425.021 215.289,-435.134 220.907,-430.957\"/>\r\n",
       "</g>\r\n",
       "<!-- 6 -->\r\n",
       "<g id=\"node7\" class=\"node\"><title>6</title>\r\n",
       "<polygon fill=\"#8b49e7\" stroke=\"black\" points=\"434.5,-425 279.5,-425 279.5,-342 434.5,-342 434.5,-425\"/>\r\n",
       "<text text-anchor=\"middle\" x=\"357\" y=\"-409.8\" font-family=\"Times New Roman,serif\" font-size=\"14.00\">petal width (cm) &lt;= 1.75</text>\r\n",
       "<text text-anchor=\"middle\" x=\"357\" y=\"-394.8\" font-family=\"Times New Roman,serif\" font-size=\"14.00\">gini = 0.136</text>\r\n",
       "<text text-anchor=\"middle\" x=\"357\" y=\"-379.8\" font-family=\"Times New Roman,serif\" font-size=\"14.00\">samples = 41</text>\r\n",
       "<text text-anchor=\"middle\" x=\"357\" y=\"-364.8\" font-family=\"Times New Roman,serif\" font-size=\"14.00\">value = [0, 3, 38]</text>\r\n",
       "<text text-anchor=\"middle\" x=\"357\" y=\"-349.8\" font-family=\"Times New Roman,serif\" font-size=\"14.00\">class = virginica</text>\r\n",
       "</g>\r\n",
       "<!-- 2&#45;&gt;6 -->\r\n",
       "<g id=\"edge6\" class=\"edge\"><title>2&#45;&gt;6</title>\r\n",
       "<path fill=\"none\" stroke=\"black\" d=\"M299.531,-460.907C306.289,-451.923 313.515,-442.315 320.484,-433.05\"/>\r\n",
       "<polygon fill=\"black\" stroke=\"black\" points=\"323.309,-435.116 326.523,-425.021 317.715,-430.909 323.309,-435.116\"/>\r\n",
       "</g>\r\n",
       "<!-- 4 -->\r\n",
       "<g id=\"node5\" class=\"node\"><title>4</title>\r\n",
       "<polygon fill=\"#39e581\" stroke=\"black\" points=\"116,-298.5 0,-298.5 0,-230.5 116,-230.5 116,-298.5\"/>\r\n",
       "<text text-anchor=\"middle\" x=\"58\" y=\"-283.3\" font-family=\"Times New Roman,serif\" font-size=\"14.00\">gini = 0.0</text>\r\n",
       "<text text-anchor=\"middle\" x=\"58\" y=\"-268.3\" font-family=\"Times New Roman,serif\" font-size=\"14.00\">samples = 37</text>\r\n",
       "<text text-anchor=\"middle\" x=\"58\" y=\"-253.3\" font-family=\"Times New Roman,serif\" font-size=\"14.00\">value = [0, 37, 0]</text>\r\n",
       "<text text-anchor=\"middle\" x=\"58\" y=\"-238.3\" font-family=\"Times New Roman,serif\" font-size=\"14.00\">class = versicolor</text>\r\n",
       "</g>\r\n",
       "<!-- 3&#45;&gt;4 -->\r\n",
       "<g id=\"edge4\" class=\"edge\"><title>3&#45;&gt;4</title>\r\n",
       "<path fill=\"none\" stroke=\"black\" d=\"M138.979,-341.907C126.582,-330.211 113.066,-317.457 100.69,-305.78\"/>\r\n",
       "<polygon fill=\"black\" stroke=\"black\" points=\"102.827,-302.984 93.1513,-298.667 98.0227,-308.075 102.827,-302.984\"/>\r\n",
       "</g>\r\n",
       "<!-- 5 -->\r\n",
       "<g id=\"node6\" class=\"node\"><title>5</title>\r\n",
       "<polygon fill=\"#8139e5\" stroke=\"black\" points=\"241.5,-298.5 134.5,-298.5 134.5,-230.5 241.5,-230.5 241.5,-298.5\"/>\r\n",
       "<text text-anchor=\"middle\" x=\"188\" y=\"-283.3\" font-family=\"Times New Roman,serif\" font-size=\"14.00\">gini = 0.0</text>\r\n",
       "<text text-anchor=\"middle\" x=\"188\" y=\"-268.3\" font-family=\"Times New Roman,serif\" font-size=\"14.00\">samples = 1</text>\r\n",
       "<text text-anchor=\"middle\" x=\"188\" y=\"-253.3\" font-family=\"Times New Roman,serif\" font-size=\"14.00\">value = [0, 0, 1]</text>\r\n",
       "<text text-anchor=\"middle\" x=\"188\" y=\"-238.3\" font-family=\"Times New Roman,serif\" font-size=\"14.00\">class = virginica</text>\r\n",
       "</g>\r\n",
       "<!-- 3&#45;&gt;5 -->\r\n",
       "<g id=\"edge5\" class=\"edge\"><title>3&#45;&gt;5</title>\r\n",
       "<path fill=\"none\" stroke=\"black\" d=\"M184.082,-341.907C184.631,-331.204 185.225,-319.615 185.781,-308.776\"/>\r\n",
       "<polygon fill=\"black\" stroke=\"black\" points=\"189.282,-308.833 186.299,-298.667 182.291,-308.475 189.282,-308.833\"/>\r\n",
       "</g>\r\n",
       "<!-- 7 -->\r\n",
       "<g id=\"node8\" class=\"node\"><title>7</title>\r\n",
       "<polygon fill=\"#ffffff\" stroke=\"black\" points=\"431,-306 271,-306 271,-223 431,-223 431,-306\"/>\r\n",
       "<text text-anchor=\"middle\" x=\"351\" y=\"-290.8\" font-family=\"Times New Roman,serif\" font-size=\"14.00\">sepal length (cm) &lt;= 5.45</text>\r\n",
       "<text text-anchor=\"middle\" x=\"351\" y=\"-275.8\" font-family=\"Times New Roman,serif\" font-size=\"14.00\">gini = 0.5</text>\r\n",
       "<text text-anchor=\"middle\" x=\"351\" y=\"-260.8\" font-family=\"Times New Roman,serif\" font-size=\"14.00\">samples = 4</text>\r\n",
       "<text text-anchor=\"middle\" x=\"351\" y=\"-245.8\" font-family=\"Times New Roman,serif\" font-size=\"14.00\">value = [0, 2, 2]</text>\r\n",
       "<text text-anchor=\"middle\" x=\"351\" y=\"-230.8\" font-family=\"Times New Roman,serif\" font-size=\"14.00\">class = versicolor</text>\r\n",
       "</g>\r\n",
       "<!-- 6&#45;&gt;7 -->\r\n",
       "<g id=\"edge7\" class=\"edge\"><title>6&#45;&gt;7</title>\r\n",
       "<path fill=\"none\" stroke=\"black\" d=\"M354.918,-341.907C354.49,-333.558 354.034,-324.671 353.591,-316.02\"/>\r\n",
       "<polygon fill=\"black\" stroke=\"black\" points=\"357.086,-315.828 353.078,-306.021 350.095,-316.187 357.086,-315.828\"/>\r\n",
       "</g>\r\n",
       "<!-- 12 -->\r\n",
       "<g id=\"node13\" class=\"node\"><title>12</title>\r\n",
       "<polygon fill=\"#843ee6\" stroke=\"black\" points=\"607,-306 449,-306 449,-223 607,-223 607,-306\"/>\r\n",
       "<text text-anchor=\"middle\" x=\"528\" y=\"-290.8\" font-family=\"Times New Roman,serif\" font-size=\"14.00\">petal length (cm) &lt;= 4.85</text>\r\n",
       "<text text-anchor=\"middle\" x=\"528\" y=\"-275.8\" font-family=\"Times New Roman,serif\" font-size=\"14.00\">gini = 0.053</text>\r\n",
       "<text text-anchor=\"middle\" x=\"528\" y=\"-260.8\" font-family=\"Times New Roman,serif\" font-size=\"14.00\">samples = 37</text>\r\n",
       "<text text-anchor=\"middle\" x=\"528\" y=\"-245.8\" font-family=\"Times New Roman,serif\" font-size=\"14.00\">value = [0, 1, 36]</text>\r\n",
       "<text text-anchor=\"middle\" x=\"528\" y=\"-230.8\" font-family=\"Times New Roman,serif\" font-size=\"14.00\">class = virginica</text>\r\n",
       "</g>\r\n",
       "<!-- 6&#45;&gt;12 -->\r\n",
       "<g id=\"edge12\" class=\"edge\"><title>6&#45;&gt;12</title>\r\n",
       "<path fill=\"none\" stroke=\"black\" d=\"M416.328,-341.907C430.52,-332.197 445.776,-321.758 460.314,-311.811\"/>\r\n",
       "<polygon fill=\"black\" stroke=\"black\" points=\"462.501,-314.556 468.777,-306.021 458.548,-308.779 462.501,-314.556\"/>\r\n",
       "</g>\r\n",
       "<!-- 8 -->\r\n",
       "<g id=\"node9\" class=\"node\"><title>8</title>\r\n",
       "<polygon fill=\"#8139e5\" stroke=\"black\" points=\"253.5,-179.5 146.5,-179.5 146.5,-111.5 253.5,-111.5 253.5,-179.5\"/>\r\n",
       "<text text-anchor=\"middle\" x=\"200\" y=\"-164.3\" font-family=\"Times New Roman,serif\" font-size=\"14.00\">gini = 0.0</text>\r\n",
       "<text text-anchor=\"middle\" x=\"200\" y=\"-149.3\" font-family=\"Times New Roman,serif\" font-size=\"14.00\">samples = 1</text>\r\n",
       "<text text-anchor=\"middle\" x=\"200\" y=\"-134.3\" font-family=\"Times New Roman,serif\" font-size=\"14.00\">value = [0, 0, 1]</text>\r\n",
       "<text text-anchor=\"middle\" x=\"200\" y=\"-119.3\" font-family=\"Times New Roman,serif\" font-size=\"14.00\">class = virginica</text>\r\n",
       "</g>\r\n",
       "<!-- 7&#45;&gt;8 -->\r\n",
       "<g id=\"edge8\" class=\"edge\"><title>7&#45;&gt;8</title>\r\n",
       "<path fill=\"none\" stroke=\"black\" d=\"M298.611,-222.907C283.231,-210.99 266.434,-197.976 251.133,-186.12\"/>\r\n",
       "<polygon fill=\"black\" stroke=\"black\" points=\"252.854,-183.025 242.805,-179.667 248.566,-188.559 252.854,-183.025\"/>\r\n",
       "</g>\r\n",
       "<!-- 9 -->\r\n",
       "<g id=\"node10\" class=\"node\"><title>9</title>\r\n",
       "<polygon fill=\"#9cf2c0\" stroke=\"black\" points=\"430,-187 272,-187 272,-104 430,-104 430,-187\"/>\r\n",
       "<text text-anchor=\"middle\" x=\"351\" y=\"-171.8\" font-family=\"Times New Roman,serif\" font-size=\"14.00\">petal length (cm) &lt;= 5.45</text>\r\n",
       "<text text-anchor=\"middle\" x=\"351\" y=\"-156.8\" font-family=\"Times New Roman,serif\" font-size=\"14.00\">gini = 0.444</text>\r\n",
       "<text text-anchor=\"middle\" x=\"351\" y=\"-141.8\" font-family=\"Times New Roman,serif\" font-size=\"14.00\">samples = 3</text>\r\n",
       "<text text-anchor=\"middle\" x=\"351\" y=\"-126.8\" font-family=\"Times New Roman,serif\" font-size=\"14.00\">value = [0, 2, 1]</text>\r\n",
       "<text text-anchor=\"middle\" x=\"351\" y=\"-111.8\" font-family=\"Times New Roman,serif\" font-size=\"14.00\">class = versicolor</text>\r\n",
       "</g>\r\n",
       "<!-- 7&#45;&gt;9 -->\r\n",
       "<g id=\"edge9\" class=\"edge\"><title>7&#45;&gt;9</title>\r\n",
       "<path fill=\"none\" stroke=\"black\" d=\"M351,-222.907C351,-214.649 351,-205.864 351,-197.302\"/>\r\n",
       "<polygon fill=\"black\" stroke=\"black\" points=\"354.5,-197.021 351,-187.021 347.5,-197.021 354.5,-197.021\"/>\r\n",
       "</g>\r\n",
       "<!-- 10 -->\r\n",
       "<g id=\"node11\" class=\"node\"><title>10</title>\r\n",
       "<polygon fill=\"#39e581\" stroke=\"black\" points=\"291,-68 175,-68 175,-0 291,-0 291,-68\"/>\r\n",
       "<text text-anchor=\"middle\" x=\"233\" y=\"-52.8\" font-family=\"Times New Roman,serif\" font-size=\"14.00\">gini = 0.0</text>\r\n",
       "<text text-anchor=\"middle\" x=\"233\" y=\"-37.8\" font-family=\"Times New Roman,serif\" font-size=\"14.00\">samples = 2</text>\r\n",
       "<text text-anchor=\"middle\" x=\"233\" y=\"-22.8\" font-family=\"Times New Roman,serif\" font-size=\"14.00\">value = [0, 2, 0]</text>\r\n",
       "<text text-anchor=\"middle\" x=\"233\" y=\"-7.8\" font-family=\"Times New Roman,serif\" font-size=\"14.00\">class = versicolor</text>\r\n",
       "</g>\r\n",
       "<!-- 9&#45;&gt;10 -->\r\n",
       "<g id=\"edge10\" class=\"edge\"><title>9&#45;&gt;10</title>\r\n",
       "<path fill=\"none\" stroke=\"black\" d=\"M307.061,-103.726C297.036,-94.423 286.389,-84.5428 276.386,-75.2612\"/>\r\n",
       "<polygon fill=\"black\" stroke=\"black\" points=\"278.595,-72.5362 268.884,-68.2996 273.834,-77.6673 278.595,-72.5362\"/>\r\n",
       "</g>\r\n",
       "<!-- 11 -->\r\n",
       "<g id=\"node12\" class=\"node\"><title>11</title>\r\n",
       "<polygon fill=\"#8139e5\" stroke=\"black\" points=\"416.5,-68 309.5,-68 309.5,-0 416.5,-0 416.5,-68\"/>\r\n",
       "<text text-anchor=\"middle\" x=\"363\" y=\"-52.8\" font-family=\"Times New Roman,serif\" font-size=\"14.00\">gini = 0.0</text>\r\n",
       "<text text-anchor=\"middle\" x=\"363\" y=\"-37.8\" font-family=\"Times New Roman,serif\" font-size=\"14.00\">samples = 1</text>\r\n",
       "<text text-anchor=\"middle\" x=\"363\" y=\"-22.8\" font-family=\"Times New Roman,serif\" font-size=\"14.00\">value = [0, 0, 1]</text>\r\n",
       "<text text-anchor=\"middle\" x=\"363\" y=\"-7.8\" font-family=\"Times New Roman,serif\" font-size=\"14.00\">class = virginica</text>\r\n",
       "</g>\r\n",
       "<!-- 9&#45;&gt;11 -->\r\n",
       "<g id=\"edge11\" class=\"edge\"><title>9&#45;&gt;11</title>\r\n",
       "<path fill=\"none\" stroke=\"black\" d=\"M355.468,-103.726C356.378,-95.4263 357.338,-86.6671 358.257,-78.2834\"/>\r\n",
       "<polygon fill=\"black\" stroke=\"black\" points=\"361.74,-78.6214 359.351,-68.2996 354.782,-77.8588 361.74,-78.6214\"/>\r\n",
       "</g>\r\n",
       "<!-- 13 -->\r\n",
       "<g id=\"node14\" class=\"node\"><title>13</title>\r\n",
       "<polygon fill=\"#c09cf2\" stroke=\"black\" points=\"608,-187 448,-187 448,-104 608,-104 608,-187\"/>\r\n",
       "<text text-anchor=\"middle\" x=\"528\" y=\"-171.8\" font-family=\"Times New Roman,serif\" font-size=\"14.00\">sepal length (cm) &lt;= 5.95</text>\r\n",
       "<text text-anchor=\"middle\" x=\"528\" y=\"-156.8\" font-family=\"Times New Roman,serif\" font-size=\"14.00\">gini = 0.444</text>\r\n",
       "<text text-anchor=\"middle\" x=\"528\" y=\"-141.8\" font-family=\"Times New Roman,serif\" font-size=\"14.00\">samples = 3</text>\r\n",
       "<text text-anchor=\"middle\" x=\"528\" y=\"-126.8\" font-family=\"Times New Roman,serif\" font-size=\"14.00\">value = [0, 1, 2]</text>\r\n",
       "<text text-anchor=\"middle\" x=\"528\" y=\"-111.8\" font-family=\"Times New Roman,serif\" font-size=\"14.00\">class = virginica</text>\r\n",
       "</g>\r\n",
       "<!-- 12&#45;&gt;13 -->\r\n",
       "<g id=\"edge13\" class=\"edge\"><title>12&#45;&gt;13</title>\r\n",
       "<path fill=\"none\" stroke=\"black\" d=\"M528,-222.907C528,-214.649 528,-205.864 528,-197.302\"/>\r\n",
       "<polygon fill=\"black\" stroke=\"black\" points=\"531.5,-197.021 528,-187.021 524.5,-197.021 531.5,-197.021\"/>\r\n",
       "</g>\r\n",
       "<!-- 16 -->\r\n",
       "<g id=\"node17\" class=\"node\"><title>16</title>\r\n",
       "<polygon fill=\"#8139e5\" stroke=\"black\" points=\"738,-179.5 626,-179.5 626,-111.5 738,-111.5 738,-179.5\"/>\r\n",
       "<text text-anchor=\"middle\" x=\"682\" y=\"-164.3\" font-family=\"Times New Roman,serif\" font-size=\"14.00\">gini = 0.0</text>\r\n",
       "<text text-anchor=\"middle\" x=\"682\" y=\"-149.3\" font-family=\"Times New Roman,serif\" font-size=\"14.00\">samples = 34</text>\r\n",
       "<text text-anchor=\"middle\" x=\"682\" y=\"-134.3\" font-family=\"Times New Roman,serif\" font-size=\"14.00\">value = [0, 0, 34]</text>\r\n",
       "<text text-anchor=\"middle\" x=\"682\" y=\"-119.3\" font-family=\"Times New Roman,serif\" font-size=\"14.00\">class = virginica</text>\r\n",
       "</g>\r\n",
       "<!-- 12&#45;&gt;16 -->\r\n",
       "<g id=\"edge16\" class=\"edge\"><title>12&#45;&gt;16</title>\r\n",
       "<path fill=\"none\" stroke=\"black\" d=\"M581.43,-222.907C597.261,-210.88 614.563,-197.735 630.284,-185.791\"/>\r\n",
       "<polygon fill=\"black\" stroke=\"black\" points=\"632.499,-188.503 638.344,-179.667 628.264,-182.93 632.499,-188.503\"/>\r\n",
       "</g>\r\n",
       "<!-- 14 -->\r\n",
       "<g id=\"node15\" class=\"node\"><title>14</title>\r\n",
       "<polygon fill=\"#39e581\" stroke=\"black\" points=\"574,-68 458,-68 458,-0 574,-0 574,-68\"/>\r\n",
       "<text text-anchor=\"middle\" x=\"516\" y=\"-52.8\" font-family=\"Times New Roman,serif\" font-size=\"14.00\">gini = 0.0</text>\r\n",
       "<text text-anchor=\"middle\" x=\"516\" y=\"-37.8\" font-family=\"Times New Roman,serif\" font-size=\"14.00\">samples = 1</text>\r\n",
       "<text text-anchor=\"middle\" x=\"516\" y=\"-22.8\" font-family=\"Times New Roman,serif\" font-size=\"14.00\">value = [0, 1, 0]</text>\r\n",
       "<text text-anchor=\"middle\" x=\"516\" y=\"-7.8\" font-family=\"Times New Roman,serif\" font-size=\"14.00\">class = versicolor</text>\r\n",
       "</g>\r\n",
       "<!-- 13&#45;&gt;14 -->\r\n",
       "<g id=\"edge14\" class=\"edge\"><title>13&#45;&gt;14</title>\r\n",
       "<path fill=\"none\" stroke=\"black\" d=\"M523.532,-103.726C522.622,-95.4263 521.662,-86.6671 520.743,-78.2834\"/>\r\n",
       "<polygon fill=\"black\" stroke=\"black\" points=\"524.218,-77.8588 519.649,-68.2996 517.26,-78.6214 524.218,-77.8588\"/>\r\n",
       "</g>\r\n",
       "<!-- 15 -->\r\n",
       "<g id=\"node16\" class=\"node\"><title>15</title>\r\n",
       "<polygon fill=\"#8139e5\" stroke=\"black\" points=\"699.5,-68 592.5,-68 592.5,-0 699.5,-0 699.5,-68\"/>\r\n",
       "<text text-anchor=\"middle\" x=\"646\" y=\"-52.8\" font-family=\"Times New Roman,serif\" font-size=\"14.00\">gini = 0.0</text>\r\n",
       "<text text-anchor=\"middle\" x=\"646\" y=\"-37.8\" font-family=\"Times New Roman,serif\" font-size=\"14.00\">samples = 2</text>\r\n",
       "<text text-anchor=\"middle\" x=\"646\" y=\"-22.8\" font-family=\"Times New Roman,serif\" font-size=\"14.00\">value = [0, 0, 2]</text>\r\n",
       "<text text-anchor=\"middle\" x=\"646\" y=\"-7.8\" font-family=\"Times New Roman,serif\" font-size=\"14.00\">class = virginica</text>\r\n",
       "</g>\r\n",
       "<!-- 13&#45;&gt;15 -->\r\n",
       "<g id=\"edge15\" class=\"edge\"><title>13&#45;&gt;15</title>\r\n",
       "<path fill=\"none\" stroke=\"black\" d=\"M571.939,-103.726C581.964,-94.423 592.611,-84.5428 602.614,-75.2612\"/>\r\n",
       "<polygon fill=\"black\" stroke=\"black\" points=\"605.166,-77.6673 610.116,-68.2996 600.405,-72.5362 605.166,-77.6673\"/>\r\n",
       "</g>\r\n",
       "</g>\r\n",
       "</svg>\r\n"
      ],
      "text/plain": [
       "<graphviz.files.Source at 0x1c5fc39e4e0>"
      ]
     },
     "execution_count": 3,
     "metadata": {},
     "output_type": "execute_result"
    }
   ],
   "source": [
    "import graphviz\n",
    "\n",
    "# 위에서 생성된 tree.dot 파일을 Graphviz가 읽어서 주피터 노트북상에서 시각화\n",
    "with open('tree.dot') as f:\n",
    "    dot_graph = f.read()\n",
    "\n",
    "graphviz.Source(dot_graph)"
   ]
  },
  {
   "cell_type": "markdown",
   "metadata": {},
   "source": [
    "    각 규칙에 따라 트리의 브랜치(Branch) 노트와 말단 노트(leaf) 노드가 어떻게 구성되는지 알 수 있게 시각화돼 있습니다.\n",
    "    더 이상 자식 노드가 없는 노드는 리프 노드입니다. 리프 노드는 최종 클래스(레이블) 값이 결정되는 노드입니다. 리프 노드가 되려면 오직 하나의 클래스 값으로 최종 데이터가 구성되거나 리프 노드가 될 수 있는 하이퍼 파라미터 조건을 충족하면 됩니다. 자식 노드가 잇는 노드는 브랜치 노드이며 자식 노드를 만들기 위한 분할 규칙 조건을 가지고 있습니다"
   ]
  },
  {
   "cell_type": "markdown",
   "metadata": {},
   "source": [
    "     Graphviz를 이용하면 결정 트리 알고리즘의 규칙 생성 트리를 시각적으로 표현\n",
    "     \n",
    "     결정 트리는 규칙 생성 로직을 미리 제어하지 않으면 완벽하게 클래스 값을 구별해내기 위해 트리 노드를 계속해서 만들어 갑니다.\n",
    "     결국 매우 복잡한 규칙 트리가 만들어져 모델이 쉽게 과적합되는 문제점을 가지게 됩니다. 결정 트리 알고리즘을 제어하는 대부분 하이퍼 파라미터는 복잡한 트리가 생성되는 것을 막기 위한 용도입니다."
   ]
  },
  {
   "cell_type": "markdown",
   "metadata": {},
   "source": [
    " 결정 트리의 max_depth 하이퍼 파라미터 변경에 따른 변화를 나타낸 것입니다. max_depth는 결정 트리의 최대 트리 깊이를 제어합니다."
   ]
  },
  {
   "cell_type": "code",
   "execution_count": 6,
   "metadata": {
    "collapsed": true
   },
   "outputs": [
    {
     "data": {
      "image/svg+xml": [
       "<?xml version=\"1.0\" encoding=\"UTF-8\" standalone=\"no\"?>\r\n",
       "<!DOCTYPE svg PUBLIC \"-//W3C//DTD SVG 1.1//EN\"\r\n",
       " \"http://www.w3.org/Graphics/SVG/1.1/DTD/svg11.dtd\">\r\n",
       "<!-- Generated by graphviz version 2.38.0 (20140413.2041)\r\n",
       " -->\r\n",
       "<!-- Title: Tree Pages: 1 -->\r\n",
       "<svg width=\"536pt\" height=\"433pt\"\r\n",
       " viewBox=\"0.00 0.00 536.00 433.00\" xmlns=\"http://www.w3.org/2000/svg\" xmlns:xlink=\"http://www.w3.org/1999/xlink\">\r\n",
       "<g id=\"graph0\" class=\"graph\" transform=\"scale(1 1) rotate(0) translate(4 429)\">\r\n",
       "<title>Tree</title>\r\n",
       "<polygon fill=\"white\" stroke=\"none\" points=\"-4,4 -4,-429 532,-429 532,4 -4,4\"/>\r\n",
       "<!-- 0 -->\r\n",
       "<g id=\"node1\" class=\"node\"><title>0</title>\r\n",
       "<polygon fill=\"#fffdfd\" stroke=\"black\" points=\"266,-425 108,-425 108,-342 266,-342 266,-425\"/>\r\n",
       "<text text-anchor=\"middle\" x=\"187\" y=\"-409.8\" font-family=\"Times New Roman,serif\" font-size=\"14.00\">petal length (cm) &lt;= 2.45</text>\r\n",
       "<text text-anchor=\"middle\" x=\"187\" y=\"-394.8\" font-family=\"Times New Roman,serif\" font-size=\"14.00\">gini = 0.667</text>\r\n",
       "<text text-anchor=\"middle\" x=\"187\" y=\"-379.8\" font-family=\"Times New Roman,serif\" font-size=\"14.00\">samples = 120</text>\r\n",
       "<text text-anchor=\"middle\" x=\"187\" y=\"-364.8\" font-family=\"Times New Roman,serif\" font-size=\"14.00\">value = [41, 40, 39]</text>\r\n",
       "<text text-anchor=\"middle\" x=\"187\" y=\"-349.8\" font-family=\"Times New Roman,serif\" font-size=\"14.00\">class = setosa</text>\r\n",
       "</g>\r\n",
       "<!-- 1 -->\r\n",
       "<g id=\"node2\" class=\"node\"><title>1</title>\r\n",
       "<polygon fill=\"#e58139\" stroke=\"black\" points=\"167,-298.5 55,-298.5 55,-230.5 167,-230.5 167,-298.5\"/>\r\n",
       "<text text-anchor=\"middle\" x=\"111\" y=\"-283.3\" font-family=\"Times New Roman,serif\" font-size=\"14.00\">gini = 0.0</text>\r\n",
       "<text text-anchor=\"middle\" x=\"111\" y=\"-268.3\" font-family=\"Times New Roman,serif\" font-size=\"14.00\">samples = 41</text>\r\n",
       "<text text-anchor=\"middle\" x=\"111\" y=\"-253.3\" font-family=\"Times New Roman,serif\" font-size=\"14.00\">value = [41, 0, 0]</text>\r\n",
       "<text text-anchor=\"middle\" x=\"111\" y=\"-238.3\" font-family=\"Times New Roman,serif\" font-size=\"14.00\">class = setosa</text>\r\n",
       "</g>\r\n",
       "<!-- 0&#45;&gt;1 -->\r\n",
       "<g id=\"edge1\" class=\"edge\"><title>0&#45;&gt;1</title>\r\n",
       "<path fill=\"none\" stroke=\"black\" d=\"M160.632,-341.907C153.321,-330.652 145.374,-318.418 138.026,-307.106\"/>\r\n",
       "<polygon fill=\"black\" stroke=\"black\" points=\"140.927,-305.146 132.544,-298.667 135.057,-308.96 140.927,-305.146\"/>\r\n",
       "<text text-anchor=\"middle\" x=\"127.349\" y=\"-319.421\" font-family=\"Times New Roman,serif\" font-size=\"14.00\">True</text>\r\n",
       "</g>\r\n",
       "<!-- 2 -->\r\n",
       "<g id=\"node3\" class=\"node\"><title>2</title>\r\n",
       "<polygon fill=\"#fafefc\" stroke=\"black\" points=\"340.5,-306 185.5,-306 185.5,-223 340.5,-223 340.5,-306\"/>\r\n",
       "<text text-anchor=\"middle\" x=\"263\" y=\"-290.8\" font-family=\"Times New Roman,serif\" font-size=\"14.00\">petal width (cm) &lt;= 1.55</text>\r\n",
       "<text text-anchor=\"middle\" x=\"263\" y=\"-275.8\" font-family=\"Times New Roman,serif\" font-size=\"14.00\">gini = 0.5</text>\r\n",
       "<text text-anchor=\"middle\" x=\"263\" y=\"-260.8\" font-family=\"Times New Roman,serif\" font-size=\"14.00\">samples = 79</text>\r\n",
       "<text text-anchor=\"middle\" x=\"263\" y=\"-245.8\" font-family=\"Times New Roman,serif\" font-size=\"14.00\">value = [0, 40, 39]</text>\r\n",
       "<text text-anchor=\"middle\" x=\"263\" y=\"-230.8\" font-family=\"Times New Roman,serif\" font-size=\"14.00\">class = versicolor</text>\r\n",
       "</g>\r\n",
       "<!-- 0&#45;&gt;2 -->\r\n",
       "<g id=\"edge2\" class=\"edge\"><title>0&#45;&gt;2</title>\r\n",
       "<path fill=\"none\" stroke=\"black\" d=\"M213.368,-341.907C219.086,-333.105 225.193,-323.703 231.098,-314.612\"/>\r\n",
       "<polygon fill=\"black\" stroke=\"black\" points=\"234.167,-316.313 236.679,-306.021 228.296,-312.5 234.167,-316.313\"/>\r\n",
       "<text text-anchor=\"middle\" x=\"241.874\" y=\"-326.775\" font-family=\"Times New Roman,serif\" font-size=\"14.00\">False</text>\r\n",
       "</g>\r\n",
       "<!-- 3 -->\r\n",
       "<g id=\"node4\" class=\"node\"><title>3</title>\r\n",
       "<polygon fill=\"#3ee684\" stroke=\"black\" points=\"255,-187 97,-187 97,-104 255,-104 255,-187\"/>\r\n",
       "<text text-anchor=\"middle\" x=\"176\" y=\"-171.8\" font-family=\"Times New Roman,serif\" font-size=\"14.00\">petal length (cm) &lt;= 5.25</text>\r\n",
       "<text text-anchor=\"middle\" x=\"176\" y=\"-156.8\" font-family=\"Times New Roman,serif\" font-size=\"14.00\">gini = 0.051</text>\r\n",
       "<text text-anchor=\"middle\" x=\"176\" y=\"-141.8\" font-family=\"Times New Roman,serif\" font-size=\"14.00\">samples = 38</text>\r\n",
       "<text text-anchor=\"middle\" x=\"176\" y=\"-126.8\" font-family=\"Times New Roman,serif\" font-size=\"14.00\">value = [0, 37, 1]</text>\r\n",
       "<text text-anchor=\"middle\" x=\"176\" y=\"-111.8\" font-family=\"Times New Roman,serif\" font-size=\"14.00\">class = versicolor</text>\r\n",
       "</g>\r\n",
       "<!-- 2&#45;&gt;3 -->\r\n",
       "<g id=\"edge3\" class=\"edge\"><title>2&#45;&gt;3</title>\r\n",
       "<path fill=\"none\" stroke=\"black\" d=\"M232.816,-222.907C226.135,-213.923 218.991,-204.315 212.101,-195.05\"/>\r\n",
       "<polygon fill=\"black\" stroke=\"black\" points=\"214.907,-192.957 206.131,-187.021 209.289,-197.134 214.907,-192.957\"/>\r\n",
       "</g>\r\n",
       "<!-- 6 -->\r\n",
       "<g id=\"node7\" class=\"node\"><title>6</title>\r\n",
       "<polygon fill=\"#8b49e7\" stroke=\"black\" points=\"428.5,-187 273.5,-187 273.5,-104 428.5,-104 428.5,-187\"/>\r\n",
       "<text text-anchor=\"middle\" x=\"351\" y=\"-171.8\" font-family=\"Times New Roman,serif\" font-size=\"14.00\">petal width (cm) &lt;= 1.75</text>\r\n",
       "<text text-anchor=\"middle\" x=\"351\" y=\"-156.8\" font-family=\"Times New Roman,serif\" font-size=\"14.00\">gini = 0.136</text>\r\n",
       "<text text-anchor=\"middle\" x=\"351\" y=\"-141.8\" font-family=\"Times New Roman,serif\" font-size=\"14.00\">samples = 41</text>\r\n",
       "<text text-anchor=\"middle\" x=\"351\" y=\"-126.8\" font-family=\"Times New Roman,serif\" font-size=\"14.00\">value = [0, 3, 38]</text>\r\n",
       "<text text-anchor=\"middle\" x=\"351\" y=\"-111.8\" font-family=\"Times New Roman,serif\" font-size=\"14.00\">class = virginica</text>\r\n",
       "</g>\r\n",
       "<!-- 2&#45;&gt;6 -->\r\n",
       "<g id=\"edge6\" class=\"edge\"><title>2&#45;&gt;6</title>\r\n",
       "<path fill=\"none\" stroke=\"black\" d=\"M293.531,-222.907C300.289,-213.923 307.515,-204.315 314.484,-195.05\"/>\r\n",
       "<polygon fill=\"black\" stroke=\"black\" points=\"317.309,-197.116 320.523,-187.021 311.715,-192.909 317.309,-197.116\"/>\r\n",
       "</g>\r\n",
       "<!-- 4 -->\r\n",
       "<g id=\"node5\" class=\"node\"><title>4</title>\r\n",
       "<polygon fill=\"#39e581\" stroke=\"black\" points=\"116,-68 0,-68 0,-0 116,-0 116,-68\"/>\r\n",
       "<text text-anchor=\"middle\" x=\"58\" y=\"-52.8\" font-family=\"Times New Roman,serif\" font-size=\"14.00\">gini = 0.0</text>\r\n",
       "<text text-anchor=\"middle\" x=\"58\" y=\"-37.8\" font-family=\"Times New Roman,serif\" font-size=\"14.00\">samples = 37</text>\r\n",
       "<text text-anchor=\"middle\" x=\"58\" y=\"-22.8\" font-family=\"Times New Roman,serif\" font-size=\"14.00\">value = [0, 37, 0]</text>\r\n",
       "<text text-anchor=\"middle\" x=\"58\" y=\"-7.8\" font-family=\"Times New Roman,serif\" font-size=\"14.00\">class = versicolor</text>\r\n",
       "</g>\r\n",
       "<!-- 3&#45;&gt;4 -->\r\n",
       "<g id=\"edge4\" class=\"edge\"><title>3&#45;&gt;4</title>\r\n",
       "<path fill=\"none\" stroke=\"black\" d=\"M132.061,-103.726C122.036,-94.423 111.389,-84.5428 101.386,-75.2612\"/>\r\n",
       "<polygon fill=\"black\" stroke=\"black\" points=\"103.595,-72.5362 93.8845,-68.2996 98.8339,-77.6673 103.595,-72.5362\"/>\r\n",
       "</g>\r\n",
       "<!-- 5 -->\r\n",
       "<g id=\"node6\" class=\"node\"><title>5</title>\r\n",
       "<polygon fill=\"#8139e5\" stroke=\"black\" points=\"241.5,-68 134.5,-68 134.5,-0 241.5,-0 241.5,-68\"/>\r\n",
       "<text text-anchor=\"middle\" x=\"188\" y=\"-52.8\" font-family=\"Times New Roman,serif\" font-size=\"14.00\">gini = 0.0</text>\r\n",
       "<text text-anchor=\"middle\" x=\"188\" y=\"-37.8\" font-family=\"Times New Roman,serif\" font-size=\"14.00\">samples = 1</text>\r\n",
       "<text text-anchor=\"middle\" x=\"188\" y=\"-22.8\" font-family=\"Times New Roman,serif\" font-size=\"14.00\">value = [0, 0, 1]</text>\r\n",
       "<text text-anchor=\"middle\" x=\"188\" y=\"-7.8\" font-family=\"Times New Roman,serif\" font-size=\"14.00\">class = virginica</text>\r\n",
       "</g>\r\n",
       "<!-- 3&#45;&gt;5 -->\r\n",
       "<g id=\"edge5\" class=\"edge\"><title>3&#45;&gt;5</title>\r\n",
       "<path fill=\"none\" stroke=\"black\" d=\"M180.468,-103.726C181.378,-95.4263 182.338,-86.6671 183.257,-78.2834\"/>\r\n",
       "<polygon fill=\"black\" stroke=\"black\" points=\"186.74,-78.6214 184.351,-68.2996 179.782,-77.8588 186.74,-78.6214\"/>\r\n",
       "</g>\r\n",
       "<!-- 7 -->\r\n",
       "<g id=\"node8\" class=\"node\"><title>7</title>\r\n",
       "<polygon fill=\"#ffffff\" stroke=\"black\" points=\"398,-68 282,-68 282,-0 398,-0 398,-68\"/>\r\n",
       "<text text-anchor=\"middle\" x=\"340\" y=\"-52.8\" font-family=\"Times New Roman,serif\" font-size=\"14.00\">gini = 0.5</text>\r\n",
       "<text text-anchor=\"middle\" x=\"340\" y=\"-37.8\" font-family=\"Times New Roman,serif\" font-size=\"14.00\">samples = 4</text>\r\n",
       "<text text-anchor=\"middle\" x=\"340\" y=\"-22.8\" font-family=\"Times New Roman,serif\" font-size=\"14.00\">value = [0, 2, 2]</text>\r\n",
       "<text text-anchor=\"middle\" x=\"340\" y=\"-7.8\" font-family=\"Times New Roman,serif\" font-size=\"14.00\">class = versicolor</text>\r\n",
       "</g>\r\n",
       "<!-- 6&#45;&gt;7 -->\r\n",
       "<g id=\"edge7\" class=\"edge\"><title>6&#45;&gt;7</title>\r\n",
       "<path fill=\"none\" stroke=\"black\" d=\"M346.904,-103.726C346.07,-95.4263 345.19,-86.6671 344.348,-78.2834\"/>\r\n",
       "<polygon fill=\"black\" stroke=\"black\" points=\"347.827,-77.8997 343.345,-68.2996 340.862,-78.5994 347.827,-77.8997\"/>\r\n",
       "</g>\r\n",
       "<!-- 8 -->\r\n",
       "<g id=\"node9\" class=\"node\"><title>8</title>\r\n",
       "<polygon fill=\"#843ee6\" stroke=\"black\" points=\"528,-68 416,-68 416,-0 528,-0 528,-68\"/>\r\n",
       "<text text-anchor=\"middle\" x=\"472\" y=\"-52.8\" font-family=\"Times New Roman,serif\" font-size=\"14.00\">gini = 0.053</text>\r\n",
       "<text text-anchor=\"middle\" x=\"472\" y=\"-37.8\" font-family=\"Times New Roman,serif\" font-size=\"14.00\">samples = 37</text>\r\n",
       "<text text-anchor=\"middle\" x=\"472\" y=\"-22.8\" font-family=\"Times New Roman,serif\" font-size=\"14.00\">value = [0, 1, 36]</text>\r\n",
       "<text text-anchor=\"middle\" x=\"472\" y=\"-7.8\" font-family=\"Times New Roman,serif\" font-size=\"14.00\">class = virginica</text>\r\n",
       "</g>\r\n",
       "<!-- 6&#45;&gt;8 -->\r\n",
       "<g id=\"edge8\" class=\"edge\"><title>6&#45;&gt;8</title>\r\n",
       "<path fill=\"none\" stroke=\"black\" d=\"M396.056,-103.726C406.336,-94.423 417.254,-84.5428 427.511,-75.2612\"/>\r\n",
       "<polygon fill=\"black\" stroke=\"black\" points=\"430.137,-77.6047 435.203,-68.2996 425.44,-72.4144 430.137,-77.6047\"/>\r\n",
       "</g>\r\n",
       "</g>\r\n",
       "</svg>\r\n"
      ],
      "text/plain": [
       "<graphviz.files.Source at 0x240e4195be0>"
      ]
     },
     "execution_count": 6,
     "metadata": {},
     "output_type": "execute_result"
    }
   ],
   "source": [
    "# DecisionTree Classifier 생서\n",
    "dt_clf = DecisionTreeClassifier(random_state=156, max_depth=3)\n",
    "\n",
    "# DecisionTreeClassifier 학습.\n",
    "dt_clf.fit(X_train, y_train)\n",
    "\n",
    "export_graphviz(dt_clf, out_file='tree.dot', class_names=iris_data.target_names, feature_names=iris_data.feature_names,\n",
    "                impurity=True, filled=True, max_depth=3)\n",
    "\n",
    "with open('tree.dot') as f:\n",
    "    dot_graph = f.read()\n",
    "\n",
    "graphviz.Source(dot_graph)"
   ]
  },
  {
   "cell_type": "markdown",
   "metadata": {},
   "source": [
    " min_samples_split는 자식 규칙 노드를 분할해 만들기 위한 최소한의 샘플 데이터 개수입니다. min_samples_split=4로 설정한 경우 서로 상이한 클래스 값이 있어도 더이상 분할하지 않고 리프 노드가 됩니다."
   ]
  },
  {
   "cell_type": "code",
   "execution_count": 7,
   "metadata": {
    "collapsed": true
   },
   "outputs": [
    {
     "data": {
      "image/svg+xml": [
       "<?xml version=\"1.0\" encoding=\"UTF-8\" standalone=\"no\"?>\r\n",
       "<!DOCTYPE svg PUBLIC \"-//W3C//DTD SVG 1.1//EN\"\r\n",
       " \"http://www.w3.org/Graphics/SVG/1.1/DTD/svg11.dtd\">\r\n",
       "<!-- Generated by graphviz version 2.38.0 (20140413.2041)\r\n",
       " -->\r\n",
       "<!-- Title: Tree Pages: 1 -->\r\n",
       "<svg width=\"708pt\" height=\"552pt\"\r\n",
       " viewBox=\"0.00 0.00 708.00 552.00\" xmlns=\"http://www.w3.org/2000/svg\" xmlns:xlink=\"http://www.w3.org/1999/xlink\">\r\n",
       "<g id=\"graph0\" class=\"graph\" transform=\"scale(1 1) rotate(0) translate(4 548)\">\r\n",
       "<title>Tree</title>\r\n",
       "<polygon fill=\"white\" stroke=\"none\" points=\"-4,4 -4,-548 704,-548 704,4 -4,4\"/>\r\n",
       "<!-- 0 -->\r\n",
       "<g id=\"node1\" class=\"node\"><title>0</title>\r\n",
       "<polygon fill=\"#fffdfd\" stroke=\"black\" points=\"272,-544 114,-544 114,-461 272,-461 272,-544\"/>\r\n",
       "<text text-anchor=\"middle\" x=\"193\" y=\"-528.8\" font-family=\"Times New Roman,serif\" font-size=\"14.00\">petal length (cm) &lt;= 2.45</text>\r\n",
       "<text text-anchor=\"middle\" x=\"193\" y=\"-513.8\" font-family=\"Times New Roman,serif\" font-size=\"14.00\">gini = 0.667</text>\r\n",
       "<text text-anchor=\"middle\" x=\"193\" y=\"-498.8\" font-family=\"Times New Roman,serif\" font-size=\"14.00\">samples = 120</text>\r\n",
       "<text text-anchor=\"middle\" x=\"193\" y=\"-483.8\" font-family=\"Times New Roman,serif\" font-size=\"14.00\">value = [41, 40, 39]</text>\r\n",
       "<text text-anchor=\"middle\" x=\"193\" y=\"-468.8\" font-family=\"Times New Roman,serif\" font-size=\"14.00\">class = setosa</text>\r\n",
       "</g>\r\n",
       "<!-- 1 -->\r\n",
       "<g id=\"node2\" class=\"node\"><title>1</title>\r\n",
       "<polygon fill=\"#e58139\" stroke=\"black\" points=\"173,-417.5 61,-417.5 61,-349.5 173,-349.5 173,-417.5\"/>\r\n",
       "<text text-anchor=\"middle\" x=\"117\" y=\"-402.3\" font-family=\"Times New Roman,serif\" font-size=\"14.00\">gini = 0.0</text>\r\n",
       "<text text-anchor=\"middle\" x=\"117\" y=\"-387.3\" font-family=\"Times New Roman,serif\" font-size=\"14.00\">samples = 41</text>\r\n",
       "<text text-anchor=\"middle\" x=\"117\" y=\"-372.3\" font-family=\"Times New Roman,serif\" font-size=\"14.00\">value = [41, 0, 0]</text>\r\n",
       "<text text-anchor=\"middle\" x=\"117\" y=\"-357.3\" font-family=\"Times New Roman,serif\" font-size=\"14.00\">class = setosa</text>\r\n",
       "</g>\r\n",
       "<!-- 0&#45;&gt;1 -->\r\n",
       "<g id=\"edge1\" class=\"edge\"><title>0&#45;&gt;1</title>\r\n",
       "<path fill=\"none\" stroke=\"black\" d=\"M166.632,-460.907C159.321,-449.652 151.374,-437.418 144.026,-426.106\"/>\r\n",
       "<polygon fill=\"black\" stroke=\"black\" points=\"146.927,-424.146 138.544,-417.667 141.057,-427.96 146.927,-424.146\"/>\r\n",
       "<text text-anchor=\"middle\" x=\"133.349\" y=\"-438.421\" font-family=\"Times New Roman,serif\" font-size=\"14.00\">True</text>\r\n",
       "</g>\r\n",
       "<!-- 2 -->\r\n",
       "<g id=\"node3\" class=\"node\"><title>2</title>\r\n",
       "<polygon fill=\"#fafefc\" stroke=\"black\" points=\"346.5,-425 191.5,-425 191.5,-342 346.5,-342 346.5,-425\"/>\r\n",
       "<text text-anchor=\"middle\" x=\"269\" y=\"-409.8\" font-family=\"Times New Roman,serif\" font-size=\"14.00\">petal width (cm) &lt;= 1.55</text>\r\n",
       "<text text-anchor=\"middle\" x=\"269\" y=\"-394.8\" font-family=\"Times New Roman,serif\" font-size=\"14.00\">gini = 0.5</text>\r\n",
       "<text text-anchor=\"middle\" x=\"269\" y=\"-379.8\" font-family=\"Times New Roman,serif\" font-size=\"14.00\">samples = 79</text>\r\n",
       "<text text-anchor=\"middle\" x=\"269\" y=\"-364.8\" font-family=\"Times New Roman,serif\" font-size=\"14.00\">value = [0, 40, 39]</text>\r\n",
       "<text text-anchor=\"middle\" x=\"269\" y=\"-349.8\" font-family=\"Times New Roman,serif\" font-size=\"14.00\">class = versicolor</text>\r\n",
       "</g>\r\n",
       "<!-- 0&#45;&gt;2 -->\r\n",
       "<g id=\"edge2\" class=\"edge\"><title>0&#45;&gt;2</title>\r\n",
       "<path fill=\"none\" stroke=\"black\" d=\"M219.368,-460.907C225.086,-452.105 231.193,-442.703 237.098,-433.612\"/>\r\n",
       "<polygon fill=\"black\" stroke=\"black\" points=\"240.167,-435.313 242.679,-425.021 234.296,-431.5 240.167,-435.313\"/>\r\n",
       "<text text-anchor=\"middle\" x=\"247.874\" y=\"-445.775\" font-family=\"Times New Roman,serif\" font-size=\"14.00\">False</text>\r\n",
       "</g>\r\n",
       "<!-- 3 -->\r\n",
       "<g id=\"node4\" class=\"node\"><title>3</title>\r\n",
       "<polygon fill=\"#3ee684\" stroke=\"black\" points=\"261,-306 103,-306 103,-223 261,-223 261,-306\"/>\r\n",
       "<text text-anchor=\"middle\" x=\"182\" y=\"-290.8\" font-family=\"Times New Roman,serif\" font-size=\"14.00\">petal length (cm) &lt;= 5.25</text>\r\n",
       "<text text-anchor=\"middle\" x=\"182\" y=\"-275.8\" font-family=\"Times New Roman,serif\" font-size=\"14.00\">gini = 0.051</text>\r\n",
       "<text text-anchor=\"middle\" x=\"182\" y=\"-260.8\" font-family=\"Times New Roman,serif\" font-size=\"14.00\">samples = 38</text>\r\n",
       "<text text-anchor=\"middle\" x=\"182\" y=\"-245.8\" font-family=\"Times New Roman,serif\" font-size=\"14.00\">value = [0, 37, 1]</text>\r\n",
       "<text text-anchor=\"middle\" x=\"182\" y=\"-230.8\" font-family=\"Times New Roman,serif\" font-size=\"14.00\">class = versicolor</text>\r\n",
       "</g>\r\n",
       "<!-- 2&#45;&gt;3 -->\r\n",
       "<g id=\"edge3\" class=\"edge\"><title>2&#45;&gt;3</title>\r\n",
       "<path fill=\"none\" stroke=\"black\" d=\"M238.816,-341.907C232.135,-332.923 224.991,-323.315 218.101,-314.05\"/>\r\n",
       "<polygon fill=\"black\" stroke=\"black\" points=\"220.907,-311.957 212.131,-306.021 215.289,-316.134 220.907,-311.957\"/>\r\n",
       "</g>\r\n",
       "<!-- 6 -->\r\n",
       "<g id=\"node7\" class=\"node\"><title>6</title>\r\n",
       "<polygon fill=\"#8b49e7\" stroke=\"black\" points=\"434.5,-306 279.5,-306 279.5,-223 434.5,-223 434.5,-306\"/>\r\n",
       "<text text-anchor=\"middle\" x=\"357\" y=\"-290.8\" font-family=\"Times New Roman,serif\" font-size=\"14.00\">petal width (cm) &lt;= 1.75</text>\r\n",
       "<text text-anchor=\"middle\" x=\"357\" y=\"-275.8\" font-family=\"Times New Roman,serif\" font-size=\"14.00\">gini = 0.136</text>\r\n",
       "<text text-anchor=\"middle\" x=\"357\" y=\"-260.8\" font-family=\"Times New Roman,serif\" font-size=\"14.00\">samples = 41</text>\r\n",
       "<text text-anchor=\"middle\" x=\"357\" y=\"-245.8\" font-family=\"Times New Roman,serif\" font-size=\"14.00\">value = [0, 3, 38]</text>\r\n",
       "<text text-anchor=\"middle\" x=\"357\" y=\"-230.8\" font-family=\"Times New Roman,serif\" font-size=\"14.00\">class = virginica</text>\r\n",
       "</g>\r\n",
       "<!-- 2&#45;&gt;6 -->\r\n",
       "<g id=\"edge6\" class=\"edge\"><title>2&#45;&gt;6</title>\r\n",
       "<path fill=\"none\" stroke=\"black\" d=\"M299.531,-341.907C306.289,-332.923 313.515,-323.315 320.484,-314.05\"/>\r\n",
       "<polygon fill=\"black\" stroke=\"black\" points=\"323.309,-316.116 326.523,-306.021 317.715,-311.909 323.309,-316.116\"/>\r\n",
       "</g>\r\n",
       "<!-- 4 -->\r\n",
       "<g id=\"node5\" class=\"node\"><title>4</title>\r\n",
       "<polygon fill=\"#39e581\" stroke=\"black\" points=\"116,-179.5 0,-179.5 0,-111.5 116,-111.5 116,-179.5\"/>\r\n",
       "<text text-anchor=\"middle\" x=\"58\" y=\"-164.3\" font-family=\"Times New Roman,serif\" font-size=\"14.00\">gini = 0.0</text>\r\n",
       "<text text-anchor=\"middle\" x=\"58\" y=\"-149.3\" font-family=\"Times New Roman,serif\" font-size=\"14.00\">samples = 37</text>\r\n",
       "<text text-anchor=\"middle\" x=\"58\" y=\"-134.3\" font-family=\"Times New Roman,serif\" font-size=\"14.00\">value = [0, 37, 0]</text>\r\n",
       "<text text-anchor=\"middle\" x=\"58\" y=\"-119.3\" font-family=\"Times New Roman,serif\" font-size=\"14.00\">class = versicolor</text>\r\n",
       "</g>\r\n",
       "<!-- 3&#45;&gt;4 -->\r\n",
       "<g id=\"edge4\" class=\"edge\"><title>3&#45;&gt;4</title>\r\n",
       "<path fill=\"none\" stroke=\"black\" d=\"M138.979,-222.907C126.582,-211.211 113.066,-198.457 100.69,-186.78\"/>\r\n",
       "<polygon fill=\"black\" stroke=\"black\" points=\"102.827,-183.984 93.1513,-179.667 98.0227,-189.075 102.827,-183.984\"/>\r\n",
       "</g>\r\n",
       "<!-- 5 -->\r\n",
       "<g id=\"node6\" class=\"node\"><title>5</title>\r\n",
       "<polygon fill=\"#8139e5\" stroke=\"black\" points=\"241.5,-179.5 134.5,-179.5 134.5,-111.5 241.5,-111.5 241.5,-179.5\"/>\r\n",
       "<text text-anchor=\"middle\" x=\"188\" y=\"-164.3\" font-family=\"Times New Roman,serif\" font-size=\"14.00\">gini = 0.0</text>\r\n",
       "<text text-anchor=\"middle\" x=\"188\" y=\"-149.3\" font-family=\"Times New Roman,serif\" font-size=\"14.00\">samples = 1</text>\r\n",
       "<text text-anchor=\"middle\" x=\"188\" y=\"-134.3\" font-family=\"Times New Roman,serif\" font-size=\"14.00\">value = [0, 0, 1]</text>\r\n",
       "<text text-anchor=\"middle\" x=\"188\" y=\"-119.3\" font-family=\"Times New Roman,serif\" font-size=\"14.00\">class = virginica</text>\r\n",
       "</g>\r\n",
       "<!-- 3&#45;&gt;5 -->\r\n",
       "<g id=\"edge5\" class=\"edge\"><title>3&#45;&gt;5</title>\r\n",
       "<path fill=\"none\" stroke=\"black\" d=\"M184.082,-222.907C184.631,-212.204 185.225,-200.615 185.781,-189.776\"/>\r\n",
       "<polygon fill=\"black\" stroke=\"black\" points=\"189.282,-189.833 186.299,-179.667 182.291,-189.475 189.282,-189.833\"/>\r\n",
       "</g>\r\n",
       "<!-- 7 -->\r\n",
       "<g id=\"node8\" class=\"node\"><title>7</title>\r\n",
       "<polygon fill=\"#ffffff\" stroke=\"black\" points=\"431,-187 271,-187 271,-104 431,-104 431,-187\"/>\r\n",
       "<text text-anchor=\"middle\" x=\"351\" y=\"-171.8\" font-family=\"Times New Roman,serif\" font-size=\"14.00\">sepal length (cm) &lt;= 5.45</text>\r\n",
       "<text text-anchor=\"middle\" x=\"351\" y=\"-156.8\" font-family=\"Times New Roman,serif\" font-size=\"14.00\">gini = 0.5</text>\r\n",
       "<text text-anchor=\"middle\" x=\"351\" y=\"-141.8\" font-family=\"Times New Roman,serif\" font-size=\"14.00\">samples = 4</text>\r\n",
       "<text text-anchor=\"middle\" x=\"351\" y=\"-126.8\" font-family=\"Times New Roman,serif\" font-size=\"14.00\">value = [0, 2, 2]</text>\r\n",
       "<text text-anchor=\"middle\" x=\"351\" y=\"-111.8\" font-family=\"Times New Roman,serif\" font-size=\"14.00\">class = versicolor</text>\r\n",
       "</g>\r\n",
       "<!-- 6&#45;&gt;7 -->\r\n",
       "<g id=\"edge7\" class=\"edge\"><title>6&#45;&gt;7</title>\r\n",
       "<path fill=\"none\" stroke=\"black\" d=\"M354.918,-222.907C354.49,-214.558 354.034,-205.671 353.591,-197.02\"/>\r\n",
       "<polygon fill=\"black\" stroke=\"black\" points=\"357.086,-196.828 353.078,-187.021 350.095,-197.187 357.086,-196.828\"/>\r\n",
       "</g>\r\n",
       "<!-- 10 -->\r\n",
       "<g id=\"node11\" class=\"node\"><title>10</title>\r\n",
       "<polygon fill=\"#843ee6\" stroke=\"black\" points=\"607,-187 449,-187 449,-104 607,-104 607,-187\"/>\r\n",
       "<text text-anchor=\"middle\" x=\"528\" y=\"-171.8\" font-family=\"Times New Roman,serif\" font-size=\"14.00\">petal length (cm) &lt;= 4.85</text>\r\n",
       "<text text-anchor=\"middle\" x=\"528\" y=\"-156.8\" font-family=\"Times New Roman,serif\" font-size=\"14.00\">gini = 0.053</text>\r\n",
       "<text text-anchor=\"middle\" x=\"528\" y=\"-141.8\" font-family=\"Times New Roman,serif\" font-size=\"14.00\">samples = 37</text>\r\n",
       "<text text-anchor=\"middle\" x=\"528\" y=\"-126.8\" font-family=\"Times New Roman,serif\" font-size=\"14.00\">value = [0, 1, 36]</text>\r\n",
       "<text text-anchor=\"middle\" x=\"528\" y=\"-111.8\" font-family=\"Times New Roman,serif\" font-size=\"14.00\">class = virginica</text>\r\n",
       "</g>\r\n",
       "<!-- 6&#45;&gt;10 -->\r\n",
       "<g id=\"edge10\" class=\"edge\"><title>6&#45;&gt;10</title>\r\n",
       "<path fill=\"none\" stroke=\"black\" d=\"M416.328,-222.907C430.52,-213.197 445.776,-202.758 460.314,-192.811\"/>\r\n",
       "<polygon fill=\"black\" stroke=\"black\" points=\"462.501,-195.556 468.777,-187.021 458.548,-189.779 462.501,-195.556\"/>\r\n",
       "</g>\r\n",
       "<!-- 8 -->\r\n",
       "<g id=\"node9\" class=\"node\"><title>8</title>\r\n",
       "<polygon fill=\"#8139e5\" stroke=\"black\" points=\"286.5,-68 179.5,-68 179.5,-0 286.5,-0 286.5,-68\"/>\r\n",
       "<text text-anchor=\"middle\" x=\"233\" y=\"-52.8\" font-family=\"Times New Roman,serif\" font-size=\"14.00\">gini = 0.0</text>\r\n",
       "<text text-anchor=\"middle\" x=\"233\" y=\"-37.8\" font-family=\"Times New Roman,serif\" font-size=\"14.00\">samples = 1</text>\r\n",
       "<text text-anchor=\"middle\" x=\"233\" y=\"-22.8\" font-family=\"Times New Roman,serif\" font-size=\"14.00\">value = [0, 0, 1]</text>\r\n",
       "<text text-anchor=\"middle\" x=\"233\" y=\"-7.8\" font-family=\"Times New Roman,serif\" font-size=\"14.00\">class = virginica</text>\r\n",
       "</g>\r\n",
       "<!-- 7&#45;&gt;8 -->\r\n",
       "<g id=\"edge8\" class=\"edge\"><title>7&#45;&gt;8</title>\r\n",
       "<path fill=\"none\" stroke=\"black\" d=\"M307.061,-103.726C297.036,-94.423 286.389,-84.5428 276.386,-75.2612\"/>\r\n",
       "<polygon fill=\"black\" stroke=\"black\" points=\"278.595,-72.5362 268.884,-68.2996 273.834,-77.6673 278.595,-72.5362\"/>\r\n",
       "</g>\r\n",
       "<!-- 9 -->\r\n",
       "<g id=\"node10\" class=\"node\"><title>9</title>\r\n",
       "<polygon fill=\"#9cf2c0\" stroke=\"black\" points=\"421,-68 305,-68 305,-0 421,-0 421,-68\"/>\r\n",
       "<text text-anchor=\"middle\" x=\"363\" y=\"-52.8\" font-family=\"Times New Roman,serif\" font-size=\"14.00\">gini = 0.444</text>\r\n",
       "<text text-anchor=\"middle\" x=\"363\" y=\"-37.8\" font-family=\"Times New Roman,serif\" font-size=\"14.00\">samples = 3</text>\r\n",
       "<text text-anchor=\"middle\" x=\"363\" y=\"-22.8\" font-family=\"Times New Roman,serif\" font-size=\"14.00\">value = [0, 2, 1]</text>\r\n",
       "<text text-anchor=\"middle\" x=\"363\" y=\"-7.8\" font-family=\"Times New Roman,serif\" font-size=\"14.00\">class = versicolor</text>\r\n",
       "</g>\r\n",
       "<!-- 7&#45;&gt;9 -->\r\n",
       "<g id=\"edge9\" class=\"edge\"><title>7&#45;&gt;9</title>\r\n",
       "<path fill=\"none\" stroke=\"black\" d=\"M355.468,-103.726C356.378,-95.4263 357.338,-86.6671 358.257,-78.2834\"/>\r\n",
       "<polygon fill=\"black\" stroke=\"black\" points=\"361.74,-78.6214 359.351,-68.2996 354.782,-77.8588 361.74,-78.6214\"/>\r\n",
       "</g>\r\n",
       "<!-- 11 -->\r\n",
       "<g id=\"node12\" class=\"node\"><title>11</title>\r\n",
       "<polygon fill=\"#c09cf2\" stroke=\"black\" points=\"569.5,-68 462.5,-68 462.5,-0 569.5,-0 569.5,-68\"/>\r\n",
       "<text text-anchor=\"middle\" x=\"516\" y=\"-52.8\" font-family=\"Times New Roman,serif\" font-size=\"14.00\">gini = 0.444</text>\r\n",
       "<text text-anchor=\"middle\" x=\"516\" y=\"-37.8\" font-family=\"Times New Roman,serif\" font-size=\"14.00\">samples = 3</text>\r\n",
       "<text text-anchor=\"middle\" x=\"516\" y=\"-22.8\" font-family=\"Times New Roman,serif\" font-size=\"14.00\">value = [0, 1, 2]</text>\r\n",
       "<text text-anchor=\"middle\" x=\"516\" y=\"-7.8\" font-family=\"Times New Roman,serif\" font-size=\"14.00\">class = virginica</text>\r\n",
       "</g>\r\n",
       "<!-- 10&#45;&gt;11 -->\r\n",
       "<g id=\"edge11\" class=\"edge\"><title>10&#45;&gt;11</title>\r\n",
       "<path fill=\"none\" stroke=\"black\" d=\"M523.532,-103.726C522.622,-95.4263 521.662,-86.6671 520.743,-78.2834\"/>\r\n",
       "<polygon fill=\"black\" stroke=\"black\" points=\"524.218,-77.8588 519.649,-68.2996 517.26,-78.6214 524.218,-77.8588\"/>\r\n",
       "</g>\r\n",
       "<!-- 12 -->\r\n",
       "<g id=\"node13\" class=\"node\"><title>12</title>\r\n",
       "<polygon fill=\"#8139e5\" stroke=\"black\" points=\"700,-68 588,-68 588,-0 700,-0 700,-68\"/>\r\n",
       "<text text-anchor=\"middle\" x=\"644\" y=\"-52.8\" font-family=\"Times New Roman,serif\" font-size=\"14.00\">gini = 0.0</text>\r\n",
       "<text text-anchor=\"middle\" x=\"644\" y=\"-37.8\" font-family=\"Times New Roman,serif\" font-size=\"14.00\">samples = 34</text>\r\n",
       "<text text-anchor=\"middle\" x=\"644\" y=\"-22.8\" font-family=\"Times New Roman,serif\" font-size=\"14.00\">value = [0, 0, 34]</text>\r\n",
       "<text text-anchor=\"middle\" x=\"644\" y=\"-7.8\" font-family=\"Times New Roman,serif\" font-size=\"14.00\">class = virginica</text>\r\n",
       "</g>\r\n",
       "<!-- 10&#45;&gt;12 -->\r\n",
       "<g id=\"edge12\" class=\"edge\"><title>10&#45;&gt;12</title>\r\n",
       "<path fill=\"none\" stroke=\"black\" d=\"M571.194,-103.726C581.05,-94.423 591.516,-84.5428 601.349,-75.2612\"/>\r\n",
       "<polygon fill=\"black\" stroke=\"black\" points=\"603.854,-77.7092 608.724,-68.2996 599.049,-72.6189 603.854,-77.7092\"/>\r\n",
       "</g>\r\n",
       "</g>\r\n",
       "</svg>\r\n"
      ],
      "text/plain": [
       "<graphviz.files.Source at 0x240e400b668>"
      ]
     },
     "execution_count": 7,
     "metadata": {},
     "output_type": "execute_result"
    }
   ],
   "source": [
    "# DecisionTree Classifier 생서\n",
    "dt_clf = DecisionTreeClassifier(random_state=156, min_samples_split=4)\n",
    "\n",
    "# DecisionTreeClassifier 학습.\n",
    "dt_clf.fit(X_train, y_train)\n",
    "export_graphviz(dt_clf, out_file='tree.dot', class_names=iris_data.target_names, feature_names=iris_data.feature_names,\n",
    "                impurity=True, filled=True)\n",
    "\n",
    "with open('tree.dot') as f:\n",
    "    dot_graph = f.read()\n",
    "\n",
    "graphviz.Source(dot_graph)"
   ]
  },
  {
   "cell_type": "markdown",
   "metadata": {},
   "source": [
    " min_samples_leaf는 리프 노드가 될 수 있는 샘플 데이터 건수의 최솟값을 지정합니다. 리프 노드가 될 수 있는 조건은 디폴트로 1인데, 이 의미는 다른 클래스 값이 하나도 없이 단독 클래스로만 돼 있거나 단 한개의 데이터로 돼 있을 경우에는 될 수 있다는 것입니다."
   ]
  },
  {
   "cell_type": "code",
   "execution_count": 8,
   "metadata": {
    "collapsed": true
   },
   "outputs": [
    {
     "data": {
      "image/svg+xml": [
       "<?xml version=\"1.0\" encoding=\"UTF-8\" standalone=\"no\"?>\r\n",
       "<!DOCTYPE svg PUBLIC \"-//W3C//DTD SVG 1.1//EN\"\r\n",
       " \"http://www.w3.org/Graphics/SVG/1.1/DTD/svg11.dtd\">\r\n",
       "<!-- Generated by graphviz version 2.38.0 (20140413.2041)\r\n",
       " -->\r\n",
       "<!-- Title: Tree Pages: 1 -->\r\n",
       "<svg width=\"630pt\" height=\"552pt\"\r\n",
       " viewBox=\"0.00 0.00 630.00 552.00\" xmlns=\"http://www.w3.org/2000/svg\" xmlns:xlink=\"http://www.w3.org/1999/xlink\">\r\n",
       "<g id=\"graph0\" class=\"graph\" transform=\"scale(1 1) rotate(0) translate(4 548)\">\r\n",
       "<title>Tree</title>\r\n",
       "<polygon fill=\"white\" stroke=\"none\" points=\"-4,4 -4,-548 626,-548 626,4 -4,4\"/>\r\n",
       "<!-- 0 -->\r\n",
       "<g id=\"node1\" class=\"node\"><title>0</title>\r\n",
       "<polygon fill=\"#fffdfd\" stroke=\"black\" points=\"271,-544 113,-544 113,-461 271,-461 271,-544\"/>\r\n",
       "<text text-anchor=\"middle\" x=\"192\" y=\"-528.8\" font-family=\"Times New Roman,serif\" font-size=\"14.00\">petal length (cm) &lt;= 2.45</text>\r\n",
       "<text text-anchor=\"middle\" x=\"192\" y=\"-513.8\" font-family=\"Times New Roman,serif\" font-size=\"14.00\">gini = 0.667</text>\r\n",
       "<text text-anchor=\"middle\" x=\"192\" y=\"-498.8\" font-family=\"Times New Roman,serif\" font-size=\"14.00\">samples = 120</text>\r\n",
       "<text text-anchor=\"middle\" x=\"192\" y=\"-483.8\" font-family=\"Times New Roman,serif\" font-size=\"14.00\">value = [41, 40, 39]</text>\r\n",
       "<text text-anchor=\"middle\" x=\"192\" y=\"-468.8\" font-family=\"Times New Roman,serif\" font-size=\"14.00\">class = setosa</text>\r\n",
       "</g>\r\n",
       "<!-- 1 -->\r\n",
       "<g id=\"node2\" class=\"node\"><title>1</title>\r\n",
       "<polygon fill=\"#e58139\" stroke=\"black\" points=\"172,-417.5 60,-417.5 60,-349.5 172,-349.5 172,-417.5\"/>\r\n",
       "<text text-anchor=\"middle\" x=\"116\" y=\"-402.3\" font-family=\"Times New Roman,serif\" font-size=\"14.00\">gini = 0.0</text>\r\n",
       "<text text-anchor=\"middle\" x=\"116\" y=\"-387.3\" font-family=\"Times New Roman,serif\" font-size=\"14.00\">samples = 41</text>\r\n",
       "<text text-anchor=\"middle\" x=\"116\" y=\"-372.3\" font-family=\"Times New Roman,serif\" font-size=\"14.00\">value = [41, 0, 0]</text>\r\n",
       "<text text-anchor=\"middle\" x=\"116\" y=\"-357.3\" font-family=\"Times New Roman,serif\" font-size=\"14.00\">class = setosa</text>\r\n",
       "</g>\r\n",
       "<!-- 0&#45;&gt;1 -->\r\n",
       "<g id=\"edge1\" class=\"edge\"><title>0&#45;&gt;1</title>\r\n",
       "<path fill=\"none\" stroke=\"black\" d=\"M165.632,-460.907C158.321,-449.652 150.374,-437.418 143.026,-426.106\"/>\r\n",
       "<polygon fill=\"black\" stroke=\"black\" points=\"145.927,-424.146 137.544,-417.667 140.057,-427.96 145.927,-424.146\"/>\r\n",
       "<text text-anchor=\"middle\" x=\"132.349\" y=\"-438.421\" font-family=\"Times New Roman,serif\" font-size=\"14.00\">True</text>\r\n",
       "</g>\r\n",
       "<!-- 2 -->\r\n",
       "<g id=\"node3\" class=\"node\"><title>2</title>\r\n",
       "<polygon fill=\"#fafefc\" stroke=\"black\" points=\"345.5,-425 190.5,-425 190.5,-342 345.5,-342 345.5,-425\"/>\r\n",
       "<text text-anchor=\"middle\" x=\"268\" y=\"-409.8\" font-family=\"Times New Roman,serif\" font-size=\"14.00\">petal width (cm) &lt;= 1.55</text>\r\n",
       "<text text-anchor=\"middle\" x=\"268\" y=\"-394.8\" font-family=\"Times New Roman,serif\" font-size=\"14.00\">gini = 0.5</text>\r\n",
       "<text text-anchor=\"middle\" x=\"268\" y=\"-379.8\" font-family=\"Times New Roman,serif\" font-size=\"14.00\">samples = 79</text>\r\n",
       "<text text-anchor=\"middle\" x=\"268\" y=\"-364.8\" font-family=\"Times New Roman,serif\" font-size=\"14.00\">value = [0, 40, 39]</text>\r\n",
       "<text text-anchor=\"middle\" x=\"268\" y=\"-349.8\" font-family=\"Times New Roman,serif\" font-size=\"14.00\">class = versicolor</text>\r\n",
       "</g>\r\n",
       "<!-- 0&#45;&gt;2 -->\r\n",
       "<g id=\"edge2\" class=\"edge\"><title>0&#45;&gt;2</title>\r\n",
       "<path fill=\"none\" stroke=\"black\" d=\"M218.368,-460.907C224.086,-452.105 230.193,-442.703 236.098,-433.612\"/>\r\n",
       "<polygon fill=\"black\" stroke=\"black\" points=\"239.167,-435.313 241.679,-425.021 233.296,-431.5 239.167,-435.313\"/>\r\n",
       "<text text-anchor=\"middle\" x=\"246.874\" y=\"-445.775\" font-family=\"Times New Roman,serif\" font-size=\"14.00\">False</text>\r\n",
       "</g>\r\n",
       "<!-- 3 -->\r\n",
       "<g id=\"node4\" class=\"node\"><title>3</title>\r\n",
       "<polygon fill=\"#3ee684\" stroke=\"black\" points=\"260,-306 102,-306 102,-223 260,-223 260,-306\"/>\r\n",
       "<text text-anchor=\"middle\" x=\"181\" y=\"-290.8\" font-family=\"Times New Roman,serif\" font-size=\"14.00\">petal length (cm) &lt;= 4.75</text>\r\n",
       "<text text-anchor=\"middle\" x=\"181\" y=\"-275.8\" font-family=\"Times New Roman,serif\" font-size=\"14.00\">gini = 0.051</text>\r\n",
       "<text text-anchor=\"middle\" x=\"181\" y=\"-260.8\" font-family=\"Times New Roman,serif\" font-size=\"14.00\">samples = 38</text>\r\n",
       "<text text-anchor=\"middle\" x=\"181\" y=\"-245.8\" font-family=\"Times New Roman,serif\" font-size=\"14.00\">value = [0, 37, 1]</text>\r\n",
       "<text text-anchor=\"middle\" x=\"181\" y=\"-230.8\" font-family=\"Times New Roman,serif\" font-size=\"14.00\">class = versicolor</text>\r\n",
       "</g>\r\n",
       "<!-- 2&#45;&gt;3 -->\r\n",
       "<g id=\"edge3\" class=\"edge\"><title>2&#45;&gt;3</title>\r\n",
       "<path fill=\"none\" stroke=\"black\" d=\"M237.816,-341.907C231.135,-332.923 223.991,-323.315 217.101,-314.05\"/>\r\n",
       "<polygon fill=\"black\" stroke=\"black\" points=\"219.907,-311.957 211.131,-306.021 214.289,-316.134 219.907,-311.957\"/>\r\n",
       "</g>\r\n",
       "<!-- 6 -->\r\n",
       "<g id=\"node7\" class=\"node\"><title>6</title>\r\n",
       "<polygon fill=\"#8b49e7\" stroke=\"black\" points=\"433.5,-306 278.5,-306 278.5,-223 433.5,-223 433.5,-306\"/>\r\n",
       "<text text-anchor=\"middle\" x=\"356\" y=\"-290.8\" font-family=\"Times New Roman,serif\" font-size=\"14.00\">petal width (cm) &lt;= 1.75</text>\r\n",
       "<text text-anchor=\"middle\" x=\"356\" y=\"-275.8\" font-family=\"Times New Roman,serif\" font-size=\"14.00\">gini = 0.136</text>\r\n",
       "<text text-anchor=\"middle\" x=\"356\" y=\"-260.8\" font-family=\"Times New Roman,serif\" font-size=\"14.00\">samples = 41</text>\r\n",
       "<text text-anchor=\"middle\" x=\"356\" y=\"-245.8\" font-family=\"Times New Roman,serif\" font-size=\"14.00\">value = [0, 3, 38]</text>\r\n",
       "<text text-anchor=\"middle\" x=\"356\" y=\"-230.8\" font-family=\"Times New Roman,serif\" font-size=\"14.00\">class = virginica</text>\r\n",
       "</g>\r\n",
       "<!-- 2&#45;&gt;6 -->\r\n",
       "<g id=\"edge6\" class=\"edge\"><title>2&#45;&gt;6</title>\r\n",
       "<path fill=\"none\" stroke=\"black\" d=\"M298.531,-341.907C305.289,-332.923 312.515,-323.315 319.484,-314.05\"/>\r\n",
       "<polygon fill=\"black\" stroke=\"black\" points=\"322.309,-316.116 325.523,-306.021 316.715,-311.909 322.309,-316.116\"/>\r\n",
       "</g>\r\n",
       "<!-- 4 -->\r\n",
       "<g id=\"node5\" class=\"node\"><title>4</title>\r\n",
       "<polygon fill=\"#39e581\" stroke=\"black\" points=\"116,-179.5 0,-179.5 0,-111.5 116,-111.5 116,-179.5\"/>\r\n",
       "<text text-anchor=\"middle\" x=\"58\" y=\"-164.3\" font-family=\"Times New Roman,serif\" font-size=\"14.00\">gini = 0.0</text>\r\n",
       "<text text-anchor=\"middle\" x=\"58\" y=\"-149.3\" font-family=\"Times New Roman,serif\" font-size=\"14.00\">samples = 34</text>\r\n",
       "<text text-anchor=\"middle\" x=\"58\" y=\"-134.3\" font-family=\"Times New Roman,serif\" font-size=\"14.00\">value = [0, 34, 0]</text>\r\n",
       "<text text-anchor=\"middle\" x=\"58\" y=\"-119.3\" font-family=\"Times New Roman,serif\" font-size=\"14.00\">class = versicolor</text>\r\n",
       "</g>\r\n",
       "<!-- 3&#45;&gt;4 -->\r\n",
       "<g id=\"edge4\" class=\"edge\"><title>3&#45;&gt;4</title>\r\n",
       "<path fill=\"none\" stroke=\"black\" d=\"M138.326,-222.907C126.029,-211.211 112.622,-198.457 100.345,-186.78\"/>\r\n",
       "<polygon fill=\"black\" stroke=\"black\" points=\"102.526,-184.023 92.8678,-179.667 97.7012,-189.095 102.526,-184.023\"/>\r\n",
       "</g>\r\n",
       "<!-- 5 -->\r\n",
       "<g id=\"node6\" class=\"node\"><title>5</title>\r\n",
       "<polygon fill=\"#7beeab\" stroke=\"black\" points=\"250,-179.5 134,-179.5 134,-111.5 250,-111.5 250,-179.5\"/>\r\n",
       "<text text-anchor=\"middle\" x=\"192\" y=\"-164.3\" font-family=\"Times New Roman,serif\" font-size=\"14.00\">gini = 0.375</text>\r\n",
       "<text text-anchor=\"middle\" x=\"192\" y=\"-149.3\" font-family=\"Times New Roman,serif\" font-size=\"14.00\">samples = 4</text>\r\n",
       "<text text-anchor=\"middle\" x=\"192\" y=\"-134.3\" font-family=\"Times New Roman,serif\" font-size=\"14.00\">value = [0, 3, 1]</text>\r\n",
       "<text text-anchor=\"middle\" x=\"192\" y=\"-119.3\" font-family=\"Times New Roman,serif\" font-size=\"14.00\">class = versicolor</text>\r\n",
       "</g>\r\n",
       "<!-- 3&#45;&gt;5 -->\r\n",
       "<g id=\"edge5\" class=\"edge\"><title>3&#45;&gt;5</title>\r\n",
       "<path fill=\"none\" stroke=\"black\" d=\"M184.816,-222.907C185.823,-212.204 186.912,-200.615 187.931,-189.776\"/>\r\n",
       "<polygon fill=\"black\" stroke=\"black\" points=\"191.43,-189.951 188.882,-179.667 184.461,-189.295 191.43,-189.951\"/>\r\n",
       "</g>\r\n",
       "<!-- 7 -->\r\n",
       "<g id=\"node8\" class=\"node\"><title>7</title>\r\n",
       "<polygon fill=\"#ffffff\" stroke=\"black\" points=\"404,-179.5 288,-179.5 288,-111.5 404,-111.5 404,-179.5\"/>\r\n",
       "<text text-anchor=\"middle\" x=\"346\" y=\"-164.3\" font-family=\"Times New Roman,serif\" font-size=\"14.00\">gini = 0.5</text>\r\n",
       "<text text-anchor=\"middle\" x=\"346\" y=\"-149.3\" font-family=\"Times New Roman,serif\" font-size=\"14.00\">samples = 4</text>\r\n",
       "<text text-anchor=\"middle\" x=\"346\" y=\"-134.3\" font-family=\"Times New Roman,serif\" font-size=\"14.00\">value = [0, 2, 2]</text>\r\n",
       "<text text-anchor=\"middle\" x=\"346\" y=\"-119.3\" font-family=\"Times New Roman,serif\" font-size=\"14.00\">class = versicolor</text>\r\n",
       "</g>\r\n",
       "<!-- 6&#45;&gt;7 -->\r\n",
       "<g id=\"edge7\" class=\"edge\"><title>6&#45;&gt;7</title>\r\n",
       "<path fill=\"none\" stroke=\"black\" d=\"M352.531,-222.907C351.616,-212.204 350.625,-200.615 349.699,-189.776\"/>\r\n",
       "<polygon fill=\"black\" stroke=\"black\" points=\"353.174,-189.333 348.835,-179.667 346.199,-189.929 353.174,-189.333\"/>\r\n",
       "</g>\r\n",
       "<!-- 8 -->\r\n",
       "<g id=\"node9\" class=\"node\"><title>8</title>\r\n",
       "<polygon fill=\"#843ee6\" stroke=\"black\" points=\"582,-187 422,-187 422,-104 582,-104 582,-187\"/>\r\n",
       "<text text-anchor=\"middle\" x=\"502\" y=\"-171.8\" font-family=\"Times New Roman,serif\" font-size=\"14.00\">sepal length (cm) &lt;= 5.95</text>\r\n",
       "<text text-anchor=\"middle\" x=\"502\" y=\"-156.8\" font-family=\"Times New Roman,serif\" font-size=\"14.00\">gini = 0.053</text>\r\n",
       "<text text-anchor=\"middle\" x=\"502\" y=\"-141.8\" font-family=\"Times New Roman,serif\" font-size=\"14.00\">samples = 37</text>\r\n",
       "<text text-anchor=\"middle\" x=\"502\" y=\"-126.8\" font-family=\"Times New Roman,serif\" font-size=\"14.00\">value = [0, 1, 36]</text>\r\n",
       "<text text-anchor=\"middle\" x=\"502\" y=\"-111.8\" font-family=\"Times New Roman,serif\" font-size=\"14.00\">class = virginica</text>\r\n",
       "</g>\r\n",
       "<!-- 6&#45;&gt;8 -->\r\n",
       "<g id=\"edge8\" class=\"edge\"><title>6&#45;&gt;8</title>\r\n",
       "<path fill=\"none\" stroke=\"black\" d=\"M406.654,-222.907C418.545,-213.379 431.311,-203.148 443.513,-193.37\"/>\r\n",
       "<polygon fill=\"black\" stroke=\"black\" points=\"445.821,-196.006 451.436,-187.021 441.443,-190.543 445.821,-196.006\"/>\r\n",
       "</g>\r\n",
       "<!-- 9 -->\r\n",
       "<g id=\"node10\" class=\"node\"><title>9</title>\r\n",
       "<polygon fill=\"#ab7bee\" stroke=\"black\" points=\"491.5,-68 384.5,-68 384.5,-0 491.5,-0 491.5,-68\"/>\r\n",
       "<text text-anchor=\"middle\" x=\"438\" y=\"-52.8\" font-family=\"Times New Roman,serif\" font-size=\"14.00\">gini = 0.375</text>\r\n",
       "<text text-anchor=\"middle\" x=\"438\" y=\"-37.8\" font-family=\"Times New Roman,serif\" font-size=\"14.00\">samples = 4</text>\r\n",
       "<text text-anchor=\"middle\" x=\"438\" y=\"-22.8\" font-family=\"Times New Roman,serif\" font-size=\"14.00\">value = [0, 1, 3]</text>\r\n",
       "<text text-anchor=\"middle\" x=\"438\" y=\"-7.8\" font-family=\"Times New Roman,serif\" font-size=\"14.00\">class = virginica</text>\r\n",
       "</g>\r\n",
       "<!-- 8&#45;&gt;9 -->\r\n",
       "<g id=\"edge9\" class=\"edge\"><title>8&#45;&gt;9</title>\r\n",
       "<path fill=\"none\" stroke=\"black\" d=\"M478.169,-103.726C473.104,-95.0615 467.748,-85.8962 462.653,-77.1802\"/>\r\n",
       "<polygon fill=\"black\" stroke=\"black\" points=\"465.531,-75.167 457.463,-68.2996 459.487,-78.6992 465.531,-75.167\"/>\r\n",
       "</g>\r\n",
       "<!-- 10 -->\r\n",
       "<g id=\"node11\" class=\"node\"><title>10</title>\r\n",
       "<polygon fill=\"#8139e5\" stroke=\"black\" points=\"622,-68 510,-68 510,-0 622,-0 622,-68\"/>\r\n",
       "<text text-anchor=\"middle\" x=\"566\" y=\"-52.8\" font-family=\"Times New Roman,serif\" font-size=\"14.00\">gini = 0.0</text>\r\n",
       "<text text-anchor=\"middle\" x=\"566\" y=\"-37.8\" font-family=\"Times New Roman,serif\" font-size=\"14.00\">samples = 33</text>\r\n",
       "<text text-anchor=\"middle\" x=\"566\" y=\"-22.8\" font-family=\"Times New Roman,serif\" font-size=\"14.00\">value = [0, 0, 33]</text>\r\n",
       "<text text-anchor=\"middle\" x=\"566\" y=\"-7.8\" font-family=\"Times New Roman,serif\" font-size=\"14.00\">class = virginica</text>\r\n",
       "</g>\r\n",
       "<!-- 8&#45;&gt;10 -->\r\n",
       "<g id=\"edge10\" class=\"edge\"><title>8&#45;&gt;10</title>\r\n",
       "<path fill=\"none\" stroke=\"black\" d=\"M525.831,-103.726C530.896,-95.0615 536.252,-85.8962 541.347,-77.1802\"/>\r\n",
       "<polygon fill=\"black\" stroke=\"black\" points=\"544.513,-78.6992 546.537,-68.2996 538.469,-75.167 544.513,-78.6992\"/>\r\n",
       "</g>\r\n",
       "</g>\r\n",
       "</svg>\r\n"
      ],
      "text/plain": [
       "<graphviz.files.Source at 0x240e400bcc0>"
      ]
     },
     "execution_count": 8,
     "metadata": {},
     "output_type": "execute_result"
    }
   ],
   "source": [
    "# DecisionTree Classifier 생서\n",
    "dt_clf = DecisionTreeClassifier(random_state=156, min_samples_leaf=4)\n",
    "\n",
    "# DecisionTreeClassifier 학습.\n",
    "dt_clf.fit(X_train, y_train)\n",
    "export_graphviz(dt_clf, out_file='tree.dot', class_names=iris_data.target_names, feature_names=iris_data.feature_names,\n",
    "                impurity=True, filled=True)\n",
    "\n",
    "with open('tree.dot') as f:\n",
    "    dot_graph = f.read()\n",
    "\n",
    "graphviz.Source(dot_graph)"
   ]
  },
  {
   "cell_type": "markdown",
   "metadata": {},
   "source": [
    "        결정 트리는 균일도에 기반해 어떠한 속성을 규칙 조건으로 선택하느냐가 중요한 요건입니다. 중요한 몇 개의 피처가 명확한 규칙 트리를 만드는데 크게 기여하며, 모델울 좀 더 간결하고 이상치(Outlier)에 강한 모델을 만들 수 있기 때문입니다."
   ]
  },
  {
   "cell_type": "markdown",
   "metadata": {},
   "source": [
    " 피처의 주요한 역할 지표를 DecisionTreeClassifier 객체의 feature_importances_ 속성으로 제공합니다.\n",
    " \n",
    " feature_importances_는 ndarray 형태로 값을 반환하며 피처 순으로 값이 할당됩니다. 값이 높을수록 해당 피처의 중요도가 높다는 의미입니다."
   ]
  },
  {
   "cell_type": "code",
   "execution_count": 4,
   "metadata": {},
   "outputs": [
    {
     "name": "stdout",
     "output_type": "stream",
     "text": [
      "Feature importances:\n",
      "[0.025 0.    0.555 0.42 ]\n",
      "sepal length (cm):0.025\n",
      "sepal width (cm):0.000\n",
      "petal length (cm):0.555\n",
      "petal width (cm):0.420\n"
     ]
    },
    {
     "data": {
      "text/plain": [
       "<matplotlib.axes._subplots.AxesSubplot at 0x1c5816059e8>"
      ]
     },
     "execution_count": 4,
     "metadata": {},
     "output_type": "execute_result"
    },
    {
     "data": {
      "image/png": "[encoded data removed]",
      "text/plain": [
       "<Figure size 432x288 with 1 Axes>"
      ]
     },
     "metadata": {
      "needs_background": "light"
     },
     "output_type": "display_data"
    }
   ],
   "source": [
    "import seaborn as sns\n",
    "import numpy as np\n",
    "%matplotlib inline\n",
    "\n",
    "# feature importance 추출\n",
    "print(\"Feature importances:\\n{0}\".format(np.round(dt_clf.feature_importances_,3)))\n",
    "\n",
    "# feature별 importance 매핑\n",
    "for name, value in zip(iris_data.feature_names, dt_clf.feature_importances_):\n",
    "    print('{0}:{1:.3f}'.format(name, value))\n",
    "    \n",
    "# feature importance를 column 별로 시각화하기\n",
    "sns.barplot(x=dt_clf.feature_importances_, y=iris_data.feature_names)"
   ]
  },
  {
   "cell_type": "markdown",
   "metadata": {},
   "source": [
    "    결정 트리 알고리즘은 관련되 요소를 시각적으로 표현할 수 있는 다양한 방안이 있습니다."
   ]
  },
  {
   "cell_type": "markdown",
   "metadata": {},
   "source": [
    "  #### 결정 트리 과적합(Overfitting)"
   ]
  },
  {
   "cell_type": "code",
   "execution_count": 5,
   "metadata": {},
   "outputs": [],
   "source": [
    "# 부록 참고, 비쥬얼용\n",
    "import numpy as np\n",
    "\n",
    "# Classifier의 Decision Boundary를 시각화 하는 함수\n",
    "def visualize_boundary(model, X, y):\n",
    "    fig,ax = plt.subplots()\n",
    "    \n",
    "    # 학습 데이타 scatter plot으로 나타내기\n",
    "    ax.scatter(X[:, 0], X[:, 1], c=y, s=25, cmap='rainbow', edgecolor='k',\n",
    "               clim=(y.min(), y.max()), zorder=3)\n",
    "    ax.axis('tight')\n",
    "    ax.axis('off')\n",
    "    xlim_start , xlim_end = ax.get_xlim()\n",
    "    ylim_start , ylim_end = ax.get_ylim()\n",
    "    \n",
    "    # 호출 파라미터로 들어온 training 데이타로 model 학습 . \n",
    "    model.fit(X, y)\n",
    "    # meshgrid 형태인 모든 좌표값으로 예측 수행. \n",
    "    xx, yy = np.meshgrid(np.linspace(xlim_start,xlim_end, num=200),np.linspace(ylim_start,ylim_end, num=200))\n",
    "    Z = model.predict(np.c_[xx.ravel(), yy.ravel()]).reshape(xx.shape)\n",
    "    \n",
    "    # contourf() 를 이용하여 class boundary 를 visualization 수행. \n",
    "    n_classes = len(np.unique(y))\n",
    "    contours = ax.contourf(xx, yy, Z, alpha=0.3,\n",
    "                           levels=np.arange(n_classes + 1) - 0.5,\n",
    "                           cmap='rainbow', clim=(y.min(), y.max()),\n",
    "                           zorder=1)"
   ]
  },
  {
   "cell_type": "code",
   "execution_count": 10,
   "metadata": {},
   "outputs": [
    {
     "data": {
      "text/plain": [
       "<matplotlib.collections.PathCollection at 0x1c581d8aa58>"
      ]
     },
     "execution_count": 10,
     "metadata": {},
     "output_type": "execute_result"
    },
    {
     "data": {
      "image/png": "[encoded data removed]",
      "text/plain": [
       "<Figure size 432x288 with 1 Axes>"
      ]
     },
     "metadata": {
      "needs_background": "light"
     },
     "output_type": "display_data"
    }
   ],
   "source": [
    "from sklearn.datasets import make_classification\n",
    "import matplotlib.pyplot as plt\n",
    "%matplotlib inline\n",
    "\n",
    "plt.title(\"3 Class values with 2 Features Sample data creation\")\n",
    "\n",
    "# 2차원 시각화를 위해서 피처는 2개, 클래스는 3가지 유형의 분류 샘플 데이터 생성\n",
    "X_features, y_labels = make_classification(n_features=2,n_redundant=0, n_informative=2,n_classes=3, n_clusters_per_class=1,\n",
    "                                          random_state=0)\n",
    "\n",
    "# 그래프 형태로 2개의 피처로 2차원 좌표 시각화, 각 클래스 값은 다른 색깔로 표시됨.\n",
    "plt.scatter(X_features[:,0], X_features[:,1], marker='o', c=y_labels, s=25, edgecolor='k')"
   ]
  },
  {
   "cell_type": "code",
   "execution_count": 11,
   "metadata": {},
   "outputs": [
    {
     "data": {
      "image/png": "[encoded data removed]",
      "text/plain": [
       "<Figure size 432x288 with 1 Axes>"
      ]
     },
     "metadata": {
      "needs_background": "light"
     },
     "output_type": "display_data"
    }
   ],
   "source": [
    "from sklearn.tree import DecisionTreeClassifier\n",
    "\n",
    "# 특정한 트리 생성 제약 없는 결정 트리의 학습과 결정 경계 시각화\n",
    "dt_clf = DecisionTreeClassifier().fit(X_features, y_labels)\n",
    "visualize_boundary(dt_clf, X_features, y_labels)"
   ]
  },
  {
   "cell_type": "markdown",
   "metadata": {},
   "source": [
    "    일부 이상치(outlier) 데이터까지 분류하기 위해 분할이 자주 일어나서 결정 기준 경계가 매우 많아졌습니다. 다른 형태의 데이터 세트를 예측하면 예측 정확도가 떨어지게 됩니다."
   ]
  },
  {
   "cell_type": "markdown",
   "metadata": {},
   "source": [
    "min_samples_leaf = 6을 설정해 6개 이하의 데이터는 리프 노드를 생성할 수 있도록 리프 노드 생성 규칙을 완화"
   ]
  },
  {
   "cell_type": "code",
   "execution_count": 16,
   "metadata": {},
   "outputs": [
    {
     "data": {
      "image/png": "[encoded data removed]",
      "text/plain": [
       "<Figure size 432x288 with 1 Axes>"
      ]
     },
     "metadata": {
      "needs_background": "light"
     },
     "output_type": "display_data"
    }
   ],
   "source": [
    " # min_samples_leaf=6으로 트리 생성 조건을 제야학 결정 경계 시각화\n",
    "\n",
    "dt_clf = DecisionTreeClassifier(min_samples_leaf=6).fit(X_features, y_labels)\n",
    "visualize_boundary(dt_clf,X_features,y_labels)"
   ]
  },
  {
   "cell_type": "markdown",
   "metadata": {},
   "source": [
    "    이상치에 크게 반응하지 않으면서 좀 더 일반화된 분류 규칙에 따라 분류됐음을 알 수 있습니다. 다양한 테스트 데이터 세트를 기반으로 한 결정 트리 모델의 예측 성능은 leaf=6 조건이  더 뛰어날 가능성이 높습니다."
   ]
  },
  {
   "cell_type": "markdown",
   "metadata": {},
   "source": [
    "#### 결정 트리 실습 - 사용자 행동 인식 데이터 세트"
   ]
  },
  {
   "cell_type": "code",
   "execution_count": 1,
   "metadata": {},
   "outputs": [
    {
     "name": "stdout",
     "output_type": "stream",
     "text": [
      "전체 피처명에서 10개만 추출: ['tBodyAcc-mean()-X', 'tBodyAcc-mean()-Y', 'tBodyAcc-mean()-Z', 'tBodyAcc-std()-X', 'tBodyAcc-std()-Y', 'tBodyAcc-std()-Z', 'tBodyAcc-mad()-X', 'tBodyAcc-mad()-Y', 'tBodyAcc-mad()-Z', 'tBodyAcc-max()-X']\n"
     ]
    }
   ],
   "source": [
    "import pandas as pd\n",
    "import matplotlib.pyplot as plt\n",
    "%matplotlib inline\n",
    "\n",
    "# features.txt 파일에는 피처 이름 index와 피처명이 공백으로 분리되어 있음. 이를 DataFrame으로 로드.\n",
    "feature_name_df = pd.read_csv('./human_activity/features.txt', sep='\\s+', header=None, names=['column_index','column_name'])\n",
    "\n",
    "# 피처명 index를 제거하고, 피처명만 리스트 객체로 생성한 뒤 샘플로 10개만 추출\n",
    "feature_name = feature_name_df.iloc[:,1].values.tolist()\n",
    "print('전체 피처명에서 10개만 추출:', feature_name[:10])"
   ]
  },
  {
   "cell_type": "markdown",
   "metadata": {},
   "source": [
    "    피처명을 보면 인체의 움직임과 관련된 속성의 평균/표준편차가 X,Y,Z축 값으로 돼 있음을 유추할 수 있습니다.\n",
    "    \n",
    "    중복된 피처명에 대해서는 워본 피처명에 _1 또는 _2를 추가로 변경한 뒤에 이를 이용해서 데이터를 DataFrame에 로드하겠습니다."
   ]
  },
  {
   "cell_type": "code",
   "execution_count": 13,
   "metadata": {},
   "outputs": [
    {
     "name": "stdout",
     "output_type": "stream",
     "text": [
      "column_index    42\n",
      "dtype: int64\n"
     ]
    },
    {
     "data": {
      "text/html": [
       "<div>\n",
       "<style scoped>\n",
       "    .dataframe tbody tr th:only-of-type {\n",
       "        vertical-align: middle;\n",
       "    }\n",
       "\n",
       "    .dataframe tbody tr th {\n",
       "        vertical-align: top;\n",
       "    }\n",
       "\n",
       "    .dataframe thead th {\n",
       "        text-align: right;\n",
       "    }\n",
       "</style>\n",
       "<table border=\"1\" class=\"dataframe\">\n",
       "  <thead>\n",
       "    <tr style=\"text-align: right;\">\n",
       "      <th></th>\n",
       "      <th>column_index</th>\n",
       "    </tr>\n",
       "    <tr>\n",
       "      <th>column_name</th>\n",
       "      <th></th>\n",
       "    </tr>\n",
       "  </thead>\n",
       "  <tbody>\n",
       "    <tr>\n",
       "      <th>fBodyAcc-bandsEnergy()-1,16</th>\n",
       "      <td>3</td>\n",
       "    </tr>\n",
       "    <tr>\n",
       "      <th>fBodyAcc-bandsEnergy()-1,24</th>\n",
       "      <td>3</td>\n",
       "    </tr>\n",
       "    <tr>\n",
       "      <th>fBodyAcc-bandsEnergy()-1,8</th>\n",
       "      <td>3</td>\n",
       "    </tr>\n",
       "    <tr>\n",
       "      <th>fBodyAcc-bandsEnergy()-17,24</th>\n",
       "      <td>3</td>\n",
       "    </tr>\n",
       "    <tr>\n",
       "      <th>fBodyAcc-bandsEnergy()-17,32</th>\n",
       "      <td>3</td>\n",
       "    </tr>\n",
       "  </tbody>\n",
       "</table>\n",
       "</div>"
      ],
      "text/plain": [
       "                              column_index\n",
       "column_name                               \n",
       "fBodyAcc-bandsEnergy()-1,16              3\n",
       "fBodyAcc-bandsEnergy()-1,24              3\n",
       "fBodyAcc-bandsEnergy()-1,8               3\n",
       "fBodyAcc-bandsEnergy()-17,24             3\n",
       "fBodyAcc-bandsEnergy()-17,32             3"
      ]
     },
     "execution_count": 13,
     "metadata": {},
     "output_type": "execute_result"
    }
   ],
   "source": [
    "feature_dup_df = feature_name_df.groupby('column_name').count()\n",
    "print(feature_dup_df[feature_dup_df['column_index']>1].count())\n",
    "feature_dup_df[feature_dup_df['column_index']>1].head()"
   ]
  },
  {
   "cell_type": "markdown",
   "metadata": {},
   "source": [
    "    총 42개의 피처명이 중복돼 있습니다. 이 중복된 피처명에 대해서는 원본 피처명에 _1 또는 _2를 추가로 부여해 새로운 피처명을 가지는 DataFrame을 반환하는 함수인 get_new_feature_name_df()를 생성하겠습니다."
   ]
  },
  {
   "cell_type": "code",
   "execution_count": 1,
   "metadata": {},
   "outputs": [],
   "source": [
    "def get_new_feature_name_df(old_feature_name_df):\n",
    "    feature_dup_df = pd.DataFrame(data=old_feature_name_df.groupby('column_name').cumcount(),\n",
    "                                  columns=['dup_cnt'])\n",
    "    feature_dup_df = feature_dup_df.reset_index()\n",
    "    new_feature_name_df = pd.merge(old_feature_name_df.reset_index(), feature_dup_df, how='outer')\n",
    "    new_feature_name_df['column_name'] = new_feature_name_df[['column_name', 'dup_cnt']].apply(lambda x : x[0]+'_'+str(x[1]) \n",
    "                                                                                         if x[1] >0 else x[0] ,  axis=1)\n",
    "    new_feature_name_df = new_feature_name_df.drop(['index'], axis=1)\n",
    "    return new_feature_name_df"
   ]
  },
  {
   "cell_type": "code",
   "execution_count": 2,
   "metadata": {},
   "outputs": [],
   "source": [
    "import pandas as pd\n",
    "\n",
    "def get_human_dataset():\n",
    "    \n",
    "    # 가 데이터 파일은 공백으로 분리되어 있으므로 read_csv에서 공백 문자를 sep으로 할당.\n",
    "    feature_name_df = pd.read_csv('./human_activity/features.txt', sep='\\s+', header=None, names=['column_index',\n",
    "                                                                                                  'column_name'])\n",
    "    \n",
    "    # 중복된 피처명을 수정하는 get_ner_feature_name_df()를 이용, 신규 피처명 DataFrame 생성.\n",
    "    new_feature_name_df = get_new_feature_name_df(feature_name_df)\n",
    "    \n",
    "    # DataFrame에 피처명을 칼럼으로 부여하기 위해 리스트 객체로 다시 변환\n",
    "    feature_name = new_feature_name_df.iloc[:,1].values.tolist()\n",
    "    \n",
    "    # 학습 피처 데이터세트와 테스트 피처 데이터를 DataFrame으로 로딩. 칼럼명은 feature_name 적용\n",
    "    X_train = pd.read_csv('./human_activity/train/X_train.txt', sep='\\s+', names=feature_name)\n",
    "    X_test = pd.read_csv('./human_activity/test/X_test.txt', sep='\\s+', names=feature_name)\n",
    "    \n",
    "    # 학습 레이블과 테스트 레이블 데이터를 DataFrame으로 로딩하고 칼럼명은 action으로 부여\n",
    "    y_train = pd.read_csv('./human_activity/train/y_train.txt', sep='\\s+', header=None, names=['action'])\n",
    "    y_test = pd.read_csv('./human_activity/test/y_test.txt', sep='\\s+', header=None, names=['action'])\n",
    "    \n",
    "    # 로드된 학습 /테스트용 DataFrame을 모두 반환\n",
    "    return X_train, X_test, y_train, y_test\n",
    "\n",
    "X_train, X_test, y_train, y_test = get_human_dataset()"
   ]
  },
  {
   "cell_type": "code",
   "execution_count": 22,
   "metadata": {},
   "outputs": [
    {
     "name": "stdout",
     "output_type": "stream",
     "text": [
      " ## 학습 피처 데이터셋 info()\n",
      "<class 'pandas.core.frame.DataFrame'>\n",
      "RangeIndex: 7352 entries, 0 to 7351\n",
      "Columns: 561 entries, tBodyAcc-mean()-X to angle(Z,gravityMean)\n",
      "dtypes: float64(561)\n",
      "memory usage: 31.5 MB\n",
      "None\n"
     ]
    }
   ],
   "source": [
    "print(' ## 학습 피처 데이터셋 info()')\n",
    "print(X_train.info())"
   ]
  },
  {
   "cell_type": "markdown",
   "metadata": {},
   "source": [
    "    학습 데이터 세트는 7352개의 레코드로 561개의 피처르 가지고 있습니다. 레이블 값은 1,2,3,4,5,6의 6개 값이고 분포도는 특정 값으로 왜곡되지 않고 비교적 고르게 분포돼 있습니다."
   ]
  },
  {
   "cell_type": "code",
   "execution_count": 23,
   "metadata": {},
   "outputs": [
    {
     "name": "stdout",
     "output_type": "stream",
     "text": [
      "6    1407\n",
      "5    1374\n",
      "4    1286\n",
      "1    1226\n",
      "2    1073\n",
      "3     986\n",
      "Name: action, dtype: int64\n"
     ]
    }
   ],
   "source": [
    "print(y_train['action'].value_counts())"
   ]
  },
  {
   "cell_type": "markdown",
   "metadata": {},
   "source": [
    "사이킷런의 DecisionTreeClassifier를 이용해 동작 예측 분류를 수행해 보겠습니다."
   ]
  },
  {
   "cell_type": "code",
   "execution_count": 24,
   "metadata": {},
   "outputs": [
    {
     "name": "stdout",
     "output_type": "stream",
     "text": [
      "결정 트리 예측 정확도: 0.8548\n",
      "DecisionTreeClassifier 기본 하이퍼 파라미터 \n",
      " {'class_weight': None, 'criterion': 'gini', 'max_depth': None, 'max_features': None, 'max_leaf_nodes': None, 'min_impurity_decrease': 0.0, 'min_impurity_split': None, 'min_samples_leaf': 1, 'min_samples_split': 2, 'min_weight_fraction_leaf': 0.0, 'presort': False, 'random_state': 156, 'splitter': 'best'}\n"
     ]
    }
   ],
   "source": [
    "from sklearn.tree import DecisionTreeClassifier\n",
    "from sklearn.metrics import accuracy_score\n",
    "\n",
    "# 예제 반복 시마다 동일한 예측 결과 도출을 위해 random_state 설정\n",
    "dt_clf = DecisionTreeClassifier(random_state=156)\n",
    "dt_clf.fit(X_train, y_train)\n",
    "pred = dt_clf.predict(X_test)\n",
    "accuracy = accuracy_score(y_test,pred)\n",
    "print('결정 트리 예측 정확도: {0:.4f}'.format(accuracy))\n",
    "\n",
    "# DecisionTreeClassifier의 하이퍼 파라미터 추출\n",
    "print('DecisionTreeClassifier 기본 하이퍼 파라미터 \\n',dt_clf.get_params())"
   ]
  },
  {
   "cell_type": "markdown",
   "metadata": {},
   "source": [
    "    약 85%의 정확도를 나타내고 잇습니다."
   ]
  },
  {
   "cell_type": "markdown",
   "metadata": {},
   "source": [
    "이번에는 결정 트리의 트리 깊이(depth)가 예측 정확도에 주는 영향을 살펴보겠습니다. GridSearchCV를 이용해 사이킷런 결정 트리 깊이를 조절할 수 있느 하이퍼 파라미터인 max_depth 값을 변화시키면서 예측 성능을 확인해 보겠습니다."
   ]
  },
  {
   "cell_type": "code",
   "execution_count": 27,
   "metadata": {},
   "outputs": [
    {
     "name": "stdout",
     "output_type": "stream",
     "text": [
      "Fitting 5 folds for each of 7 candidates, totalling 35 fits\n"
     ]
    },
    {
     "name": "stderr",
     "output_type": "stream",
     "text": [
      "[Parallel(n_jobs=1)]: Using backend SequentialBackend with 1 concurrent workers.\n",
      "[Parallel(n_jobs=1)]: Done  35 out of  35 | elapsed:  1.3min finished\n"
     ]
    },
    {
     "name": "stdout",
     "output_type": "stream",
     "text": [
      "GridSearchCV 최고 평균 정확도 수치:0.8526\n",
      "GridSearchCV 최적 하이퍼 파라미터: {'max_depth': 8}\n"
     ]
    }
   ],
   "source": [
    "from sklearn.model_selection import GridSearchCV\n",
    "\n",
    "params = {'max_depth':[6,8,10,12,16,20,24]}\n",
    "\n",
    "grid_cv = GridSearchCV(dt_clf,param_grid=params, scoring='accuracy', cv=5, verbose=1)\n",
    "grid_cv.fit(X_train, y_train)\n",
    "print('GridSearchCV 최고 평균 정확도 수치:{0:.4f}'.format(grid_cv.best_score_))\n",
    "print('GridSearchCV 최적 하이퍼 파라미터:',grid_cv.best_params_)"
   ]
  },
  {
   "cell_type": "markdown",
   "metadata": {},
   "source": [
    "    5개의 CV 세트에서 max_depth 값에 따라 어떻게 예측 성능이 변했는지 GridSearchCV 객체의 cv_results_ 속성을 통해 살펴 보겠습니다. max_depth에 따른 평가 데이터 세트의 평균 정확도 수치(cv_results_의 'mean_test_score값')를 cv_results_에서 추출해 보겠습니다"
   ]
  },
  {
   "cell_type": "code",
   "execution_count": 43,
   "metadata": {},
   "outputs": [
    {
     "data": {
      "text/html": [
       "<div>\n",
       "<style scoped>\n",
       "    .dataframe tbody tr th:only-of-type {\n",
       "        vertical-align: middle;\n",
       "    }\n",
       "\n",
       "    .dataframe tbody tr th {\n",
       "        vertical-align: top;\n",
       "    }\n",
       "\n",
       "    .dataframe thead th {\n",
       "        text-align: right;\n",
       "    }\n",
       "</style>\n",
       "<table border=\"1\" class=\"dataframe\">\n",
       "  <thead>\n",
       "    <tr style=\"text-align: right;\">\n",
       "      <th></th>\n",
       "      <th>param_max_depth</th>\n",
       "      <th>mean_test_score</th>\n",
       "    </tr>\n",
       "  </thead>\n",
       "  <tbody>\n",
       "    <tr>\n",
       "      <th>0</th>\n",
       "      <td>6</td>\n",
       "      <td>0.852829</td>\n",
       "    </tr>\n",
       "    <tr>\n",
       "      <th>1</th>\n",
       "      <td>8</td>\n",
       "      <td>0.856366</td>\n",
       "    </tr>\n",
       "    <tr>\n",
       "      <th>2</th>\n",
       "      <td>10</td>\n",
       "      <td>0.844260</td>\n",
       "    </tr>\n",
       "    <tr>\n",
       "      <th>3</th>\n",
       "      <td>12</td>\n",
       "      <td>0.848477</td>\n",
       "    </tr>\n",
       "    <tr>\n",
       "      <th>4</th>\n",
       "      <td>16</td>\n",
       "      <td>0.843308</td>\n",
       "    </tr>\n",
       "    <tr>\n",
       "      <th>5</th>\n",
       "      <td>20</td>\n",
       "      <td>0.853373</td>\n",
       "    </tr>\n",
       "    <tr>\n",
       "      <th>6</th>\n",
       "      <td>24</td>\n",
       "      <td>0.842220</td>\n",
       "    </tr>\n",
       "  </tbody>\n",
       "</table>\n",
       "</div>"
      ],
      "text/plain": [
       "  param_max_depth  mean_test_score\n",
       "0               6         0.852829\n",
       "1               8         0.856366\n",
       "2              10         0.844260\n",
       "3              12         0.848477\n",
       "4              16         0.843308\n",
       "5              20         0.853373\n",
       "6              24         0.842220"
      ]
     },
     "execution_count": 43,
     "metadata": {},
     "output_type": "execute_result"
    }
   ],
   "source": [
    "# GridSearchCV 객체의 cv_results_ 속성을 DataFrame으로 생성.\n",
    "cv_results_df = pd.DataFrame(grid_cv.cv_results_)\n",
    "\n",
    "# max_depth 파라미터 값과 그떄으 테스트 세트, 학습 데이터 세트의 정확도 수치 추출\n",
    "cv_results_df[['param_max_depth', 'mean_test_score']]"
   ]
  },
  {
   "cell_type": "markdown",
   "metadata": {},
   "source": [
    "    mean_test_score는 5개 cv 세트에서 검증용 데이터 세트의 정확도 평균 수치입니다.mean_test_score는 max_depth가 8일 때 0.852로 정확도가 정점입니다. 깊어진 트리는 학습데이터 세트에는 올바른 예측 결과를 가져올지 모르지만, 검증 데이터 세트에서는 오히려 과적합으로 인한 성능 저하를 유발하게 됩니다."
   ]
  },
  {
   "cell_type": "markdown",
   "metadata": {},
   "source": [
    "이번에는 별도의 테스트 데이터 세트에서 결정 트리의 정확도를 측정해 보겠습니다."
   ]
  },
  {
   "cell_type": "code",
   "execution_count": 48,
   "metadata": {},
   "outputs": [
    {
     "name": "stdout",
     "output_type": "stream",
     "text": [
      "max_depth = 6, 정확도 : 0.8558\n",
      "max_depth = 8, 정확도 : 0.8707\n",
      "max_depth = 10, 정확도 : 0.8673\n",
      "max_depth = 12, 정확도 : 0.8646\n",
      "max_depth = 16, 정확도 : 0.8575\n",
      "max_depth = 20, 정확도 : 0.8548\n"
     ]
    }
   ],
   "source": [
    "max_depths = [6,8,10,12,16,20]\n",
    "\n",
    "# max_depth 값을 변화시키면서 그때마다 학습과 테스트 세트에서의 예측 성능 측정\n",
    "for depth in max_depths:\n",
    "    dt_clf = DecisionTreeClassifier(random_state=156,max_depth=depth)\n",
    "    dt_clf.fit(X_train, y_train)\n",
    "    pred = dt_clf.predict(X_test)\n",
    "    accuracy = accuracy_score(y_test, pred)\n",
    "    print('max_depth = {0}, 정확도 : {1:.4f}'.format(depth,accuracy))"
   ]
  },
  {
   "cell_type": "markdown",
   "metadata": {},
   "source": [
    "    max_depth가 8일 경우 약 87.07%로 가장 높은 정확도가 나타났습니다. 이처럼 결정 트리는 깊이가 깊어질수록 과적합의 영향력이 커지므로 하이퍼 파라미터를 이용해 깊이를 제어할 수 있어야 합니다. 복잡한 모델보다도 트리 깊이를 낮춘 단순한 모델이 더욱 효과적인 결과를 가져올 수 있습니다."
   ]
  },
  {
   "cell_type": "code",
   "execution_count": 28,
   "metadata": {},
   "outputs": [
    {
     "name": "stdout",
     "output_type": "stream",
     "text": [
      "Fitting 5 folds for each of 8 candidates, totalling 40 fits\n"
     ]
    },
    {
     "name": "stderr",
     "output_type": "stream",
     "text": [
      "[Parallel(n_jobs=1)]: Using backend SequentialBackend with 1 concurrent workers.\n",
      "[Parallel(n_jobs=1)]: Done  40 out of  40 | elapsed:  1.6min finished\n"
     ]
    },
    {
     "name": "stdout",
     "output_type": "stream",
     "text": [
      "GridSearchCV 최고 평균 정확도 수치: 0.8550\n",
      "GridSearchCV 최적 하이퍼 파라미터: {'max_depth': 8, 'min_samples_split': 16}\n"
     ]
    }
   ],
   "source": [
    "params = {\n",
    "    'max_depth':[8,12,16,20],\n",
    "    'min_samples_split':[16,24]\n",
    "    \n",
    "}\n",
    "\n",
    "grid_cv = GridSearchCV(dt_clf, param_grid=params, scoring='accuracy', cv=5, verbose=1)\n",
    "grid_cv.fit(X_train, y_train)\n",
    "print('GridSearchCV 최고 평균 정확도 수치: {0:.4f}'.format(grid_cv.best_score_))\n",
    "print('GridSearchCV 최적 하이퍼 파라미터:',grid_cv.best_params_)"
   ]
  },
  {
   "cell_type": "markdown",
   "metadata": {},
   "source": [
    "    max_depth가 8, min_samples_split이 16일 때 가장 최고의 정확도로 약 85.5%를 나타냅니다."
   ]
  },
  {
   "cell_type": "markdown",
   "metadata": {},
   "source": [
    "별도의 분리된 테스트 데이터 세트에 해당 하이퍼 파라미터를 적용해 보겠습니다. 앞 예제의 GridSearchCV 객체인 grid_cv의 속성인 best_esimator_는 최적 하이퍼 파라미터인 max_depth 8, min_samples_split 16으로 학습이 완료된 Estimator 객체입니다."
   ]
  },
  {
   "cell_type": "code",
   "execution_count": 29,
   "metadata": {},
   "outputs": [
    {
     "name": "stdout",
     "output_type": "stream",
     "text": [
      "결정 트리 예측 정화도:0.8717\n"
     ]
    }
   ],
   "source": [
    "best_dt_clf = grid_cv.best_estimator_\n",
    "pred1 = best_dt_clf.predict(X_test)\n",
    "accuracy = accuracy_score(y_test, pred1)\n",
    "print('결정 트리 예측 정화도:{0:.4f}'.format(accuracy))"
   ]
  },
  {
   "cell_type": "markdown",
   "metadata": {},
   "source": [
    "    max_depth 8, min_samples_split 16일 때 테스트 데이터 세트의 예측 정확도는 약 87.17%입니다."
   ]
  },
  {
   "cell_type": "markdown",
   "metadata": {},
   "source": [
    "마지막으로 결정 트리에서 각 피처의중요도를 feature_importances_ 속성을 이용해 알아보겠습니다."
   ]
  },
  {
   "cell_type": "code",
   "execution_count": 30,
   "metadata": {},
   "outputs": [
    {
     "data": {
      "image/png": "[encoded data removed]",
      "text/plain": [
       "<Figure size 576x432 with 1 Axes>"
      ]
     },
     "metadata": {
      "needs_background": "light"
     },
     "output_type": "display_data"
    }
   ],
   "source": [
    "import seaborn as sns\n",
    "\n",
    "ftr_importances_values = best_dt_clf.feature_importances_\n",
    "\n",
    "# TOP 중요도로 졍렬을 쉽게하고, 사본(Seaborn)의 막대그래프로 쉽게 표현하기 위해 Series 표현\n",
    "ftr_importances = pd.Series(ftr_importances_values, index=X_train.columns)\n",
    "\n",
    "# 중요도갑 순으로 Series 정렬\n",
    "ftr_top20 = ftr_importances.sort_values(ascending=False)[:20]\n",
    "plt.figure(figsize=(8,6))\n",
    "plt.title('Feature importances Top 20')\n",
    "sns.barplot(x=ftr_top20, y=ftr_top20.index)\n",
    "plt.show()"
   ]
  },
  {
   "cell_type": "markdown",
   "metadata": {},
   "source": [
    "# 앙상블 학습\n",
    "#### 앙상블 학습 개요\n",
    "\n",
    "        앙상블 학습(Ensemble Learning)을 통한 분류는 여러 개의 분류기(Classifier)를 생성하고 그 예측을 결합함으로써 보다 정확한 최종 예측을 도출하는 기법을 말합니다. \n",
    "        \n",
    "        이미지, 영상, 음성 등의 비정형 데이터의 분류는 딥러닝이 뛰어난 성능을 보이고 있지만, 대부분의 정형 데이터 분류 시에는 앙상블이 뛰어난 성능을 나타내고 있습니다. 앙상블 알고리즘의 대표격인 랜덤 포레스트와 그래디언드 부스팅 알고리즘이 있다. 부스팅 계열의 앙상블 알고리즘의 인기와 강세가 계속 이어져 기조노의 그래디언트 부스팅을 뛰어넘는 새로운 새로운 알고리즘의 개발이 가속화 됐습니다. XGBoost와 비슷하지만 수행속도가 더 빠른 LightGBM, 여러가지 모델의 결과를 기반으로 메타 모델을 수립한는 스태킹(Stacking)이 대세입니다. XGBoost, LightGBM과 같은 최신의 앙상블 모델 한두 개만 잘 알고 있어도 정형 데이터의 분류나 회귀 분야에서 예측 성능이 매우 뛰어난 모델을 쉽게 만들 수 있습니다. 그만큼 쉽고 편하면서도 강력한 성능을 보유하고 있는 것이 바로 앙상블 학습의 특징입니다.\n",
    "        \n",
    "        앙상블 학습의 유형은 전통적으로는 보팅(Voting), 배깅(Bagging), 부스팅(Boosting)의 세 가지로 나 눌 수 있으며, 이외에도 스태킹을 포함한 다양한 앙상블 방법이 있습니다. 보팅과 배깅은 여러 개의 분류기가 투료를 통해 최종 에측 결과를 결정하는 방식 입니다.\n",
    "        보팅과 배깅의 다른 점은 보팅의 경우 일반적으로는 서로 다른 알고리즘믕ㄹ 가진 분류기를 결합하는 것이고, 배깅의 경우 각각의 분류기가 모두 같은 유형의 알고리즘 기반이지만, 데이터 샘플링을 서로 다르게 가져가면서 학습을 수행해 보팅을 수행하는 것입니다. 배깅의 대표로는 랜덤 포레스트 알고리즘 입니다.\n",
    "        개별 분류기에 할당된 학습 데이터는 원본 학습 데이터를 샘플링해 추출하는데, 이렇게 개별 Classifier에게 데이터를 샘플링 해서 추출하는 방식을 부트스래핑(Boostrapping) 분할 방식이라고 부릅니다. 개별 분류기가 부트 스트래핑 방식으로 샘플링된 데이터 세트에 대해서 학습을 통해 개별적인 예측을 수행한 결과를 보팅을 통해서 최종 예측 결과를 선정하는 방식이 바로 배깅 앙상블 방식입니다. 교차 검증이 데이터 세트간에 중첩을 허용하지 않는 것과 다르게 배깅 방식은 중첩을 허용합니다."
   ]
  },
  {
   "cell_type": "markdown",
   "metadata": {},
   "source": [
    "#### 보팅 유형 - 하드 보팅 (Hard Voting)과 소프트 보팅(Soft Voting)\n",
    "\n",
    "        보팅 방법에는 하드 보팅과 소프트 보팅이 있으며, 하드 보팅을 이용한 분류는 다수결 원칙과 비슷합니다. 소프트 보팅은 분류기들의 레이블 값 결정 확률을 모두 더하고 이를 평균해서 이들 중 확률이 가장 높은 레이블 값을 최종 보팅 결괏값으로 선정합니다. 일반적으로 하드 보팅보다는 소프트 보팅이 예측 성능이 좋아서 더 많이 사용됩니다."
   ]
  },
  {
   "cell_type": "markdown",
   "metadata": {},
   "source": [
    "#### 보팅 분류기(Voting Classifier)\n",
    "\n",
    "        사이킷런은 보팅방식의 앙상블을 구현한 VotingClassifier 클래스를 제공하고 있습니다."
   ]
  },
  {
   "cell_type": "code",
   "execution_count": 1,
   "metadata": {},
   "outputs": [
    {
     "data": {
      "text/html": [
       "<div>\n",
       "<style scoped>\n",
       "    .dataframe tbody tr th:only-of-type {\n",
       "        vertical-align: middle;\n",
       "    }\n",
       "\n",
       "    .dataframe tbody tr th {\n",
       "        vertical-align: top;\n",
       "    }\n",
       "\n",
       "    .dataframe thead th {\n",
       "        text-align: right;\n",
       "    }\n",
       "</style>\n",
       "<table border=\"1\" class=\"dataframe\">\n",
       "  <thead>\n",
       "    <tr style=\"text-align: right;\">\n",
       "      <th></th>\n",
       "      <th>mean radius</th>\n",
       "      <th>mean texture</th>\n",
       "      <th>mean perimeter</th>\n",
       "      <th>mean area</th>\n",
       "      <th>mean smoothness</th>\n",
       "      <th>mean compactness</th>\n",
       "      <th>mean concavity</th>\n",
       "      <th>mean concave points</th>\n",
       "      <th>mean symmetry</th>\n",
       "      <th>mean fractal dimension</th>\n",
       "      <th>...</th>\n",
       "      <th>worst radius</th>\n",
       "      <th>worst texture</th>\n",
       "      <th>worst perimeter</th>\n",
       "      <th>worst area</th>\n",
       "      <th>worst smoothness</th>\n",
       "      <th>worst compactness</th>\n",
       "      <th>worst concavity</th>\n",
       "      <th>worst concave points</th>\n",
       "      <th>worst symmetry</th>\n",
       "      <th>worst fractal dimension</th>\n",
       "    </tr>\n",
       "  </thead>\n",
       "  <tbody>\n",
       "    <tr>\n",
       "      <th>0</th>\n",
       "      <td>17.99</td>\n",
       "      <td>10.38</td>\n",
       "      <td>122.8</td>\n",
       "      <td>1001.0</td>\n",
       "      <td>0.11840</td>\n",
       "      <td>0.27760</td>\n",
       "      <td>0.3001</td>\n",
       "      <td>0.14710</td>\n",
       "      <td>0.2419</td>\n",
       "      <td>0.07871</td>\n",
       "      <td>...</td>\n",
       "      <td>25.38</td>\n",
       "      <td>17.33</td>\n",
       "      <td>184.6</td>\n",
       "      <td>2019.0</td>\n",
       "      <td>0.1622</td>\n",
       "      <td>0.6656</td>\n",
       "      <td>0.7119</td>\n",
       "      <td>0.2654</td>\n",
       "      <td>0.4601</td>\n",
       "      <td>0.11890</td>\n",
       "    </tr>\n",
       "    <tr>\n",
       "      <th>1</th>\n",
       "      <td>20.57</td>\n",
       "      <td>17.77</td>\n",
       "      <td>132.9</td>\n",
       "      <td>1326.0</td>\n",
       "      <td>0.08474</td>\n",
       "      <td>0.07864</td>\n",
       "      <td>0.0869</td>\n",
       "      <td>0.07017</td>\n",
       "      <td>0.1812</td>\n",
       "      <td>0.05667</td>\n",
       "      <td>...</td>\n",
       "      <td>24.99</td>\n",
       "      <td>23.41</td>\n",
       "      <td>158.8</td>\n",
       "      <td>1956.0</td>\n",
       "      <td>0.1238</td>\n",
       "      <td>0.1866</td>\n",
       "      <td>0.2416</td>\n",
       "      <td>0.1860</td>\n",
       "      <td>0.2750</td>\n",
       "      <td>0.08902</td>\n",
       "    </tr>\n",
       "    <tr>\n",
       "      <th>2</th>\n",
       "      <td>19.69</td>\n",
       "      <td>21.25</td>\n",
       "      <td>130.0</td>\n",
       "      <td>1203.0</td>\n",
       "      <td>0.10960</td>\n",
       "      <td>0.15990</td>\n",
       "      <td>0.1974</td>\n",
       "      <td>0.12790</td>\n",
       "      <td>0.2069</td>\n",
       "      <td>0.05999</td>\n",
       "      <td>...</td>\n",
       "      <td>23.57</td>\n",
       "      <td>25.53</td>\n",
       "      <td>152.5</td>\n",
       "      <td>1709.0</td>\n",
       "      <td>0.1444</td>\n",
       "      <td>0.4245</td>\n",
       "      <td>0.4504</td>\n",
       "      <td>0.2430</td>\n",
       "      <td>0.3613</td>\n",
       "      <td>0.08758</td>\n",
       "    </tr>\n",
       "  </tbody>\n",
       "</table>\n",
       "<p>3 rows × 30 columns</p>\n",
       "</div>"
      ],
      "text/plain": [
       "   mean radius  mean texture  mean perimeter  mean area  mean smoothness  \\\n",
       "0        17.99         10.38           122.8     1001.0          0.11840   \n",
       "1        20.57         17.77           132.9     1326.0          0.08474   \n",
       "2        19.69         21.25           130.0     1203.0          0.10960   \n",
       "\n",
       "   mean compactness  mean concavity  mean concave points  mean symmetry  \\\n",
       "0           0.27760          0.3001              0.14710         0.2419   \n",
       "1           0.07864          0.0869              0.07017         0.1812   \n",
       "2           0.15990          0.1974              0.12790         0.2069   \n",
       "\n",
       "   mean fractal dimension  ...  worst radius  worst texture  worst perimeter  \\\n",
       "0                 0.07871  ...         25.38          17.33            184.6   \n",
       "1                 0.05667  ...         24.99          23.41            158.8   \n",
       "2                 0.05999  ...         23.57          25.53            152.5   \n",
       "\n",
       "   worst area  worst smoothness  worst compactness  worst concavity  \\\n",
       "0      2019.0            0.1622             0.6656           0.7119   \n",
       "1      1956.0            0.1238             0.1866           0.2416   \n",
       "2      1709.0            0.1444             0.4245           0.4504   \n",
       "\n",
       "   worst concave points  worst symmetry  worst fractal dimension  \n",
       "0                0.2654          0.4601                  0.11890  \n",
       "1                0.1860          0.2750                  0.08902  \n",
       "2                0.2430          0.3613                  0.08758  \n",
       "\n",
       "[3 rows x 30 columns]"
      ]
     },
     "execution_count": 1,
     "metadata": {},
     "output_type": "execute_result"
    }
   ],
   "source": [
    "import pandas as pd\n",
    "\n",
    "from sklearn.ensemble import VotingClassifier\n",
    "from sklearn.linear_model import LogisticRegression\n",
    "from sklearn.neighbors import KNeighborsClassifier\n",
    "from sklearn.datasets import load_breast_cancer\n",
    "from sklearn.model_selection import train_test_split\n",
    "from sklearn.metrics import accuracy_score\n",
    "\n",
    "cancer = load_breast_cancer()\n",
    "\n",
    "data_df = pd.DataFrame(cancer.data, columns = cancer.feature_names)\n",
    "data_df.head(3)"
   ]
  },
  {
   "cell_type": "markdown",
   "metadata": {},
   "source": [
    "VotingClassifier 클래스는 주요 생성 인자로 estimators와 voting 값을 입력 받습니다.esitmators는 리스트 값으로 보팅에 사용될 여러개의 Classifier 객체들을 튜플형식으로 입력 받으며 voting 은 하드와 소프트 보팅 방식을 적용하라는 의미입니다."
   ]
  },
  {
   "cell_type": "code",
   "execution_count": 4,
   "metadata": {
    "scrolled": true
   },
   "outputs": [
    {
     "name": "stdout",
     "output_type": "stream",
     "text": [
      "Voting 분류기 정확도: 0.9561\n",
      "LogisticRegression 정확도: 0.9474\n",
      "KNeighborsClassifier 정확도: 0.9386\n"
     ]
    },
    {
     "name": "stderr",
     "output_type": "stream",
     "text": [
      "C:\\Users\\dogun\\Anaconda3\\lib\\site-packages\\sklearn\\linear_model\\logistic.py:432: FutureWarning: Default solver will be changed to 'lbfgs' in 0.22. Specify a solver to silence this warning.\n",
      "  FutureWarning)\n",
      "C:\\Users\\dogun\\Anaconda3\\lib\\site-packages\\sklearn\\linear_model\\logistic.py:432: FutureWarning: Default solver will be changed to 'lbfgs' in 0.22. Specify a solver to silence this warning.\n",
      "  FutureWarning)\n"
     ]
    }
   ],
   "source": [
    "# 개별 모델은 로지스틱 회귀와 KNN임.\n",
    "lr_clf = LogisticRegression()\n",
    "knn_clf = KNeighborsClassifier(n_neighbors=8)\n",
    "\n",
    "# 개별 모델을 소프트 보팅 기반의 앙상블 모델로 구현한 분류기\n",
    "vo_clf = VotingClassifier( estimators = [('LR', lr_clf),('KNN',knn_clf)], voting='soft')\n",
    "\n",
    "X_train, X_test, y_train, y_test = train_test_split(cancer.data,cancer.target,test_size=0.2, random_state=156)\n",
    "\n",
    "# VotingClassifier 학습 / 예측 / 평가\n",
    "vo_clf.fit(X_train, y_train)\n",
    "pred = vo_clf.predict(X_test)\n",
    "print('Voting 분류기 정확도: {0:.4f}'.format(accuracy_score(y_test,pred)))\n",
    "\n",
    "# 개별 모델의 학습 / 예측 / 평가\n",
    "classifiers = [lr_clf, knn_clf]\n",
    "for classifier in classifiers:\n",
    "    classifier.fit(X_train,y_train)\n",
    "    pred = classifier.predict(X_test)\n",
    "    class_name = classifier.__class__.__name__\n",
    "    print('{0} 정확도: {1:.4f}'.format(class_name, accuracy_score(y_test,pred)))"
   ]
  },
  {
   "cell_type": "markdown",
   "metadata": {},
   "source": [
    "     보팅 분류기가 정확도가 조금 높게 나타났는데, 보팅으로 여러 개의 기반 분류기를 결합한다고 해서 무조건 기반 분류기보다 예측 성능이 향상되지는 않습니다. !! 데이터의 특성과 분포 등 다양한 요건에 따라 오히려 기반 분류기 중 가장 좋은 분류기의 성능이 보팅했을 때 보다 나을 수도 있습니다.\n",
    "     전반적으로 단일 ML 알고리즘 보다 뛰어난 예측 성능을 가지는 경우가 많습니다. 다양한 관점을 가진 알고리즘이 서로 결합해 더 나은 성능을 실제 환경에서 끌어낼 수 있습니다.\n",
    "     \n",
    "      ML 모델의 성능은 이렇게 다양한 테스트 데이터에 의해 검증되므로 어떻게 높은 유연성을 가지고 현실에 대처할 수 있는가가 중요한 ML 모델의 평가 요소가 됩니다. 편향-분산 트레이드 오프는 ML 모델이 극복해야 할 중요 과제입니다. 이런 관점에서 보팅과 스태킹은 서로 다른 알고리즘기반, 배깅과 부스팅은 대부분 결정 트리 알고리즘을 기반으로 합니다.앙상블 학습에서는 이 같은 결정 트리 알고리즘의 단점을 수십~수천 개의 매우 많은 분류기를 결합해 다양한 상황을 학습하게 함으로써 극복하고 있습니다. 결정 트리 알고리즘의 장점은 그대로 취하고 단점은 보완하면서 편향-분산 트레이드오프의 효과를 극대화할 수 있다는 것입니다."
   ]
  },
  {
   "cell_type": "markdown",
   "metadata": {},
   "source": [
    "# 랜덤  포레스트\n",
    "\n",
    "#### 랜덤 포레스트의 개요 및 실습\n",
    "\n",
    "        배깅(Bagging)은 앞에서 소개한 보팅과는 다르게, 같은 알고리즘으로 여러 개의 분류기를 만들어서 보팅으로 최종 결정하는 알고리즘입니다. 랜덤 포레스트의 기반 알고리즘은 결정트리(DecisionTreeClassifier)로서, 쉽고 직관적인 장점을 그대로 가져왔습니다.\n",
    "        랜덤 포레스트뿐만 아니라 부스팅 기반의 다양한 앙상블 알고리즘 역시 대부분 결정 트리 알고라짐을 기반 알고리즘으로 채택하고 있습니다.\n",
    "        \n",
    "        랜덤 포레스트는 개별적인 분류기의 기반 알고리즘은 결정 트리지만 개별 트리가 학습하는 데이터는 전체 테이터에서 일부가 중첩되게 샘플링된 데이터 세트입니다. <- 부트스트래핑(Boostrapping) 방식 : 배깅(Bagging)은 Boostrapping Aggregation의 줄임말, 원래 부트스트랩은 통계학에서 여러 개의 작은 데이터 세트를 임의로 만들어 개별 평균의 분포도를 측정하는 등의 목적을 위한 샘플링 방식을 자칭합니다.\n",
    "        이렇게 데이터가 중첩된 개별 데이터 세트에 결정 트리 분류기를 각각 적용하는 것이 랜덤 포레스트입니다.\n",
    "        "
   ]
  },
  {
   "cell_type": "code",
   "execution_count": 8,
   "metadata": {},
   "outputs": [
    {
     "name": "stdout",
     "output_type": "stream",
     "text": [
      " 랜덤 포레스트 정확도: 0.9108\n"
     ]
    }
   ],
   "source": [
    "from sklearn.ensemble import RandomForestClassifier\n",
    "from sklearn.tree import DecisionTreeClassifier\n",
    "from sklearn.model_selection import train_test_split\n",
    "from sklearn.metrics import accuracy_score\n",
    "import pandas as pd\n",
    "import warnings\n",
    "warnings.filterwarnings('ignore')\n",
    "\n",
    "# 결정 트리에서 사용한 get_human_dataset()를 이용해 학습/테스트용 DataFrame 반환\n",
    "X_train, X_test, y_train, y_test = get_human_dataset()\n",
    "\n",
    "# 랜덤 포레스트 학습 및 별도의 테스트 세트로 예측 성능 평가\n",
    "rf_clf = RandomForestClassifier(random_state=0)\n",
    "rf_clf.fit(X_train, y_train)\n",
    "pred = rf_clf.predict(X_test)\n",
    "accuracy = accuracy_score(y_test,pred)\n",
    "print(' 랜덤 포레스트 정확도: {0:.4f}'.format(accuracy))"
   ]
  },
  {
   "cell_type": "markdown",
   "metadata": {},
   "source": [
    "    랜덤 포레스트는 사용자 행동 인식 데이터 세트에 대해 약 91.08%의 정확도를 보여줍니다.\n",
    "   "
   ]
  },
  {
   "cell_type": "markdown",
   "metadata": {},
   "source": [
    "#### 랜덤 포레스트 하이퍼 파리미터 및 튜닝\n",
    "\n",
    "        트리 기반의 앙상블 알고리즘의 단점을 굳이 뽑자면 하이퍼 파라미터가 너무 많고, 그로 인해서 튜닝을 위한 시간이 많이 소모 된다는 것입니다. 트리 기반 자체의 하이퍼 파라미터가 원래 많은데 배깅, 부스팅, 학습 등을 위한 하이퍼 파라미터가 추가되면 일반적인 ML 비해 많을 수 밖에 없습니다."
   ]
  },
  {
   "cell_type": "markdown",
   "metadata": {},
   "source": [
    "n_estimator : 랜덤 포레스트에서 결정 트리의 개수를 지정합니다. 디폴트는 10, 많을수록 좋은 성능을 기대할 수 있지만 계속 증가시킨\n",
    "               다고 무조건 성능의 향상되는 것은 아닙니다.\n",
    "               \n",
    "max_feature : 결정 트리에 사용된 max_features 파라미터와 같습니다. RandomForestClassifier의 기본 max_features는 'None'이 아니라\n",
    "               'auto', 즉 'sqrt'와 같습니다.\n",
    "               \n",
    "max_depth와 min_samples_leaf : 과적합 개선을 위해 사용되는 파라미터가 랜덤 포레스트에서도 똑같이 적용됩니다."
   ]
  },
  {
   "cell_type": "markdown",
   "metadata": {},
   "source": [
    "랜덤 포레스트는 CPU 병렬 처리도 효과적으로 수행되어 빠르게 학습이 가능합니다. 멀티 코어 환경에서 n_jobs = -1 파라미터를 추가하면 모든 cpu코어를 이용해 학습할 수 있습니다."
   ]
  },
  {
   "cell_type": "code",
   "execution_count": 9,
   "metadata": {},
   "outputs": [
    {
     "name": "stdout",
     "output_type": "stream",
     "text": [
      "최적 하이퍼 파라미터:\n",
      " {'max_depth': 10, 'min_samples_leaf': 18, 'min_samples_split': 8, 'n_estimators': 50}\n",
      "최적 예측 정확도:0.9161\n"
     ]
    }
   ],
   "source": [
    "from sklearn.model_selection import GridSearchCV\n",
    "\n",
    "params = { 'n_estimators':[50],\n",
    "         'max_depth':[6,8,10,12],\n",
    "         'min_samples_leaf':[8,12,18],\n",
    "         'min_samples_split':[8,16,20]\n",
    "         }\n",
    "\n",
    "# RandomForestClassifier 객체 생성 후 GridSearchCv 수행\n",
    "rf_clf = RandomForestClassifier(random_state=0) # cpu최대 활용 시 n_jobs=-1\n",
    "grid_cv = GridSearchCV(rf_clf, param_grid=params,cv=2,n_jobs=-1)\n",
    "grid_cv.fit(X_train,y_train)\n",
    "\n",
    "print('최적 하이퍼 파라미터:\\n',grid_cv.best_params_)\n",
    "print('최적 예측 정확도:{0:.4f}'.format(grid_cv.best_score_))"
   ]
  },
  {
   "cell_type": "markdown",
   "metadata": {},
   "source": [
    "    GridSearchCV를 통해 모델의 최적의 파라미터를 찾고 모델에 적용"
   ]
  },
  {
   "cell_type": "code",
   "execution_count": 11,
   "metadata": {},
   "outputs": [
    {
     "name": "stdout",
     "output_type": "stream",
     "text": [
      "예측 정확도: 0.9169\n"
     ]
    }
   ],
   "source": [
    "rf_clf1 = RandomForestClassifier(random_state=0, max_depth=10,min_samples_leaf=18, min_samples_split=8, n_estimators=300)\n",
    "\n",
    "rf_clf1.fit(X_train, y_train)\n",
    "pred = rf_clf1.predict(X_test)\n",
    "print('예측 정확도: {0:.4f}'.format(accuracy_score(y_test,pred)))"
   ]
  },
  {
   "cell_type": "markdown",
   "metadata": {},
   "source": [
    "    별도의 데스트 세트에서 수행항 예측 정확도 수치는 약 91.7%입니다. RF도 역시 DT와 똑같이 feature_importances_속성을 이용해 알고리즘이 선택한 피처의 중요도를 알 수 있습니다."
   ]
  },
  {
   "cell_type": "code",
   "execution_count": 13,
   "metadata": {},
   "outputs": [
    {
     "data": {
      "image/png": "[encoded data removed]",
      "text/plain": [
       "<Figure size 576x432 with 1 Axes>"
      ]
     },
     "metadata": {
      "needs_background": "light"
     },
     "output_type": "display_data"
    }
   ],
   "source": [
    "import matplotlib.pyplot as plt\n",
    "import seaborn as sns\n",
    "%matplotlib inline\n",
    "\n",
    "ftr_importances_values = rf_clf1.feature_importances_\n",
    "ftr_importances = pd.Series(ftr_importances_values, index=X_train.columns )\n",
    "ftr_top20 = ftr_importances.sort_values(ascending=False)[:20]\n",
    "\n",
    "plt.figure(figsize=(8,6))\n",
    "plt.title('Feature importances Top 20')\n",
    "sns.barplot(x=ftr_top20, y=ftr_top20.index)\n",
    "plt.show()"
   ]
  },
  {
   "cell_type": "markdown",
   "metadata": {},
   "source": [
    "    위에서 부터 높은 피처 중요도를 가집니다. Boostrapping의 사이즈는 데이터 세트의 수와 같고 중복을 허용하는 데이터 세트입니다."
   ]
  },
  {
   "cell_type": "markdown",
   "metadata": {},
   "source": [
    "# GBM ( Gradient Boosting Machine )\n",
    "\n",
    "#### GBM의 개요 및 실습\n",
    "\n",
    "        부스팅 알고리즘은 여러 개의 약한 학습기(Weak learner)를 순차적으로 학습-예측하면서 잘못 예측한 데이터에 가중치를 부여를 통해 오류를 개선해 나가면서 학습하는 방식입니다. 대표적인 부스팅 기법으로 AdaBoost( Adaptive boosting)과 그래디언트 부스트가 있습니다.\n",
    "        AdaBoost(Adapt boosting)는 오류 데이터에 가중치를 부여하면서 부스팅을 수행하는 알고리즘 입니다. 개별 약한 학습기는 오류 데이터에 가중치를 부여한 후 모두 결합해 예측을 수행합니다.\n",
    "        GBM(Gradient Boost Machine)도 에이다 부스트와 유사하나, 가중치 업데이트를 경사 하강법(Gradient Descent)을 이용하는 것이 큰 차이입니다. 분류의 실제값과 피처 데이터를 활용한 예측값F(x)함수라고 할 때 h(x) = y - F(x)를 최소화 하는 방향성을 가지고 반복적으로 가중치 값을 업데이트하는 것이 경사 하강법(Gradient Descent)입니다.\n",
    "        GBM은 CART 기반의 다른 알고리즘과 마찬가지로 분류는 물론, 회귀도 가능합니다."
   ]
  },
  {
   "cell_type": "code",
   "execution_count": 1,
   "metadata": {},
   "outputs": [],
   "source": [
    "from sklearn.metrics import accuracy_score"
   ]
  },
  {
   "cell_type": "code",
   "execution_count": 5,
   "metadata": {},
   "outputs": [
    {
     "name": "stdout",
     "output_type": "stream",
     "text": [
      "GBM 정확도: 0.9386\n",
      "GBM 수행 시간: 322.2\n"
     ]
    }
   ],
   "source": [
    "from sklearn.ensemble import GradientBoostingClassifier\n",
    "import time\n",
    "import warnings\n",
    "warnings.filterwarnings('ignore')\n",
    "\n",
    "X_train, X_test, y_train, y_test = get_human_dataset()\n",
    "\n",
    "# GBM 수행 시간 측정을 위함. 시작 시간 설정.\n",
    "start_time = time.time()\n",
    "gb_clf = GradientBoostingClassifier(random_state=0)\n",
    "gb_clf.fit(X_train, y_train)\n",
    "gb_pred = gb_clf.predict(X_test)\n",
    "gb_accuracy = accuracy_score(y_test,gb_pred)\n",
    "\n",
    "print('GBM 정확도: {0:.4f}'.format(gb_accuracy))\n",
    "print('GBM 수행 시간: {0:.1f}'.format(time.time()-start_time))"
   ]
  },
  {
   "cell_type": "markdown",
   "metadata": {},
   "source": [
    "    기본 하이퍼 파라미터만으로 93.86%의 예측 정확도로 앞의 랜덤 포레스트보다 나은 예측 선능을 나타냈습니다. 일반적으로 GBM이 랜덤 포레스트보다는 예측 성능이 조금 뛰오난 경우가 많습니다. 그러나 수행 시간이 오래 걸리고, 하이퍼 파라미터 튜닝 노력도 더 필요합니다. 반면에 랜덤 포레스트의 경우 상대적으로 빠른 수행 시간을 보장해주기 때문에 더 쉽게 예측 결과를 도출할 수 있습니다."
   ]
  },
  {
   "cell_type": "markdown",
   "metadata": {},
   "source": [
    "#### GBM 하이퍼 파라미터 및 튜닝\n",
    "\n",
    "        loss : 경사 하갑법에서 사용할 비용 함수를 지정합니다. 디폴트 값 'deviance'\n",
    "        learning_rate : GBM이 학습을 진행할 때마다 적용하는 학습률입니다. Weak learner가 순차적으로 오류 값을 보정해 가는 데 적용하는 계수입니다. 0~1 사이 값이면 디폴트 0.1입니다. learning rate에 따라 학습율이 빠르게 또는 느리게 적용되며 최솟값을 찾는데 영향을 미칩니다. 이러한 특성 때문에 learning_rate는  n_estimators와 상호 보완적으로 조합해 사용합니다. learning_rate를 작게 하고 n_estimators를 크게 하면 더 이상 성은이 좋아지지 않는 한계점까지는 예측 성능이 조금씩 좋아질 수 있습니다. 하지만 수행 시간이 너무 오래 걸리는 단점이 있으며, 예측 성능 역시 현격히 종하지지는 않습니다.\n",
    "        n_estimators : weak learner의 개수 입니다. 수가 많을수록 예측 성능이 일정 수준까지는 좋아집니다. default 100\n",
    "        subsample  : weak learner가 학습에는 사용하는 데이터의 샘플링 비율입니다. 기본값은 1이며, 이는 전체 학습 데이터를 기반으로 학습한다는 의미입니다.(0.5 이면 학습 데이터의 50%). 과적합이 염려되는 경우 subsample을 1보다 작은 값으로 설정합니다."
   ]
  },
  {
   "cell_type": "markdown",
   "metadata": {},
   "source": [
    "GridSearchCV를 통해 하이퍼 파라미터를 최적화해 보겠습니다."
   ]
  },
  {
   "cell_type": "code",
   "execution_count": null,
   "metadata": {},
   "outputs": [],
   "source": [
    "from sklearn.model_selection import GridSearchCV\n",
    "from sklearn.ensemble import GradientBoostingClassifier\n",
    "\n",
    "gb_clf = GradientBoostingClassifier(random_state=0)\n",
    "\n",
    "params ={\n",
    "    'n_estimators':[100,500],\n",
    "    'learning_rate':[0.05,0.1]\n",
    "}\n",
    "\n",
    "grid_cv = GridSearchCV(gb_clf,param_grid=params,cv=2, verbose=1)\n",
    "grid_cv.fit(X_train, y_train)\n",
    "print('최적 하이퍼 파라미터:\\n',grid_cv.best_params_)\n",
    "print('최고 예측 정확도:\\n',grid_cv.best_score_)"
   ]
  },
  {
   "cell_type": "markdown",
   "metadata": {},
   "source": [
    "    GBM은 과적합에도 강한 뛰어난 예측 성능을 가진 알고리즘입니다. 하지만 수행 시간이 오래 걸리다는 단점이 있습니다. 머신러닝 세계에서 가장 각광으 ㄹ받고 있는 두 개의 그래디언트 부스팅 기반 ML 패키지는 XGBoost와 LightGBM 입니다."
   ]
  },
  {
   "cell_type": "markdown",
   "metadata": {},
   "source": [
    "# XGBoost( eXtra Gradient Boost )\n",
    "\n",
    "#### XGBoost 개요\n",
    "\n",
    "        XGBoost는 트리 기반의 앙상블 학습에서 가장 각광받고 있는 알고리즘 중 하나입니다. 유명한 캐글 경연 대회(Kaggle Contest)에서 상위를 차지한 많은 데이터 과학자가 XGBoost를 이용하면서 널리 알려졌습니다. 일반적인 ML 보다 뛰어난 성능을 보입니다. XGBoost는 GBM에 기반하고 있지만, GBM의 단점인 느린 수행 시간 및 과적합 규제(Regularization) 부재 등의 문제를 해결해서 매우 각광을 받고 있습니다. 병렬 CPU 환경에서 병렬 학습이 가능해 기존 GBM보다 빠르게 학습을 환료할 수 있습니다.\n",
    "        \n",
    "        주요 장점\n",
    "        \n",
    "        뛰어난 예측 성능 : 일반적으로 분류와 회귀 영역에서 뛰어난 예측 성능을 발휘합니다.\n",
    "        \n",
    "        GMB 대비 빠른 수행 시간 : 일반적으로 GBM은 순차적으로 Weak learner가 가중치를 증감하는 방법으로 학습하기 때문에 전반적으\n",
    "                                속도가 느립니다. 하지만 XGBoost가 일반적인 GBM에 비해 수행 시간이 빠르다는 것이지, 다른 머신러닝                                  알고리즘에(예, 랜덤포레스트)에 비해서 빠르다는 의미는 아닙니다.\n",
    "                                \n",
    "        과적합 규제 (Regularization) : 일반적으로 GBM은 분할 시 부정 손실이 발생하면 분할을 더 이상 수행하지 않지만, 이러한\n",
    "                                      방식도 자칫 지나치게 많은 분할을 발생할 수 있습니다.\n",
    "                                      다른 GBM 처럼 max_depth 설정이 가능하지만 treepruning으로 더 이상 긍정 이득이 없는 분할을\n",
    "                                      가지치기 해서 분할 수를 더 줄이는 추가적인 장점을 가집니다.\n",
    "         \n",
    "        자체 내장된 교차 검증 : XGBoost는 반복 수행 시마다 내부적으로 학습 데이터 세트와 평가 데이터 세트에 대한 교차 검증을\n",
    "                               수행해 반복 횟수가 아니라 교차 검증을 통해 평가 데이터 세트의 평가 값이 최적화 되면 반복을 중간에 \n",
    "                               멈출 수 있는 조기 중단 기능이 있습니다.\n",
    "                               \n",
    "       결손값 자체 처리 : XGBoost는 결손값을 자체 처리할 수 있는 기능을 가지고 있습니다."
   ]
  },
  {
   "cell_type": "markdown",
   "metadata": {},
   "source": [
    "        XGBoost의 핵심 라이브러리는 C/C++로 작성돼 있습니다. XGBoost 초기 독자적인 프레임워크 기반의 XGBoost를 파이썬 래퍼(cross_val_score, GridSeachCV, Pipeline등과 함께 사용 불가) XGBoost 모듈, 사이킷런과 연동되는 모듈을 사이킷런 래퍼XGBoost 모듈(fit 과 predict를 사용가능)이라고 지칭하겠습니다."
   ]
  },
  {
   "cell_type": "markdown",
   "metadata": {},
   "source": [
    "#### XGBoost 설치하기\n",
    "\n",
    "        XGBoost 설치는 아나콘다를 이용하여 '관리자 권한으로 실행'으로 'conda install -c anaconda py-xgboost' 명령어를 입력합니다. 설치가 완료되면 import xgboost as xgb; from xgboost import XGBClassifer 로 설치\n",
    "        리눅스에 설치하는 것도 아나콘다를 이용해 'conda install -c conda-forge xgboost' 를 통해 설치가능"
   ]
  },
  {
   "cell_type": "code",
   "execution_count": 4,
   "metadata": {},
   "outputs": [],
   "source": [
    "import xgboost as xgb\n",
    "from xgboost import XGBClassifier"
   ]
  },
  {
   "cell_type": "markdown",
   "metadata": {},
   "source": [
    "#### 파이썬 래퍼 XGBoost 하이퍼 파라미터\n",
    "\n",
    "        XGBoost는 GBM과 유사한 하이퍼 파라미터를 동일하게 가지고 있으며, 조기 중단(early stopping), 과적합을 규제하기 위한 하이퍼 파라미터 등이 추가됐습니다. 파이썬 래퍼XGB와 사이킷런 래퍼 XGB 모듈의 일부 하이퍼 파라미터는 약간 다르므로 이에 대한 주의가 필요합니다. 정확히는 사이킷런 파라미터의 범용화된 이름 규칙(Naming Rule)에 따라 파라미터 명이 달라집니다.\n",
    "        \n",
    "        파이써 래퍼 XGBoost 하이퍼 파라미터 유형\n",
    "        \n",
    "        일반 파라미터 : 일반적으로 실행 시 스레드의 개수나 silent 모드 드으이 선택을 위한 파라미터로서 디폴트 파라미터 값을 바꾸\n",
    "                        는 경우는 거의 없습니다.\n",
    "                        \n",
    "                        booster : gbtree(tree based model) 또는 gblinear( linear model )선택. 디폴드 gbtree입니다.\n",
    "                        silent : 디폴트는 0입니다. 출력 메세지를 나타내고 싶지 않을 경우 1로 설정합니다.\n",
    "                        nthread : CPU의 실행 스레드 개수를 조정하며, 디폴트는 CPU의 전체 스레드를 다 사용하는 것입니다. 멀티\n",
    "                                코어/스레드 CPU 시스템에서 전체 CPU를 사용하지 않고 일부만 사용해 구동하는 경우에 변경합니다.\n",
    "                                \n",
    "        주요 부스터 파라미터 : 트리 최적화, 부스팅, Regularization 등과 관련 파라미터 등을 지칭합니다.\n",
    "        \n",
    "                               eta[default=0.3, learning_rate] : GBM의 학습률과 같은 파라미터입니다. 사이킷런 래퍼 모듈에서는\n",
    "                                                               learning_rate로 대체되며, 디폴트는 0.1입니다.\n",
    "                               num_boos_rounds : GBM의 n_estimators와 같은 파라미터입니다.\n",
    "                               min_child_weight[default=1] : 트리에서 추가적인 가지를 나눌지를 결정하기 위해 필요한 데이터들의\n",
    "                                                           weight총합. 클수록 분할을 자제합니다. 과적합 조절용\n",
    "                               gamma[default=0, min_split_loss] : 트리의 리프 노드를 추가적으로 나눌지를 결정할 최소 손실 감소\n",
    "                                                                   값. 해당 값보다 큰 손실(loss)이 감소된 경우에 리프 노드를\n",
    "                                                                   분리. 값이 클수록 과적합 감소 효과.\n",
    "                               max_depth[default=6] : 트리 기반 알고리즘의 max_depth와 같습니다.\n",
    "                               sub_sample[default=1] : GBM의 subsamples과 동일합니다. 트리가 커져서 과적합되는 것을 제어하기 \n",
    "                                                       위해 데이터를 샘플링하는 비율을 지정합니다. 0~1 사이값. 0.5는 데이터 절반\n",
    "                               colsample_bytree[ default=1 ] : GBM의 max_features와 유사합니다. 트리 생성에 필요한 피처(칼럼)\n",
    "                                                              를 임의로 샘플링 하는데 사용됩니다. 매우 많은 피처가 있는 경우\n",
    "                                                              과적합을 조정하는 데 적용합니다.\n",
    "                               lambda[default=1, reg_lambda] : L2 Regularization 적용 값입니다. 피처 개수가 많을수록 과적합 감소\n",
    "                               alpha[default=0, reg_alpha] : L1 Regularization 적용 값입니다. 이하 동문\n",
    "                               scale_pos_weight [default=1] : 특정 값으로 치우친 비대칭한 클래스로 구성된 데이터 세트의 균형을\n",
    "                                                               유지하기 위한 파라미터입니다.\n",
    "       \n",
    "       학습 태스크 파라미터 : 학습 수행 시의 객체 함수, 평가를 위한 지표 등을 설정하는 파라미터 입니다.\n",
    "       \n",
    "                           objective : 최솟값을 가져야할 손실 함수를 정의합니다. XGBoost는 많은 유형의 손실 함수를 사용할 수 있\n",
    "                                       습니다. 주로 사용되는 손실함수는 이진 분류인지 다중 분류인지에 따라 달라집니다.\n",
    "                                       \n",
    "                           binary:logistic: 이진 분류일 때 적용합니다.\n",
    "                           multi:softmax : 다중 분류일 때 적용합니다. 손실 함수가 multi일 때 레이블 클래스의 개수인 num_class\n",
    "                                            파라미터를 지정해야 합니다\n",
    "                            multi:softprob : multi:softmax와 유사하나 개별 레이블 클래스의 해당되는 예측 확률을 반환합니다.\n",
    "                            eval_metric : 검증에 사용되는 함수를 정의합니다. 기본값으 회귀인 경우는 rmse, 분류일 경우에는 error\n",
    "                                        입니다. \n",
    "                                        \n",
    "                                        rmse : Root Mean Square Error\n",
    "                                        mae : Mean Absolute Error\n",
    "                                        logloss : Negative log-likelihood\n",
    "                                        error : Binary classification error rate ( 0.5 = threshold )\n",
    "                                        merror : Multiclass Classification error rate\n",
    "                                        mlogloss : Multiclass logloss\n",
    "                                        auc : Area under the curve"
   ]
  },
  {
   "cell_type": "markdown",
   "metadata": {},
   "source": [
    "    뛰어난 알고리즘일수록 파라미터를 튜닝할 필요가 적습니다. 그리고 파라미터 튜닝에 들이는 공수 대비 성능 향상 효과가 높지 않는 경우가 대부분입니다. 파라미터를 튜닝하는 경우의 수는 여러 가지 상황에 따라 달라집니다. 피처의 수가 매우 많거나 피처 간 상관되는 정도가 많거나 데이터 세트에 따라 여러 가지 특성이 있을 수 있습니다.\n",
    "    \n",
    "        과적합 문제가 심각하다면 다음과 같이 적용할 것을 고려할 수 있습니다.\n",
    "        \n",
    "        - eta 값을 낮춥니다.(learning_rate 0.01~0.1 ). eta 값을 낮출 경우 num_round(n_estimators)는 반대로 높여줘야 합니다.\n",
    "        - max_depth 값을 낮춥니다.\n",
    "        - min_child_weight ( weight의 총합 ) 값을 높입니다.\n",
    "        - gamma ( min_split_loss 리프 노드를 추가적으로 나눌지를 결정할 최소 손실 감소 값 ) 값을 높입니다.\n",
    "        - subsample과 colsample_bytree를 조정하는 것도 트리가 복잡한 과적합 문제에 도움이 될 수 있습니다.\n",
    "        \n",
    "  "
   ]
  },
  {
   "cell_type": "markdown",
   "metadata": {},
   "source": [
    "    XGBoost는 자체적으로 교차 검증, 성능 평가, 피처 중요도 등의 시각화 기능을 가지고 있습니다. GBM에 비해 속도 증가시키기 위해 대표적인 기능으로 조기 중단(early Stopping) 기능이 있습니다. GBM의 경우 정해진 n_estimator만큼 반복적으로 학습 오류르 감소 시키몀 학습을 진행하면서 중간에 반복을 멈출 수 없다. XGBoost 그리고 LightGBM은 모두 조기 중단 기능이 있어서 예측 오류가 더이상 개선 되지 않으면 반복을 끝까지 수행하지 않고 중지해 수행 시간을 개선할 수 있습니다."
   ]
  },
  {
   "cell_type": "code",
   "execution_count": 6,
   "metadata": {},
   "outputs": [
    {
     "name": "stdout",
     "output_type": "stream",
     "text": [
      "0.90\n"
     ]
    }
   ],
   "source": [
    "print(xgb.__version__)"
   ]
  },
  {
   "cell_type": "markdown",
   "metadata": {},
   "source": [
    "#### 파이썬 래퍼 XGBoost 적용 - 위스콘신 유방암 예측\n",
    "\n",
    "        위스콘신 유방암 데이터 세트를 활용하여 파이썬 래퍼 XGBoost API의 사용법을 살펴보겠습니다.  교차 검증, 성능 평가, 피처 중요도 등의 시각화가 가능하고 조기 중간 기능이 있습니다. GBM보다 병렬 처리와 조기 중단 등으로 빠른 수행시간 처리가 가능하지만 CPU 코어가 많지 않은 개인용 PC에서는 수행시간 향샹을 경험하기 어려울 수 있습니다.\n",
    "        위스콘시 유방암 데이터 세트는 종양의 크기, 모양 등의 다양한 속성값을 기반으로 악성인지 양성 종양인지를 분류하는 데이터 세트입니다."
   ]
  },
  {
   "cell_type": "markdown",
   "metadata": {},
   "source": [
    "xgboost 패키지는 피처 중요도를 시각화해주는 모듈인 plot_importance를 함께 제공합니다."
   ]
  },
  {
   "cell_type": "code",
   "execution_count": 1,
   "metadata": {},
   "outputs": [
    {
     "data": {
      "text/html": [
       "<div>\n",
       "<style scoped>\n",
       "    .dataframe tbody tr th:only-of-type {\n",
       "        vertical-align: middle;\n",
       "    }\n",
       "\n",
       "    .dataframe tbody tr th {\n",
       "        vertical-align: top;\n",
       "    }\n",
       "\n",
       "    .dataframe thead th {\n",
       "        text-align: right;\n",
       "    }\n",
       "</style>\n",
       "<table border=\"1\" class=\"dataframe\">\n",
       "  <thead>\n",
       "    <tr style=\"text-align: right;\">\n",
       "      <th></th>\n",
       "      <th>mean radius</th>\n",
       "      <th>mean texture</th>\n",
       "      <th>mean perimeter</th>\n",
       "      <th>mean area</th>\n",
       "      <th>mean smoothness</th>\n",
       "      <th>mean compactness</th>\n",
       "      <th>mean concavity</th>\n",
       "      <th>mean concave points</th>\n",
       "      <th>mean symmetry</th>\n",
       "      <th>mean fractal dimension</th>\n",
       "      <th>...</th>\n",
       "      <th>worst texture</th>\n",
       "      <th>worst perimeter</th>\n",
       "      <th>worst area</th>\n",
       "      <th>worst smoothness</th>\n",
       "      <th>worst compactness</th>\n",
       "      <th>worst concavity</th>\n",
       "      <th>worst concave points</th>\n",
       "      <th>worst symmetry</th>\n",
       "      <th>worst fractal dimension</th>\n",
       "      <th>target</th>\n",
       "    </tr>\n",
       "  </thead>\n",
       "  <tbody>\n",
       "    <tr>\n",
       "      <th>0</th>\n",
       "      <td>17.99</td>\n",
       "      <td>10.38</td>\n",
       "      <td>122.80</td>\n",
       "      <td>1001.0</td>\n",
       "      <td>0.11840</td>\n",
       "      <td>0.27760</td>\n",
       "      <td>0.3001</td>\n",
       "      <td>0.14710</td>\n",
       "      <td>0.2419</td>\n",
       "      <td>0.07871</td>\n",
       "      <td>...</td>\n",
       "      <td>17.33</td>\n",
       "      <td>184.60</td>\n",
       "      <td>2019.0</td>\n",
       "      <td>0.1622</td>\n",
       "      <td>0.6656</td>\n",
       "      <td>0.7119</td>\n",
       "      <td>0.2654</td>\n",
       "      <td>0.4601</td>\n",
       "      <td>0.11890</td>\n",
       "      <td>0</td>\n",
       "    </tr>\n",
       "    <tr>\n",
       "      <th>1</th>\n",
       "      <td>20.57</td>\n",
       "      <td>17.77</td>\n",
       "      <td>132.90</td>\n",
       "      <td>1326.0</td>\n",
       "      <td>0.08474</td>\n",
       "      <td>0.07864</td>\n",
       "      <td>0.0869</td>\n",
       "      <td>0.07017</td>\n",
       "      <td>0.1812</td>\n",
       "      <td>0.05667</td>\n",
       "      <td>...</td>\n",
       "      <td>23.41</td>\n",
       "      <td>158.80</td>\n",
       "      <td>1956.0</td>\n",
       "      <td>0.1238</td>\n",
       "      <td>0.1866</td>\n",
       "      <td>0.2416</td>\n",
       "      <td>0.1860</td>\n",
       "      <td>0.2750</td>\n",
       "      <td>0.08902</td>\n",
       "      <td>0</td>\n",
       "    </tr>\n",
       "    <tr>\n",
       "      <th>2</th>\n",
       "      <td>19.69</td>\n",
       "      <td>21.25</td>\n",
       "      <td>130.00</td>\n",
       "      <td>1203.0</td>\n",
       "      <td>0.10960</td>\n",
       "      <td>0.15990</td>\n",
       "      <td>0.1974</td>\n",
       "      <td>0.12790</td>\n",
       "      <td>0.2069</td>\n",
       "      <td>0.05999</td>\n",
       "      <td>...</td>\n",
       "      <td>25.53</td>\n",
       "      <td>152.50</td>\n",
       "      <td>1709.0</td>\n",
       "      <td>0.1444</td>\n",
       "      <td>0.4245</td>\n",
       "      <td>0.4504</td>\n",
       "      <td>0.2430</td>\n",
       "      <td>0.3613</td>\n",
       "      <td>0.08758</td>\n",
       "      <td>0</td>\n",
       "    </tr>\n",
       "    <tr>\n",
       "      <th>3</th>\n",
       "      <td>11.42</td>\n",
       "      <td>20.38</td>\n",
       "      <td>77.58</td>\n",
       "      <td>386.1</td>\n",
       "      <td>0.14250</td>\n",
       "      <td>0.28390</td>\n",
       "      <td>0.2414</td>\n",
       "      <td>0.10520</td>\n",
       "      <td>0.2597</td>\n",
       "      <td>0.09744</td>\n",
       "      <td>...</td>\n",
       "      <td>26.50</td>\n",
       "      <td>98.87</td>\n",
       "      <td>567.7</td>\n",
       "      <td>0.2098</td>\n",
       "      <td>0.8663</td>\n",
       "      <td>0.6869</td>\n",
       "      <td>0.2575</td>\n",
       "      <td>0.6638</td>\n",
       "      <td>0.17300</td>\n",
       "      <td>0</td>\n",
       "    </tr>\n",
       "    <tr>\n",
       "      <th>4</th>\n",
       "      <td>20.29</td>\n",
       "      <td>14.34</td>\n",
       "      <td>135.10</td>\n",
       "      <td>1297.0</td>\n",
       "      <td>0.10030</td>\n",
       "      <td>0.13280</td>\n",
       "      <td>0.1980</td>\n",
       "      <td>0.10430</td>\n",
       "      <td>0.1809</td>\n",
       "      <td>0.05883</td>\n",
       "      <td>...</td>\n",
       "      <td>16.67</td>\n",
       "      <td>152.20</td>\n",
       "      <td>1575.0</td>\n",
       "      <td>0.1374</td>\n",
       "      <td>0.2050</td>\n",
       "      <td>0.4000</td>\n",
       "      <td>0.1625</td>\n",
       "      <td>0.2364</td>\n",
       "      <td>0.07678</td>\n",
       "      <td>0</td>\n",
       "    </tr>\n",
       "  </tbody>\n",
       "</table>\n",
       "<p>5 rows × 31 columns</p>\n",
       "</div>"
      ],
      "text/plain": [
       "   mean radius  mean texture  mean perimeter  mean area  mean smoothness  \\\n",
       "0        17.99         10.38          122.80     1001.0          0.11840   \n",
       "1        20.57         17.77          132.90     1326.0          0.08474   \n",
       "2        19.69         21.25          130.00     1203.0          0.10960   \n",
       "3        11.42         20.38           77.58      386.1          0.14250   \n",
       "4        20.29         14.34          135.10     1297.0          0.10030   \n",
       "\n",
       "   mean compactness  mean concavity  mean concave points  mean symmetry  \\\n",
       "0           0.27760          0.3001              0.14710         0.2419   \n",
       "1           0.07864          0.0869              0.07017         0.1812   \n",
       "2           0.15990          0.1974              0.12790         0.2069   \n",
       "3           0.28390          0.2414              0.10520         0.2597   \n",
       "4           0.13280          0.1980              0.10430         0.1809   \n",
       "\n",
       "   mean fractal dimension  ...  worst texture  worst perimeter  worst area  \\\n",
       "0                 0.07871  ...          17.33           184.60      2019.0   \n",
       "1                 0.05667  ...          23.41           158.80      1956.0   \n",
       "2                 0.05999  ...          25.53           152.50      1709.0   \n",
       "3                 0.09744  ...          26.50            98.87       567.7   \n",
       "4                 0.05883  ...          16.67           152.20      1575.0   \n",
       "\n",
       "   worst smoothness  worst compactness  worst concavity  worst concave points  \\\n",
       "0            0.1622             0.6656           0.7119                0.2654   \n",
       "1            0.1238             0.1866           0.2416                0.1860   \n",
       "2            0.1444             0.4245           0.4504                0.2430   \n",
       "3            0.2098             0.8663           0.6869                0.2575   \n",
       "4            0.1374             0.2050           0.4000                0.1625   \n",
       "\n",
       "   worst symmetry  worst fractal dimension  target  \n",
       "0          0.4601                  0.11890       0  \n",
       "1          0.2750                  0.08902       0  \n",
       "2          0.3613                  0.08758       0  \n",
       "3          0.6638                  0.17300       0  \n",
       "4          0.2364                  0.07678       0  \n",
       "\n",
       "[5 rows x 31 columns]"
      ]
     },
     "execution_count": 1,
     "metadata": {},
     "output_type": "execute_result"
    }
   ],
   "source": [
    "import xgboost as xgb\n",
    "from xgboost import plot_importance\n",
    "import pandas as pd\n",
    "import numpy as np\n",
    "from sklearn.datasets import load_breast_cancer\n",
    "from sklearn.model_selection import train_test_split\n",
    "import warnings\n",
    "warnings.filterwarnings('ignore')\n",
    "\n",
    "dataset = load_breast_cancer()\n",
    "X_feature = dataset.data\n",
    "y_label = dataset.target\n",
    "cancer_df = pd.DataFrame(data=X_feature, columns=dataset.feature_names)\n",
    "cancer_df['target'] = y_label\n",
    "cancer_df.head()"
   ]
  },
  {
   "cell_type": "code",
   "execution_count": 9,
   "metadata": {},
   "outputs": [
    {
     "name": "stdout",
     "output_type": "stream",
     "text": [
      "<class 'pandas.core.frame.DataFrame'>\n",
      "RangeIndex: 569 entries, 0 to 568\n",
      "Data columns (total 31 columns):\n",
      "mean radius                569 non-null float64\n",
      "mean texture               569 non-null float64\n",
      "mean perimeter             569 non-null float64\n",
      "mean area                  569 non-null float64\n",
      "mean smoothness            569 non-null float64\n",
      "mean compactness           569 non-null float64\n",
      "mean concavity             569 non-null float64\n",
      "mean concave points        569 non-null float64\n",
      "mean symmetry              569 non-null float64\n",
      "mean fractal dimension     569 non-null float64\n",
      "radius error               569 non-null float64\n",
      "texture error              569 non-null float64\n",
      "perimeter error            569 non-null float64\n",
      "area error                 569 non-null float64\n",
      "smoothness error           569 non-null float64\n",
      "compactness error          569 non-null float64\n",
      "concavity error            569 non-null float64\n",
      "concave points error       569 non-null float64\n",
      "symmetry error             569 non-null float64\n",
      "fractal dimension error    569 non-null float64\n",
      "worst radius               569 non-null float64\n",
      "worst texture              569 non-null float64\n",
      "worst perimeter            569 non-null float64\n",
      "worst area                 569 non-null float64\n",
      "worst smoothness           569 non-null float64\n",
      "worst compactness          569 non-null float64\n",
      "worst concavity            569 non-null float64\n",
      "worst concave points       569 non-null float64\n",
      "worst symmetry             569 non-null float64\n",
      "worst fractal dimension    569 non-null float64\n",
      "target                     569 non-null int32\n",
      "dtypes: float64(30), int32(1)\n",
      "memory usage: 135.7 KB\n"
     ]
    }
   ],
   "source": [
    "cancer_df.info()"
   ]
  },
  {
   "cell_type": "code",
   "execution_count": 12,
   "metadata": {},
   "outputs": [
    {
     "data": {
      "text/html": [
       "<div>\n",
       "<style scoped>\n",
       "    .dataframe tbody tr th:only-of-type {\n",
       "        vertical-align: middle;\n",
       "    }\n",
       "\n",
       "    .dataframe tbody tr th {\n",
       "        vertical-align: top;\n",
       "    }\n",
       "\n",
       "    .dataframe thead th {\n",
       "        text-align: right;\n",
       "    }\n",
       "</style>\n",
       "<table border=\"1\" class=\"dataframe\">\n",
       "  <thead>\n",
       "    <tr style=\"text-align: right;\">\n",
       "      <th></th>\n",
       "      <th>mean radius</th>\n",
       "      <th>mean texture</th>\n",
       "      <th>mean perimeter</th>\n",
       "      <th>mean area</th>\n",
       "      <th>mean smoothness</th>\n",
       "      <th>mean compactness</th>\n",
       "      <th>mean concavity</th>\n",
       "      <th>mean concave points</th>\n",
       "      <th>mean symmetry</th>\n",
       "      <th>mean fractal dimension</th>\n",
       "      <th>...</th>\n",
       "      <th>worst texture</th>\n",
       "      <th>worst perimeter</th>\n",
       "      <th>worst area</th>\n",
       "      <th>worst smoothness</th>\n",
       "      <th>worst compactness</th>\n",
       "      <th>worst concavity</th>\n",
       "      <th>worst concave points</th>\n",
       "      <th>worst symmetry</th>\n",
       "      <th>worst fractal dimension</th>\n",
       "      <th>target</th>\n",
       "    </tr>\n",
       "  </thead>\n",
       "  <tbody>\n",
       "    <tr>\n",
       "      <th>count</th>\n",
       "      <td>569.000000</td>\n",
       "      <td>569.000000</td>\n",
       "      <td>569.000000</td>\n",
       "      <td>569.000000</td>\n",
       "      <td>569.000000</td>\n",
       "      <td>569.000000</td>\n",
       "      <td>569.000000</td>\n",
       "      <td>569.000000</td>\n",
       "      <td>569.000000</td>\n",
       "      <td>569.000000</td>\n",
       "      <td>...</td>\n",
       "      <td>569.000000</td>\n",
       "      <td>569.000000</td>\n",
       "      <td>569.000000</td>\n",
       "      <td>569.000000</td>\n",
       "      <td>569.000000</td>\n",
       "      <td>569.000000</td>\n",
       "      <td>569.000000</td>\n",
       "      <td>569.000000</td>\n",
       "      <td>569.000000</td>\n",
       "      <td>569.000000</td>\n",
       "    </tr>\n",
       "    <tr>\n",
       "      <th>mean</th>\n",
       "      <td>14.127292</td>\n",
       "      <td>19.289649</td>\n",
       "      <td>91.969033</td>\n",
       "      <td>654.889104</td>\n",
       "      <td>0.096360</td>\n",
       "      <td>0.104341</td>\n",
       "      <td>0.088799</td>\n",
       "      <td>0.048919</td>\n",
       "      <td>0.181162</td>\n",
       "      <td>0.062798</td>\n",
       "      <td>...</td>\n",
       "      <td>25.677223</td>\n",
       "      <td>107.261213</td>\n",
       "      <td>880.583128</td>\n",
       "      <td>0.132369</td>\n",
       "      <td>0.254265</td>\n",
       "      <td>0.272188</td>\n",
       "      <td>0.114606</td>\n",
       "      <td>0.290076</td>\n",
       "      <td>0.083946</td>\n",
       "      <td>0.627417</td>\n",
       "    </tr>\n",
       "    <tr>\n",
       "      <th>std</th>\n",
       "      <td>3.524049</td>\n",
       "      <td>4.301036</td>\n",
       "      <td>24.298981</td>\n",
       "      <td>351.914129</td>\n",
       "      <td>0.014064</td>\n",
       "      <td>0.052813</td>\n",
       "      <td>0.079720</td>\n",
       "      <td>0.038803</td>\n",
       "      <td>0.027414</td>\n",
       "      <td>0.007060</td>\n",
       "      <td>...</td>\n",
       "      <td>6.146258</td>\n",
       "      <td>33.602542</td>\n",
       "      <td>569.356993</td>\n",
       "      <td>0.022832</td>\n",
       "      <td>0.157336</td>\n",
       "      <td>0.208624</td>\n",
       "      <td>0.065732</td>\n",
       "      <td>0.061867</td>\n",
       "      <td>0.018061</td>\n",
       "      <td>0.483918</td>\n",
       "    </tr>\n",
       "    <tr>\n",
       "      <th>min</th>\n",
       "      <td>6.981000</td>\n",
       "      <td>9.710000</td>\n",
       "      <td>43.790000</td>\n",
       "      <td>143.500000</td>\n",
       "      <td>0.052630</td>\n",
       "      <td>0.019380</td>\n",
       "      <td>0.000000</td>\n",
       "      <td>0.000000</td>\n",
       "      <td>0.106000</td>\n",
       "      <td>0.049960</td>\n",
       "      <td>...</td>\n",
       "      <td>12.020000</td>\n",
       "      <td>50.410000</td>\n",
       "      <td>185.200000</td>\n",
       "      <td>0.071170</td>\n",
       "      <td>0.027290</td>\n",
       "      <td>0.000000</td>\n",
       "      <td>0.000000</td>\n",
       "      <td>0.156500</td>\n",
       "      <td>0.055040</td>\n",
       "      <td>0.000000</td>\n",
       "    </tr>\n",
       "    <tr>\n",
       "      <th>25%</th>\n",
       "      <td>11.700000</td>\n",
       "      <td>16.170000</td>\n",
       "      <td>75.170000</td>\n",
       "      <td>420.300000</td>\n",
       "      <td>0.086370</td>\n",
       "      <td>0.064920</td>\n",
       "      <td>0.029560</td>\n",
       "      <td>0.020310</td>\n",
       "      <td>0.161900</td>\n",
       "      <td>0.057700</td>\n",
       "      <td>...</td>\n",
       "      <td>21.080000</td>\n",
       "      <td>84.110000</td>\n",
       "      <td>515.300000</td>\n",
       "      <td>0.116600</td>\n",
       "      <td>0.147200</td>\n",
       "      <td>0.114500</td>\n",
       "      <td>0.064930</td>\n",
       "      <td>0.250400</td>\n",
       "      <td>0.071460</td>\n",
       "      <td>0.000000</td>\n",
       "    </tr>\n",
       "    <tr>\n",
       "      <th>50%</th>\n",
       "      <td>13.370000</td>\n",
       "      <td>18.840000</td>\n",
       "      <td>86.240000</td>\n",
       "      <td>551.100000</td>\n",
       "      <td>0.095870</td>\n",
       "      <td>0.092630</td>\n",
       "      <td>0.061540</td>\n",
       "      <td>0.033500</td>\n",
       "      <td>0.179200</td>\n",
       "      <td>0.061540</td>\n",
       "      <td>...</td>\n",
       "      <td>25.410000</td>\n",
       "      <td>97.660000</td>\n",
       "      <td>686.500000</td>\n",
       "      <td>0.131300</td>\n",
       "      <td>0.211900</td>\n",
       "      <td>0.226700</td>\n",
       "      <td>0.099930</td>\n",
       "      <td>0.282200</td>\n",
       "      <td>0.080040</td>\n",
       "      <td>1.000000</td>\n",
       "    </tr>\n",
       "    <tr>\n",
       "      <th>75%</th>\n",
       "      <td>15.780000</td>\n",
       "      <td>21.800000</td>\n",
       "      <td>104.100000</td>\n",
       "      <td>782.700000</td>\n",
       "      <td>0.105300</td>\n",
       "      <td>0.130400</td>\n",
       "      <td>0.130700</td>\n",
       "      <td>0.074000</td>\n",
       "      <td>0.195700</td>\n",
       "      <td>0.066120</td>\n",
       "      <td>...</td>\n",
       "      <td>29.720000</td>\n",
       "      <td>125.400000</td>\n",
       "      <td>1084.000000</td>\n",
       "      <td>0.146000</td>\n",
       "      <td>0.339100</td>\n",
       "      <td>0.382900</td>\n",
       "      <td>0.161400</td>\n",
       "      <td>0.317900</td>\n",
       "      <td>0.092080</td>\n",
       "      <td>1.000000</td>\n",
       "    </tr>\n",
       "    <tr>\n",
       "      <th>max</th>\n",
       "      <td>28.110000</td>\n",
       "      <td>39.280000</td>\n",
       "      <td>188.500000</td>\n",
       "      <td>2501.000000</td>\n",
       "      <td>0.163400</td>\n",
       "      <td>0.345400</td>\n",
       "      <td>0.426800</td>\n",
       "      <td>0.201200</td>\n",
       "      <td>0.304000</td>\n",
       "      <td>0.097440</td>\n",
       "      <td>...</td>\n",
       "      <td>49.540000</td>\n",
       "      <td>251.200000</td>\n",
       "      <td>4254.000000</td>\n",
       "      <td>0.222600</td>\n",
       "      <td>1.058000</td>\n",
       "      <td>1.252000</td>\n",
       "      <td>0.291000</td>\n",
       "      <td>0.663800</td>\n",
       "      <td>0.207500</td>\n",
       "      <td>1.000000</td>\n",
       "    </tr>\n",
       "  </tbody>\n",
       "</table>\n",
       "<p>8 rows × 31 columns</p>\n",
       "</div>"
      ],
      "text/plain": [
       "       mean radius  mean texture  mean perimeter    mean area  \\\n",
       "count   569.000000    569.000000      569.000000   569.000000   \n",
       "mean     14.127292     19.289649       91.969033   654.889104   \n",
       "std       3.524049      4.301036       24.298981   351.914129   \n",
       "min       6.981000      9.710000       43.790000   143.500000   \n",
       "25%      11.700000     16.170000       75.170000   420.300000   \n",
       "50%      13.370000     18.840000       86.240000   551.100000   \n",
       "75%      15.780000     21.800000      104.100000   782.700000   \n",
       "max      28.110000     39.280000      188.500000  2501.000000   \n",
       "\n",
       "       mean smoothness  mean compactness  mean concavity  mean concave points  \\\n",
       "count       569.000000        569.000000      569.000000           569.000000   \n",
       "mean          0.096360          0.104341        0.088799             0.048919   \n",
       "std           0.014064          0.052813        0.079720             0.038803   \n",
       "min           0.052630          0.019380        0.000000             0.000000   \n",
       "25%           0.086370          0.064920        0.029560             0.020310   \n",
       "50%           0.095870          0.092630        0.061540             0.033500   \n",
       "75%           0.105300          0.130400        0.130700             0.074000   \n",
       "max           0.163400          0.345400        0.426800             0.201200   \n",
       "\n",
       "       mean symmetry  mean fractal dimension  ...  worst texture  \\\n",
       "count     569.000000              569.000000  ...     569.000000   \n",
       "mean        0.181162                0.062798  ...      25.677223   \n",
       "std         0.027414                0.007060  ...       6.146258   \n",
       "min         0.106000                0.049960  ...      12.020000   \n",
       "25%         0.161900                0.057700  ...      21.080000   \n",
       "50%         0.179200                0.061540  ...      25.410000   \n",
       "75%         0.195700                0.066120  ...      29.720000   \n",
       "max         0.304000                0.097440  ...      49.540000   \n",
       "\n",
       "       worst perimeter   worst area  worst smoothness  worst compactness  \\\n",
       "count       569.000000   569.000000        569.000000         569.000000   \n",
       "mean        107.261213   880.583128          0.132369           0.254265   \n",
       "std          33.602542   569.356993          0.022832           0.157336   \n",
       "min          50.410000   185.200000          0.071170           0.027290   \n",
       "25%          84.110000   515.300000          0.116600           0.147200   \n",
       "50%          97.660000   686.500000          0.131300           0.211900   \n",
       "75%         125.400000  1084.000000          0.146000           0.339100   \n",
       "max         251.200000  4254.000000          0.222600           1.058000   \n",
       "\n",
       "       worst concavity  worst concave points  worst symmetry  \\\n",
       "count       569.000000            569.000000      569.000000   \n",
       "mean          0.272188              0.114606        0.290076   \n",
       "std           0.208624              0.065732        0.061867   \n",
       "min           0.000000              0.000000        0.156500   \n",
       "25%           0.114500              0.064930        0.250400   \n",
       "50%           0.226700              0.099930        0.282200   \n",
       "75%           0.382900              0.161400        0.317900   \n",
       "max           1.252000              0.291000        0.663800   \n",
       "\n",
       "       worst fractal dimension      target  \n",
       "count               569.000000  569.000000  \n",
       "mean                  0.083946    0.627417  \n",
       "std                   0.018061    0.483918  \n",
       "min                   0.055040    0.000000  \n",
       "25%                   0.071460    0.000000  \n",
       "50%                   0.080040    1.000000  \n",
       "75%                   0.092080    1.000000  \n",
       "max                   0.207500    1.000000  \n",
       "\n",
       "[8 rows x 31 columns]"
      ]
     },
     "execution_count": 12,
     "metadata": {},
     "output_type": "execute_result"
    }
   ],
   "source": [
    "cancer_df.describe()"
   ]
  },
  {
   "cell_type": "markdown",
   "metadata": {},
   "source": [
    "    악성인 'Malignant'가 0 값으로, 양성인 'benign'이 1값으로 돼 있습니다."
   ]
  },
  {
   "cell_type": "code",
   "execution_count": 22,
   "metadata": {},
   "outputs": [
    {
     "name": "stdout",
     "output_type": "stream",
     "text": [
      "['malignant' 'benign']\n",
      "1    357\n",
      "0    212\n",
      "Name: target, dtype: int64\n",
      "악성 비율 : 62.7%\n",
      "양성 비율 : 37.3%\n"
     ]
    }
   ],
   "source": [
    "print(dataset.target_names)\n",
    "print(cancer_df['target'].value_counts())\n",
    "print('악성 비율 : {0:.1f}%'.format(100*(cancer_df['target'][cancer_df['target']>0].count()/cancer_df['target'].count())))\n",
    "print('양성 비율 : {0:.1f}%'.format(100*(cancer_df['target'][cancer_df['target']==0].count()/cancer_df['target'].count())))"
   ]
  },
  {
   "cell_type": "code",
   "execution_count": 2,
   "metadata": {},
   "outputs": [
    {
     "name": "stdout",
     "output_type": "stream",
     "text": [
      "(455, 30) (114, 30)\n"
     ]
    }
   ],
   "source": [
    "# 전체 데이터 중 80%는 학습용 데이터, 20%는 테스트용 데이터 추출\n",
    "X_train, X_test, y_train, y_test = train_test_split(X_feature, y_label, test_size=0.2, random_state=156)\n",
    "print(X_train.shape, X_test.shape)"
   ]
  },
  {
   "cell_type": "markdown",
   "metadata": {},
   "source": [
    "    파이썬 패러 XGB는 사이킷런과 차이로 학습용과 테스트용 데이터 세트를 위해 별도의 객체인 DMatrix를 생성한다는 점입니다. DMatrix는 주로 넘파이를 입력 파라미터를 받아서 만들어지는 XGBoost만의 전용 데이터 세트입니다. DMatrix의 주요 입력 파라미터는 data와 label입니다. data는 피처 데이터 세트이며, label은 분류의 경우 레이블 데이터 세트, 회귀의 경우는 숫자형인 종속값 데이터 세트 입니다.\n",
    "    DMatrix는 넘파이 외에 libsvm txt 포맷파일, xgboost 이진 버퍼 파일을 파라미터로 입력받아 변환할 수 있습니다. 판다스의 DataFrame으로 데이터 인터 페이스를 하기 위해서는 DataFrame.values를 이용해 넘파이로 일차 변환한 뒤에 이를 이용해 DMatrix 변환을 적용합니다."
   ]
  },
  {
   "cell_type": "code",
   "execution_count": 8,
   "metadata": {},
   "outputs": [],
   "source": [
    "dtrain = xgb.DMatrix(data=X_train, label=y_train)\n",
    "dtest = xgb.DMatrix(data=X_test, label=y_test)"
   ]
  },
  {
   "cell_type": "markdown",
   "metadata": {},
   "source": [
    "파이썬 래퍼 XGBoost 모듈인 xgboost를 이용해 학습을 수행하기 전에 먼저 XGBoost의 하이퍼 파라미터를 설정합니다. XGBoost의 하이퍼 파라미터는 주로 딕셔너리 형태로 입력합니다.\n",
    "\n",
    "max_depth, 학습률 eta, 예제 데이터가 0 또는 1 이진 분류이므로 목적함수(Object)는 이진 로지스틱(binart:logistic), 오류 함수의 평가지표 logloss, num_rounds(부스팅 반복 횟수)는 400회"
   ]
  },
  {
   "cell_type": "code",
   "execution_count": 9,
   "metadata": {},
   "outputs": [],
   "source": [
    "params = {\n",
    "    'max_depth':3,\n",
    "    'eta':0.1,\n",
    "    'objective':'binary:logistic',\n",
    "    'eval_metric':'logloss',\n",
    "    'early_stopping':100\n",
    "}\n",
    "num_rounds=400"
   ]
  },
  {
   "cell_type": "markdown",
   "metadata": {},
   "source": [
    "    파이썬 래퍼 XGBoost는 하이퍼 파라미터 xgboost 모듈의 train() 함수에 파라미터를 전달합니다.(사이킷런의 경우는 Estimator의 생성자를 하이퍼 파라미터로 전달하는 데 반해 차이가 있습니다.)\n",
    "    조기 중단은 xgboost의 train() 함수에 early_stopping_rounds 파라미터를 입력하여 설정합니다.\n",
    "    \n",
    "    early_stopping_rounds 파라미터를 설정해 조기 중단을 수행하기 위해서는 반드시 eval_set과 eval_metric이 함께 설정돼야 합니다. eval_set으로 지정된 데이터 세트에서 eval_metric의 지정된 평가 지표로 예측오류를 측정합니다.(eval_set는 성능 평가를 수행할 평가용 데이터 세트를 지정, eval_metric은 평가 세트에 적용할 성능 평가 방법. 분류의 경우 logloss를 적용)\n",
    "    "
   ]
  },
  {
   "cell_type": "code",
   "execution_count": 10,
   "metadata": {},
   "outputs": [
    {
     "name": "stdout",
     "output_type": "stream",
     "text": [
      "[0]\ttrain-logloss:0.609685\teval-logloss:0.61352\n",
      "Multiple eval metrics have been passed: 'eval-logloss' will be used for early stopping.\n",
      "\n",
      "Will train until eval-logloss hasn't improved in 100 rounds.\n",
      "[1]\ttrain-logloss:0.540804\teval-logloss:0.547842\n",
      "[2]\ttrain-logloss:0.483755\teval-logloss:0.494247\n",
      "[3]\ttrain-logloss:0.434455\teval-logloss:0.447986\n",
      "[4]\ttrain-logloss:0.390549\teval-logloss:0.409109\n",
      "[5]\ttrain-logloss:0.354145\teval-logloss:0.374977\n",
      "[6]\ttrain-logloss:0.321222\teval-logloss:0.345714\n",
      "[7]\ttrain-logloss:0.292592\teval-logloss:0.320529\n",
      "[8]\ttrain-logloss:0.267467\teval-logloss:0.29721\n",
      "[9]\ttrain-logloss:0.245152\teval-logloss:0.277991\n",
      "[10]\ttrain-logloss:0.225694\teval-logloss:0.260302\n",
      "[11]\ttrain-logloss:0.207937\teval-logloss:0.246037\n",
      "[12]\ttrain-logloss:0.192183\teval-logloss:0.231556\n",
      "[13]\ttrain-logloss:0.177917\teval-logloss:0.22005\n",
      "[14]\ttrain-logloss:0.165221\teval-logloss:0.208572\n",
      "[15]\ttrain-logloss:0.153622\teval-logloss:0.199993\n",
      "[16]\ttrain-logloss:0.14333\teval-logloss:0.190118\n",
      "[17]\ttrain-logloss:0.133985\teval-logloss:0.181818\n",
      "[18]\ttrain-logloss:0.125599\teval-logloss:0.174729\n",
      "[19]\ttrain-logloss:0.117286\teval-logloss:0.167657\n",
      "[20]\ttrain-logloss:0.109688\teval-logloss:0.158202\n",
      "[21]\ttrain-logloss:0.102975\teval-logloss:0.154725\n",
      "[22]\ttrain-logloss:0.097068\teval-logloss:0.148947\n",
      "[23]\ttrain-logloss:0.091428\teval-logloss:0.143308\n",
      "[24]\ttrain-logloss:0.086335\teval-logloss:0.136344\n",
      "[25]\ttrain-logloss:0.081311\teval-logloss:0.132778\n",
      "[26]\ttrain-logloss:0.076857\teval-logloss:0.127912\n",
      "[27]\ttrain-logloss:0.072836\teval-logloss:0.125263\n",
      "[28]\ttrain-logloss:0.069248\teval-logloss:0.119978\n",
      "[29]\ttrain-logloss:0.065549\teval-logloss:0.116412\n",
      "[30]\ttrain-logloss:0.062414\teval-logloss:0.114502\n",
      "[31]\ttrain-logloss:0.059591\teval-logloss:0.112572\n",
      "[32]\ttrain-logloss:0.057096\teval-logloss:0.11154\n",
      "[33]\ttrain-logloss:0.054407\teval-logloss:0.108681\n",
      "[34]\ttrain-logloss:0.052036\teval-logloss:0.106681\n",
      "[35]\ttrain-logloss:0.049751\teval-logloss:0.104207\n",
      "[36]\ttrain-logloss:0.04775\teval-logloss:0.102962\n",
      "[37]\ttrain-logloss:0.045854\teval-logloss:0.100576\n",
      "[38]\ttrain-logloss:0.044015\teval-logloss:0.098683\n",
      "[39]\ttrain-logloss:0.042263\teval-logloss:0.096444\n",
      "[40]\ttrain-logloss:0.040649\teval-logloss:0.095869\n",
      "[41]\ttrain-logloss:0.039126\teval-logloss:0.094242\n",
      "[42]\ttrain-logloss:0.037377\teval-logloss:0.094715\n",
      "[43]\ttrain-logloss:0.036106\teval-logloss:0.094272\n",
      "[44]\ttrain-logloss:0.034941\teval-logloss:0.093894\n",
      "[45]\ttrain-logloss:0.033654\teval-logloss:0.094184\n",
      "[46]\ttrain-logloss:0.032528\teval-logloss:0.09402\n",
      "[47]\ttrain-logloss:0.031485\teval-logloss:0.09236\n",
      "[48]\ttrain-logloss:0.030389\teval-logloss:0.093012\n",
      "[49]\ttrain-logloss:0.029467\teval-logloss:0.091272\n",
      "[50]\ttrain-logloss:0.028545\teval-logloss:0.090051\n",
      "[51]\ttrain-logloss:0.027525\teval-logloss:0.089605\n",
      "[52]\ttrain-logloss:0.026555\teval-logloss:0.089577\n",
      "[53]\ttrain-logloss:0.025682\teval-logloss:0.090703\n",
      "[54]\ttrain-logloss:0.025004\teval-logloss:0.089579\n",
      "[55]\ttrain-logloss:0.024297\teval-logloss:0.090357\n",
      "[56]\ttrain-logloss:0.023574\teval-logloss:0.091587\n",
      "[57]\ttrain-logloss:0.022965\teval-logloss:0.091527\n",
      "[58]\ttrain-logloss:0.022488\teval-logloss:0.091986\n",
      "[59]\ttrain-logloss:0.021854\teval-logloss:0.091951\n",
      "[60]\ttrain-logloss:0.021316\teval-logloss:0.091939\n",
      "[61]\ttrain-logloss:0.020794\teval-logloss:0.091461\n",
      "[62]\ttrain-logloss:0.020218\teval-logloss:0.090311\n",
      "[63]\ttrain-logloss:0.019701\teval-logloss:0.089407\n",
      "[64]\ttrain-logloss:0.01918\teval-logloss:0.089719\n",
      "[65]\ttrain-logloss:0.018724\teval-logloss:0.089743\n",
      "[66]\ttrain-logloss:0.018325\teval-logloss:0.089622\n",
      "[67]\ttrain-logloss:0.017867\teval-logloss:0.088734\n",
      "[68]\ttrain-logloss:0.017598\teval-logloss:0.088621\n",
      "[69]\ttrain-logloss:0.017243\teval-logloss:0.089739\n",
      "[70]\ttrain-logloss:0.01688\teval-logloss:0.089981\n",
      "[71]\ttrain-logloss:0.016641\teval-logloss:0.089782\n",
      "[72]\ttrain-logloss:0.016287\teval-logloss:0.089584\n",
      "[73]\ttrain-logloss:0.015983\teval-logloss:0.089533\n",
      "[74]\ttrain-logloss:0.015658\teval-logloss:0.088748\n",
      "[75]\ttrain-logloss:0.015393\teval-logloss:0.088597\n",
      "[76]\ttrain-logloss:0.015151\teval-logloss:0.08812\n",
      "[77]\ttrain-logloss:0.01488\teval-logloss:0.088396\n",
      "[78]\ttrain-logloss:0.014637\teval-logloss:0.088736\n",
      "[79]\ttrain-logloss:0.014491\teval-logloss:0.088153\n",
      "[80]\ttrain-logloss:0.014185\teval-logloss:0.087577\n",
      "[81]\ttrain-logloss:0.014005\teval-logloss:0.087412\n",
      "[82]\ttrain-logloss:0.013772\teval-logloss:0.08849\n",
      "[83]\ttrain-logloss:0.013567\teval-logloss:0.088575\n",
      "[84]\ttrain-logloss:0.013414\teval-logloss:0.08807\n",
      "[85]\ttrain-logloss:0.013253\teval-logloss:0.087641\n",
      "[86]\ttrain-logloss:0.013109\teval-logloss:0.087416\n",
      "[87]\ttrain-logloss:0.012926\teval-logloss:0.087611\n",
      "[88]\ttrain-logloss:0.012714\teval-logloss:0.087065\n",
      "[89]\ttrain-logloss:0.012544\teval-logloss:0.08727\n",
      "[90]\ttrain-logloss:0.012353\teval-logloss:0.087161\n",
      "[91]\ttrain-logloss:0.012226\teval-logloss:0.086962\n",
      "[92]\ttrain-logloss:0.012065\teval-logloss:0.087166\n",
      "[93]\ttrain-logloss:0.011927\teval-logloss:0.087067\n",
      "[94]\ttrain-logloss:0.011821\teval-logloss:0.086592\n",
      "[95]\ttrain-logloss:0.011649\teval-logloss:0.086116\n",
      "[96]\ttrain-logloss:0.011482\teval-logloss:0.087139\n",
      "[97]\ttrain-logloss:0.01136\teval-logloss:0.086768\n",
      "[98]\ttrain-logloss:0.011239\teval-logloss:0.086694\n",
      "[99]\ttrain-logloss:0.011132\teval-logloss:0.086547\n",
      "[100]\ttrain-logloss:0.011002\teval-logloss:0.086498\n",
      "[101]\ttrain-logloss:0.010852\teval-logloss:0.08641\n",
      "[102]\ttrain-logloss:0.010755\teval-logloss:0.086288\n",
      "[103]\ttrain-logloss:0.010636\teval-logloss:0.086258\n",
      "[104]\ttrain-logloss:0.0105\teval-logloss:0.086835\n",
      "[105]\ttrain-logloss:0.010395\teval-logloss:0.086767\n",
      "[106]\ttrain-logloss:0.010305\teval-logloss:0.087321\n",
      "[107]\ttrain-logloss:0.010197\teval-logloss:0.087304\n",
      "[108]\ttrain-logloss:0.010072\teval-logloss:0.08728\n",
      "[109]\ttrain-logloss:0.01\teval-logloss:0.087298\n",
      "[110]\ttrain-logloss:0.009914\teval-logloss:0.087289\n",
      "[111]\ttrain-logloss:0.009798\teval-logloss:0.088002\n",
      "[112]\ttrain-logloss:0.00971\teval-logloss:0.087936\n",
      "[113]\ttrain-logloss:0.009628\teval-logloss:0.087843\n",
      "[114]\ttrain-logloss:0.009558\teval-logloss:0.088066\n",
      "[115]\ttrain-logloss:0.009483\teval-logloss:0.087649\n",
      "[116]\ttrain-logloss:0.009416\teval-logloss:0.087298\n",
      "[117]\ttrain-logloss:0.009306\teval-logloss:0.087799\n",
      "[118]\ttrain-logloss:0.009228\teval-logloss:0.087751\n",
      "[119]\ttrain-logloss:0.009154\teval-logloss:0.08768\n",
      "[120]\ttrain-logloss:0.009118\teval-logloss:0.087626\n",
      "[121]\ttrain-logloss:0.009016\teval-logloss:0.08757\n",
      "[122]\ttrain-logloss:0.008972\teval-logloss:0.087547\n",
      "[123]\ttrain-logloss:0.008904\teval-logloss:0.087156\n",
      "[124]\ttrain-logloss:0.008837\teval-logloss:0.08767\n",
      "[125]\ttrain-logloss:0.008803\teval-logloss:0.087737\n",
      "[126]\ttrain-logloss:0.008709\teval-logloss:0.088275\n",
      "[127]\ttrain-logloss:0.008645\teval-logloss:0.088309\n",
      "[128]\ttrain-logloss:0.008613\teval-logloss:0.088266\n",
      "[129]\ttrain-logloss:0.008555\teval-logloss:0.087886\n",
      "[130]\ttrain-logloss:0.008463\teval-logloss:0.088861\n",
      "[131]\ttrain-logloss:0.008416\teval-logloss:0.088675\n",
      "[132]\ttrain-logloss:0.008385\teval-logloss:0.088743\n",
      "[133]\ttrain-logloss:0.0083\teval-logloss:0.089218\n",
      "[134]\ttrain-logloss:0.00827\teval-logloss:0.089179\n",
      "[135]\ttrain-logloss:0.008218\teval-logloss:0.088821\n",
      "[136]\ttrain-logloss:0.008157\teval-logloss:0.088512\n",
      "[137]\ttrain-logloss:0.008076\teval-logloss:0.08848\n",
      "[138]\ttrain-logloss:0.008047\teval-logloss:0.088386\n",
      "[139]\ttrain-logloss:0.007973\teval-logloss:0.089145\n",
      "[140]\ttrain-logloss:0.007946\teval-logloss:0.08911\n",
      "[141]\ttrain-logloss:0.007898\teval-logloss:0.088765\n",
      "[142]\ttrain-logloss:0.007872\teval-logloss:0.088678\n",
      "[143]\ttrain-logloss:0.007847\teval-logloss:0.088389\n",
      "[144]\ttrain-logloss:0.007776\teval-logloss:0.089271\n",
      "[145]\ttrain-logloss:0.007752\teval-logloss:0.089238\n",
      "[146]\ttrain-logloss:0.007728\teval-logloss:0.089139\n",
      "[147]\ttrain-logloss:0.007689\teval-logloss:0.088907\n",
      "[148]\ttrain-logloss:0.007621\teval-logloss:0.089416\n",
      "[149]\ttrain-logloss:0.007598\teval-logloss:0.089388\n",
      "[150]\ttrain-logloss:0.007575\teval-logloss:0.089108\n",
      "[151]\ttrain-logloss:0.007521\teval-logloss:0.088735\n",
      "[152]\ttrain-logloss:0.007498\teval-logloss:0.088717\n",
      "[153]\ttrain-logloss:0.007464\teval-logloss:0.088484\n",
      "[154]\ttrain-logloss:0.00741\teval-logloss:0.088471\n",
      "[155]\ttrain-logloss:0.007389\teval-logloss:0.088545\n",
      "[156]\ttrain-logloss:0.007367\teval-logloss:0.088521\n",
      "[157]\ttrain-logloss:0.007345\teval-logloss:0.088547\n",
      "[158]\ttrain-logloss:0.007323\teval-logloss:0.088275\n",
      "[159]\ttrain-logloss:0.007303\teval-logloss:0.0883\n",
      "[160]\ttrain-logloss:0.007282\teval-logloss:0.08828\n"
     ]
    },
    {
     "name": "stdout",
     "output_type": "stream",
     "text": [
      "[161]\ttrain-logloss:0.007261\teval-logloss:0.088013\n",
      "[162]\ttrain-logloss:0.007241\teval-logloss:0.087758\n",
      "[163]\ttrain-logloss:0.007221\teval-logloss:0.087784\n",
      "[164]\ttrain-logloss:0.0072\teval-logloss:0.087777\n",
      "[165]\ttrain-logloss:0.00718\teval-logloss:0.087517\n",
      "[166]\ttrain-logloss:0.007161\teval-logloss:0.087542\n",
      "[167]\ttrain-logloss:0.007142\teval-logloss:0.087642\n",
      "[168]\ttrain-logloss:0.007122\teval-logloss:0.08739\n",
      "[169]\ttrain-logloss:0.007103\teval-logloss:0.087377\n",
      "[170]\ttrain-logloss:0.007084\teval-logloss:0.087298\n",
      "[171]\ttrain-logloss:0.007065\teval-logloss:0.087368\n",
      "[172]\ttrain-logloss:0.007047\teval-logloss:0.087395\n",
      "[173]\ttrain-logloss:0.007028\teval-logloss:0.087385\n",
      "[174]\ttrain-logloss:0.007009\teval-logloss:0.087132\n",
      "[175]\ttrain-logloss:0.006991\teval-logloss:0.087159\n",
      "[176]\ttrain-logloss:0.006973\teval-logloss:0.086955\n",
      "[177]\ttrain-logloss:0.006955\teval-logloss:0.087053\n",
      "[178]\ttrain-logloss:0.006937\teval-logloss:0.08697\n",
      "[179]\ttrain-logloss:0.00692\teval-logloss:0.086973\n",
      "[180]\ttrain-logloss:0.006901\teval-logloss:0.087038\n",
      "[181]\ttrain-logloss:0.006884\teval-logloss:0.086799\n",
      "[182]\ttrain-logloss:0.006866\teval-logloss:0.086826\n",
      "[183]\ttrain-logloss:0.006849\teval-logloss:0.086582\n",
      "[184]\ttrain-logloss:0.006831\teval-logloss:0.086588\n",
      "[185]\ttrain-logloss:0.006815\teval-logloss:0.086614\n",
      "[186]\ttrain-logloss:0.006798\teval-logloss:0.086372\n",
      "[187]\ttrain-logloss:0.006781\teval-logloss:0.086369\n",
      "[188]\ttrain-logloss:0.006764\teval-logloss:0.086297\n",
      "[189]\ttrain-logloss:0.006747\teval-logloss:0.086104\n",
      "[190]\ttrain-logloss:0.00673\teval-logloss:0.086023\n",
      "[191]\ttrain-logloss:0.006714\teval-logloss:0.08605\n",
      "[192]\ttrain-logloss:0.006698\teval-logloss:0.086149\n",
      "[193]\ttrain-logloss:0.006682\teval-logloss:0.085916\n",
      "[194]\ttrain-logloss:0.006666\teval-logloss:0.085915\n",
      "[195]\ttrain-logloss:0.00665\teval-logloss:0.085984\n",
      "[196]\ttrain-logloss:0.006634\teval-logloss:0.086012\n",
      "[197]\ttrain-logloss:0.006618\teval-logloss:0.085922\n",
      "[198]\ttrain-logloss:0.006603\teval-logloss:0.085853\n",
      "[199]\ttrain-logloss:0.006587\teval-logloss:0.085874\n",
      "[200]\ttrain-logloss:0.006572\teval-logloss:0.085888\n",
      "[201]\ttrain-logloss:0.006556\teval-logloss:0.08595\n",
      "[202]\ttrain-logloss:0.006542\teval-logloss:0.08573\n",
      "[203]\ttrain-logloss:0.006527\teval-logloss:0.08573\n",
      "[204]\ttrain-logloss:0.006512\teval-logloss:0.085753\n",
      "[205]\ttrain-logloss:0.006497\teval-logloss:0.085821\n",
      "[206]\ttrain-logloss:0.006483\teval-logloss:0.08584\n",
      "[207]\ttrain-logloss:0.006469\teval-logloss:0.085776\n",
      "[208]\ttrain-logloss:0.006455\teval-logloss:0.085686\n",
      "[209]\ttrain-logloss:0.00644\teval-logloss:0.08571\n",
      "[210]\ttrain-logloss:0.006427\teval-logloss:0.085806\n",
      "[211]\ttrain-logloss:0.006413\teval-logloss:0.085593\n",
      "[212]\ttrain-logloss:0.006399\teval-logloss:0.085801\n",
      "[213]\ttrain-logloss:0.006385\teval-logloss:0.085806\n",
      "[214]\ttrain-logloss:0.006372\teval-logloss:0.085744\n",
      "[215]\ttrain-logloss:0.006359\teval-logloss:0.085658\n",
      "[216]\ttrain-logloss:0.006345\teval-logloss:0.085843\n",
      "[217]\ttrain-logloss:0.006332\teval-logloss:0.085632\n",
      "[218]\ttrain-logloss:0.006319\teval-logloss:0.085726\n",
      "[219]\ttrain-logloss:0.006306\teval-logloss:0.085783\n",
      "[220]\ttrain-logloss:0.006293\teval-logloss:0.085791\n",
      "[221]\ttrain-logloss:0.00628\teval-logloss:0.085817\n",
      "[222]\ttrain-logloss:0.006268\teval-logloss:0.085757\n",
      "[223]\ttrain-logloss:0.006255\teval-logloss:0.085674\n",
      "[224]\ttrain-logloss:0.006242\teval-logloss:0.08586\n",
      "[225]\ttrain-logloss:0.00623\teval-logloss:0.085871\n",
      "[226]\ttrain-logloss:0.006218\teval-logloss:0.085927\n",
      "[227]\ttrain-logloss:0.006206\teval-logloss:0.085954\n",
      "[228]\ttrain-logloss:0.006194\teval-logloss:0.085874\n",
      "[229]\ttrain-logloss:0.006182\teval-logloss:0.086057\n",
      "[230]\ttrain-logloss:0.00617\teval-logloss:0.086002\n",
      "[231]\ttrain-logloss:0.006158\teval-logloss:0.085922\n",
      "[232]\ttrain-logloss:0.006147\teval-logloss:0.086102\n",
      "[233]\ttrain-logloss:0.006135\teval-logloss:0.086115\n",
      "[234]\ttrain-logloss:0.006124\teval-logloss:0.086169\n",
      "[235]\ttrain-logloss:0.006112\teval-logloss:0.086263\n",
      "[236]\ttrain-logloss:0.006101\teval-logloss:0.086292\n",
      "[237]\ttrain-logloss:0.00609\teval-logloss:0.086217\n",
      "[238]\ttrain-logloss:0.006079\teval-logloss:0.086395\n",
      "[239]\ttrain-logloss:0.006068\teval-logloss:0.086342\n",
      "[240]\ttrain-logloss:0.006057\teval-logloss:0.08618\n",
      "[241]\ttrain-logloss:0.006046\teval-logloss:0.086195\n",
      "[242]\ttrain-logloss:0.006036\teval-logloss:0.086248\n",
      "[243]\ttrain-logloss:0.006025\teval-logloss:0.086263\n",
      "[244]\ttrain-logloss:0.006014\teval-logloss:0.086293\n",
      "[245]\ttrain-logloss:0.006004\teval-logloss:0.086222\n",
      "[246]\ttrain-logloss:0.005993\teval-logloss:0.086398\n",
      "[247]\ttrain-logloss:0.005983\teval-logloss:0.086347\n",
      "[248]\ttrain-logloss:0.005972\teval-logloss:0.086276\n",
      "[249]\ttrain-logloss:0.005962\teval-logloss:0.086448\n",
      "[250]\ttrain-logloss:0.005952\teval-logloss:0.086294\n",
      "[251]\ttrain-logloss:0.005942\teval-logloss:0.086312\n",
      "[252]\ttrain-logloss:0.005932\teval-logloss:0.086364\n",
      "[253]\ttrain-logloss:0.005922\teval-logloss:0.086394\n",
      "[254]\ttrain-logloss:0.005912\teval-logloss:0.08649\n",
      "[255]\ttrain-logloss:0.005903\teval-logloss:0.086441\n",
      "[256]\ttrain-logloss:0.005893\teval-logloss:0.08629\n",
      "[257]\ttrain-logloss:0.005883\teval-logloss:0.08646\n",
      "[258]\ttrain-logloss:0.005874\teval-logloss:0.086391\n",
      "[259]\ttrain-logloss:0.005864\teval-logloss:0.086441\n",
      "[260]\ttrain-logloss:0.005855\teval-logloss:0.086461\n",
      "[261]\ttrain-logloss:0.005845\teval-logloss:0.086491\n",
      "[262]\ttrain-logloss:0.005836\teval-logloss:0.086445\n",
      "[263]\ttrain-logloss:0.005827\teval-logloss:0.086466\n",
      "[264]\ttrain-logloss:0.005818\teval-logloss:0.086319\n",
      "[265]\ttrain-logloss:0.005809\teval-logloss:0.086488\n",
      "[266]\ttrain-logloss:0.0058\teval-logloss:0.086538\n",
      "[267]\ttrain-logloss:0.005791\teval-logloss:0.086471\n",
      "[268]\ttrain-logloss:0.005782\teval-logloss:0.086501\n",
      "[269]\ttrain-logloss:0.005773\teval-logloss:0.086522\n",
      "[270]\ttrain-logloss:0.005764\teval-logloss:0.086689\n",
      "[271]\ttrain-logloss:0.005755\teval-logloss:0.086738\n",
      "[272]\ttrain-logloss:0.005747\teval-logloss:0.08683\n",
      "[273]\ttrain-logloss:0.005738\teval-logloss:0.086684\n",
      "[274]\ttrain-logloss:0.005729\teval-logloss:0.08664\n",
      "[275]\ttrain-logloss:0.005721\teval-logloss:0.086496\n",
      "[276]\ttrain-logloss:0.005712\teval-logloss:0.086355\n",
      "[277]\ttrain-logloss:0.005704\teval-logloss:0.086519\n",
      "[278]\ttrain-logloss:0.005696\teval-logloss:0.086567\n",
      "[279]\ttrain-logloss:0.005687\teval-logloss:0.08659\n",
      "[280]\ttrain-logloss:0.005679\teval-logloss:0.086679\n",
      "[281]\ttrain-logloss:0.005671\teval-logloss:0.086637\n",
      "[282]\ttrain-logloss:0.005663\teval-logloss:0.086499\n",
      "[283]\ttrain-logloss:0.005655\teval-logloss:0.086356\n",
      "[284]\ttrain-logloss:0.005646\teval-logloss:0.086405\n",
      "[285]\ttrain-logloss:0.005639\teval-logloss:0.086429\n",
      "[286]\ttrain-logloss:0.005631\teval-logloss:0.086456\n",
      "[287]\ttrain-logloss:0.005623\teval-logloss:0.086504\n",
      "[288]\ttrain-logloss:0.005615\teval-logloss:0.08637\n",
      "[289]\ttrain-logloss:0.005608\teval-logloss:0.086457\n",
      "[290]\ttrain-logloss:0.0056\teval-logloss:0.086453\n",
      "[291]\ttrain-logloss:0.005593\teval-logloss:0.086322\n",
      "[292]\ttrain-logloss:0.005585\teval-logloss:0.086284\n",
      "[293]\ttrain-logloss:0.005577\teval-logloss:0.086148\n",
      "[294]\ttrain-logloss:0.00557\teval-logloss:0.086196\n",
      "[295]\ttrain-logloss:0.005563\teval-logloss:0.086221\n",
      "[296]\ttrain-logloss:0.005556\teval-logloss:0.086308\n",
      "[297]\ttrain-logloss:0.005548\teval-logloss:0.086178\n",
      "[298]\ttrain-logloss:0.005541\teval-logloss:0.086263\n",
      "[299]\ttrain-logloss:0.005534\teval-logloss:0.086131\n",
      "[300]\ttrain-logloss:0.005527\teval-logloss:0.086179\n",
      "[301]\ttrain-logloss:0.005519\teval-logloss:0.086052\n",
      "[302]\ttrain-logloss:0.005512\teval-logloss:0.086016\n",
      "[303]\ttrain-logloss:0.005505\teval-logloss:0.086101\n",
      "[304]\ttrain-logloss:0.005498\teval-logloss:0.085977\n",
      "[305]\ttrain-logloss:0.005491\teval-logloss:0.086059\n",
      "[306]\ttrain-logloss:0.005484\teval-logloss:0.085971\n",
      "[307]\ttrain-logloss:0.005478\teval-logloss:0.085998\n",
      "[308]\ttrain-logloss:0.005471\teval-logloss:0.085999\n",
      "[309]\ttrain-logloss:0.005464\teval-logloss:0.085877\n",
      "[310]\ttrain-logloss:0.005457\teval-logloss:0.085923\n",
      "[311]\ttrain-logloss:0.00545\teval-logloss:0.085948\n",
      "Stopping. Best iteration:\n",
      "[211]\ttrain-logloss:0.006413\teval-logloss:0.085593\n",
      "\n"
     ]
    }
   ],
   "source": [
    "# train 데이터 세트는 'train', evaluation(test) 데이터 세트는 'eval'로 명기합니다.\n",
    "wlist = [(dtrain, 'train'), (dtest, 'eval')]\n",
    "# 하이퍼 파라미터와 early stopping 파라미터를 train() 함수의 파라미터로 전달\n",
    "xgb_model = xgb.train(params = params, dtrain=dtrain, num_boost_round=num_rounds, early_stopping_rounds=100, evals=wlist)"
   ]
  },
  {
   "cell_type": "markdown",
   "metadata": {},
   "source": [
    "    train()으로 학습을 수행하면 반복 시 train-error와 eval-logloss가 지속적으로 감소합니다. 모델 객체는 예측을 위해 predict() 메서드를 이용합니다. 한 가지 유의할 점은 사이킷런의 predict() 메서드는 예측 결과 클래스 값(0,1)을 반환하는 데 반해 xgboost의 predict()는 예측 결괏갑이 아닌 예측 결과를 추정할 수 있는 확률 값을 반환한다는 것입니다. 예측 확률 0.5 보다 크면 1, 그렇지 않으면 0으로 예측 값을 결정하는 로직을 추가하면 됩니다."
   ]
  },
  {
   "cell_type": "code",
   "execution_count": 11,
   "metadata": {},
   "outputs": [
    {
     "name": "stdout",
     "output_type": "stream",
     "text": [
      "predict() 수행 결괏값을 10개만 표시, 예측 확률값으로 표시됨\n",
      "[0.934 0.003 0.91  0.094 0.993 1.    1.    0.999 0.997 0.   ]\n",
      "예측값 10개만 표시: [1, 0, 1, 0, 1, 1, 1, 1, 1, 0]\n"
     ]
    }
   ],
   "source": [
    "pred_probs = xgb_model.predict(dtest)\n",
    "print('predict() 수행 결괏값을 10개만 표시, 예측 확률값으로 표시됨')\n",
    "print(np.round(pred_probs[:10],3))\n",
    "\n",
    "# 예측 확률이 0.5 보다 크면 1, 그렇지 않으면 0으로 예측값 결정 리스트 객체인 preds에 저장\n",
    "preds = [1 if x>0.5 else 0 for x in pred_probs]\n",
    "print('예측값 10개만 표시:', preds[:10])"
   ]
  },
  {
   "cell_type": "code",
   "execution_count": 13,
   "metadata": {},
   "outputs": [],
   "source": [
    "import eva"
   ]
  },
  {
   "cell_type": "code",
   "execution_count": 14,
   "metadata": {},
   "outputs": [
    {
     "name": "stdout",
     "output_type": "stream",
     "text": [
      "오차 행렬\n",
      "[[35  2]\n",
      " [ 1 76]]\n",
      "정확도: 0.9737, 정밀도: 0.9744, 재현율: 0.9870, F1:0.9806, AUC:0.9951\n"
     ]
    }
   ],
   "source": [
    "eva.get_clf_eval(y_test,preds,pred_probs)"
   ]
  },
  {
   "cell_type": "markdown",
   "metadata": {},
   "source": [
    "    3장의 평가지표를 이용한 결과"
   ]
  },
  {
   "cell_type": "markdown",
   "metadata": {},
   "source": [
    "xgboost 패키지에 내장된 시각화 기능, plot_importance() API로 피처의 막대 그래프를 나타냅니다. f1스코어를 기반으로 피처의 중요도를 나타냅니다. 사이킷런의 Estimator 객체의 feature_importances_ 속성을 이용하는것이 아닌 plot_importance()를 이용해 시각화 가능하며 피처의 이름은 f0,f1의 순서로 나타납니다."
   ]
  },
  {
   "cell_type": "code",
   "execution_count": 14,
   "metadata": {},
   "outputs": [
    {
     "data": {
      "text/plain": [
       "<matplotlib.axes._subplots.AxesSubplot at 0x2189abba550>"
      ]
     },
     "execution_count": 14,
     "metadata": {},
     "output_type": "execute_result"
    },
    {
     "data": {
      "image/png": "[encoded data removed]",
      "text/plain": [
       "<Figure size 720x864 with 1 Axes>"
      ]
     },
     "metadata": {
      "needs_background": "light"
     },
     "output_type": "display_data"
    }
   ],
   "source": [
    "from xgboost import plot_importance\n",
    "import matplotlib.pyplot as plt\n",
    "%matplotlib inline\n",
    "\n",
    "fig, ax = plt.subplots(figsize=(10,12)) #### plt.subplot의 기능은?\n",
    "plot_importance(xgb_model, ax=ax)"
   ]
  },
  {
   "cell_type": "markdown",
   "metadata": {},
   "source": [
    "Grapviz를 활용하여 트리 기반 규칙 구조도 시각화할 수 있습니다. xgboost 모듈의 to_graphviz() API를 이용하면 구현할 수 있습니다. 물론 Graphviz프로그램과 패키지가 설치돼 있어야 합니다.  Fail"
   ]
  },
  {
   "cell_type": "code",
   "execution_count": 22,
   "metadata": {},
   "outputs": [
    {
     "ename": "TypeError",
     "evalue": "<xgboost.core.Booster object at 0x000002189715E400> is not an estimator instance.",
     "output_type": "error",
     "traceback": [
      "\u001b[1;31m---------------------------------------------------------------------------\u001b[0m",
      "\u001b[1;31mTypeError\u001b[0m                                 Traceback (most recent call last)",
      "\u001b[1;32m<ipython-input-22-2f4024eb5545>\u001b[0m in \u001b[0;36m<module>\u001b[1;34m\u001b[0m\n\u001b[0;32m      3\u001b[0m \u001b[1;31m# export_graphviz() 호출 결과로 out_file로 지정된 xgbtree.dot 파일을 생성함.\u001b[0m\u001b[1;33m\u001b[0m\u001b[1;33m\u001b[0m\u001b[1;33m\u001b[0m\u001b[0m\n\u001b[0;32m      4\u001b[0m export_graphviz(xgb_model, out_file='xgbtree.dot', class_names=dataset.target_names, feature_names=dataset.feature_names,\n\u001b[1;32m----> 5\u001b[1;33m                 impurity=True, filled=True)\n\u001b[0m",
      "\u001b[1;32m~\\Anaconda3\\lib\\site-packages\\sklearn\\tree\\export.py\u001b[0m in \u001b[0;36mexport_graphviz\u001b[1;34m(decision_tree, out_file, max_depth, feature_names, class_names, label, filled, leaves_parallel, impurity, node_ids, proportion, rotate, rounded, special_characters, precision)\u001b[0m\n\u001b[0;32m    754\u001b[0m     \"\"\"\n\u001b[0;32m    755\u001b[0m \u001b[1;33m\u001b[0m\u001b[0m\n\u001b[1;32m--> 756\u001b[1;33m     \u001b[0mcheck_is_fitted\u001b[0m\u001b[1;33m(\u001b[0m\u001b[0mdecision_tree\u001b[0m\u001b[1;33m,\u001b[0m \u001b[1;34m'tree_'\u001b[0m\u001b[1;33m)\u001b[0m\u001b[1;33m\u001b[0m\u001b[1;33m\u001b[0m\u001b[0m\n\u001b[0m\u001b[0;32m    757\u001b[0m     \u001b[0mown_file\u001b[0m \u001b[1;33m=\u001b[0m \u001b[1;32mFalse\u001b[0m\u001b[1;33m\u001b[0m\u001b[1;33m\u001b[0m\u001b[0m\n\u001b[0;32m    758\u001b[0m     \u001b[0mreturn_string\u001b[0m \u001b[1;33m=\u001b[0m \u001b[1;32mFalse\u001b[0m\u001b[1;33m\u001b[0m\u001b[1;33m\u001b[0m\u001b[0m\n",
      "\u001b[1;32m~\\Anaconda3\\lib\\site-packages\\sklearn\\utils\\validation.py\u001b[0m in \u001b[0;36mcheck_is_fitted\u001b[1;34m(estimator, attributes, msg, all_or_any)\u001b[0m\n\u001b[0;32m    906\u001b[0m \u001b[1;33m\u001b[0m\u001b[0m\n\u001b[0;32m    907\u001b[0m     \u001b[1;32mif\u001b[0m \u001b[1;32mnot\u001b[0m \u001b[0mhasattr\u001b[0m\u001b[1;33m(\u001b[0m\u001b[0mestimator\u001b[0m\u001b[1;33m,\u001b[0m \u001b[1;34m'fit'\u001b[0m\u001b[1;33m)\u001b[0m\u001b[1;33m:\u001b[0m\u001b[1;33m\u001b[0m\u001b[1;33m\u001b[0m\u001b[0m\n\u001b[1;32m--> 908\u001b[1;33m         \u001b[1;32mraise\u001b[0m \u001b[0mTypeError\u001b[0m\u001b[1;33m(\u001b[0m\u001b[1;34m\"%s is not an estimator instance.\"\u001b[0m \u001b[1;33m%\u001b[0m \u001b[1;33m(\u001b[0m\u001b[0mestimator\u001b[0m\u001b[1;33m)\u001b[0m\u001b[1;33m)\u001b[0m\u001b[1;33m\u001b[0m\u001b[1;33m\u001b[0m\u001b[0m\n\u001b[0m\u001b[0;32m    909\u001b[0m \u001b[1;33m\u001b[0m\u001b[0m\n\u001b[0;32m    910\u001b[0m     \u001b[1;32mif\u001b[0m \u001b[1;32mnot\u001b[0m \u001b[0misinstance\u001b[0m\u001b[1;33m(\u001b[0m\u001b[0mattributes\u001b[0m\u001b[1;33m,\u001b[0m \u001b[1;33m(\u001b[0m\u001b[0mlist\u001b[0m\u001b[1;33m,\u001b[0m \u001b[0mtuple\u001b[0m\u001b[1;33m)\u001b[0m\u001b[1;33m)\u001b[0m\u001b[1;33m:\u001b[0m\u001b[1;33m\u001b[0m\u001b[1;33m\u001b[0m\u001b[0m\n",
      "\u001b[1;31mTypeError\u001b[0m: <xgboost.core.Booster object at 0x000002189715E400> is not an estimator instance."
     ]
    }
   ],
   "source": [
    "from sklearn.tree import export_graphviz\n",
    "\n",
    "# export_graphviz() 호출 결과로 out_file로 지정된 xgbtree.dot 파일을 생성함.\n",
    "export_graphviz(xgb_model, out_file='xgbtree.dot', class_names=dataset.target_names, feature_names=dataset.feature_names,\n",
    "                impurity=True, filled=True)"
   ]
  },
  {
   "cell_type": "code",
   "execution_count": null,
   "metadata": {},
   "outputs": [],
   "source": [
    "import graphviz\n",
    "\n",
    "# 위에서 생성된 tree.dot 파일을 Graphviz가 읽어서 주피터 노트북상에서 시각화\n",
    "with open('tree.dot') as f:\n",
    "    dot_graph = f.read()\n",
    "\n",
    "graphviz.Source(dot_graph)"
   ]
  },
  {
   "cell_type": "code",
   "execution_count": null,
   "metadata": {},
   "outputs": [],
   "source": [
    "xgb.to_graphviz()"
   ]
  },
  {
   "cell_type": "markdown",
   "metadata": {},
   "source": [
    "파이썬 래퍼 XGBoost는 사이킷런의 GridSearchCV와 유사하게 데이터 세트에 대한 교차 검증 수행 후 최적 파라미터를 구할 수 있는 방법으로 cv() API를 제공합니다."
   ]
  },
  {
   "cell_type": "markdown",
   "metadata": {},
   "source": [
    "    params (dict): 부스트 파라미터\n",
    "    dtrain (DMatrix): 학습 데이터\n",
    "    num_boost_round (int): 부스팅 반복 횟수\n",
    "    nfold (int): CV 폴드 개수.\n",
    "    stratified (bool): CV 수행 시 층화 표본 추출(stratified sampling) 수행 여부\n",
    "    metrics (string or list of strings): CV 수행 시 모니터링할 성능 평가 지표\n",
    "    early_stopping_rounds (int): 조기 중단을 활성화 시킴. 반복 휫수 지정."
   ]
  },
  {
   "cell_type": "markdown",
   "metadata": {},
   "source": [
    "    xgb.cv 의 반환값은 DataFrame 형태입니다."
   ]
  },
  {
   "cell_type": "markdown",
   "metadata": {},
   "source": [
    "#### 사이킷런 래퍼 XGBoost의 개요 및 적용\n",
    "\n",
    "        사이킷런 래퍼 XGBoost는 다른 Estimator와 동일하게 fit()과 predict()만으로 학습과 예측이 가능하고, GridSearchCV, Pipeline 등 사이킷런의 다른 유틸리티를 그대로 사용할 수 있기 때문에 기존의 다른 머신러닝 알고리즘으로 만들어놓은 프로그램이 있더라도 알고리즘 클래스만 XGboost 래퍼 클래스로 바꾸면 기존 프로그램을 그대로 사용할 수 있습니다. 분류를 위한 래퍼 클래스인 XGBClassifier, 회귀를 위한 래퍼 클래스 XGBRegressor입니다.\n",
    "        기존의 xgboost 모듈에서 사용하던 네이티브 하이퍼 파라미터 몇 개를 다음과 같이 변경했습니다.\n",
    "        eta -> learning_rate\n",
    "        sub_sample -> subsample\n",
    "        lambda -> reg_lambda\n",
    "        alpha -> reg_alpha"
   ]
  },
  {
   "cell_type": "markdown",
   "metadata": {},
   "source": [
    "사이킷런 래퍼 XGBoost의 XGBClassifier를 활용한 유방암 예측"
   ]
  },
  {
   "cell_type": "code",
   "execution_count": 15,
   "metadata": {},
   "outputs": [],
   "source": [
    "# 사이킷런 래퍼 XGBoost 클래스인 XGBClassifier 임포트\n",
    "from xgboost import XGBClassifier\n",
    "\n",
    "xgb_wrapper = XGBClassifier(n_estimator=400, learning_rate=0.1, max_depth=3)\n",
    "xgb_wrapper.fit(X_train,y_train)\n",
    "w_preds = xgb_wrapper.predict(X_test)\n",
    "w_pred_proba = xgb_wrapper.predict_proba(X_test)[:,1]"
   ]
  },
  {
   "cell_type": "code",
   "execution_count": 4,
   "metadata": {},
   "outputs": [],
   "source": [
    "from eva import get_clf_eval"
   ]
  },
  {
   "cell_type": "code",
   "execution_count": 16,
   "metadata": {},
   "outputs": [
    {
     "name": "stdout",
     "output_type": "stream",
     "text": [
      "오차 행렬\n",
      "[[34  3]\n",
      " [ 2 75]]\n",
      "정확도: 0.9561, 정밀도: 0.9615, 재현율: 0.9740, F1:0.9677, AUC:0.9947\n"
     ]
    }
   ],
   "source": [
    "get_clf_eval(y_test,w_preds,w_pred_proba)"
   ]
  },
  {
   "cell_type": "markdown",
   "metadata": {},
   "source": [
    "    앞 예제의 파이썬 래퍼 XGBoost와 동일한 평가 결과가 나옴을 알 수 있습니다.(? 나는 안나옴..)\n",
    "    사이킷런 래퍼 XGBoost에서도 조기 중단을 수행할 수 있습니다. 조기 중단 관련한 파라미터를 fit()에 입력하면 됩니다.\n",
    "    지표가 향상될 수 있는 반복 횟수를 정의하는 early_stopping_rounds, 조기 중단을 위한 평가 지표인 eval_metric, 그리고 성능 평가를 수행할 데이터 세트인 eval_set."
   ]
  },
  {
   "cell_type": "markdown",
   "metadata": {},
   "source": [
    "    평가를 위한 데이터 세트로 테스트데이터 세트를 사용햤습니다만, 바람직한 부분은 아닙니다. 평가에 테스트 데이터 세트를 사용하면 학습 시에 미리 참고가 되어 과적합할 수 있기 때문입니다. 에제에서는 데이터 세트의 크기가 작아 테스트 데이터를 평가용응로 사용했으니, 이 부분을 주시하기 바랍니다."
   ]
  },
  {
   "cell_type": "code",
   "execution_count": 18,
   "metadata": {
    "scrolled": true
   },
   "outputs": [
    {
     "name": "stdout",
     "output_type": "stream",
     "text": [
      "[0]\tvalidation_0-logloss:0.61352\n",
      "Will train until validation_0-logloss hasn't improved in 100 rounds.\n",
      "[1]\tvalidation_0-logloss:0.547842\n",
      "[2]\tvalidation_0-logloss:0.494247\n",
      "[3]\tvalidation_0-logloss:0.447986\n",
      "[4]\tvalidation_0-logloss:0.409109\n",
      "[5]\tvalidation_0-logloss:0.374977\n",
      "[6]\tvalidation_0-logloss:0.345714\n",
      "[7]\tvalidation_0-logloss:0.320529\n",
      "[8]\tvalidation_0-logloss:0.29721\n",
      "[9]\tvalidation_0-logloss:0.277991\n",
      "[10]\tvalidation_0-logloss:0.260302\n",
      "[11]\tvalidation_0-logloss:0.246037\n",
      "[12]\tvalidation_0-logloss:0.231556\n",
      "[13]\tvalidation_0-logloss:0.22005\n",
      "[14]\tvalidation_0-logloss:0.208572\n",
      "[15]\tvalidation_0-logloss:0.199993\n",
      "[16]\tvalidation_0-logloss:0.190118\n",
      "[17]\tvalidation_0-logloss:0.181818\n",
      "[18]\tvalidation_0-logloss:0.174729\n",
      "[19]\tvalidation_0-logloss:0.167657\n",
      "[20]\tvalidation_0-logloss:0.158202\n",
      "[21]\tvalidation_0-logloss:0.154725\n",
      "[22]\tvalidation_0-logloss:0.148947\n",
      "[23]\tvalidation_0-logloss:0.143308\n",
      "[24]\tvalidation_0-logloss:0.136344\n",
      "[25]\tvalidation_0-logloss:0.132778\n",
      "[26]\tvalidation_0-logloss:0.127912\n",
      "[27]\tvalidation_0-logloss:0.125263\n",
      "[28]\tvalidation_0-logloss:0.119978\n",
      "[29]\tvalidation_0-logloss:0.116412\n",
      "[30]\tvalidation_0-logloss:0.114502\n",
      "[31]\tvalidation_0-logloss:0.112572\n",
      "[32]\tvalidation_0-logloss:0.11154\n",
      "[33]\tvalidation_0-logloss:0.108681\n",
      "[34]\tvalidation_0-logloss:0.106681\n",
      "[35]\tvalidation_0-logloss:0.104207\n",
      "[36]\tvalidation_0-logloss:0.102962\n",
      "[37]\tvalidation_0-logloss:0.100576\n",
      "[38]\tvalidation_0-logloss:0.098683\n",
      "[39]\tvalidation_0-logloss:0.096444\n",
      "[40]\tvalidation_0-logloss:0.095869\n",
      "[41]\tvalidation_0-logloss:0.094242\n",
      "[42]\tvalidation_0-logloss:0.094715\n",
      "[43]\tvalidation_0-logloss:0.094272\n",
      "[44]\tvalidation_0-logloss:0.093894\n",
      "[45]\tvalidation_0-logloss:0.094184\n",
      "[46]\tvalidation_0-logloss:0.09402\n",
      "[47]\tvalidation_0-logloss:0.09236\n",
      "[48]\tvalidation_0-logloss:0.093012\n",
      "[49]\tvalidation_0-logloss:0.091272\n",
      "[50]\tvalidation_0-logloss:0.090051\n",
      "[51]\tvalidation_0-logloss:0.089605\n",
      "[52]\tvalidation_0-logloss:0.089577\n",
      "[53]\tvalidation_0-logloss:0.090703\n",
      "[54]\tvalidation_0-logloss:0.089579\n",
      "[55]\tvalidation_0-logloss:0.090357\n",
      "[56]\tvalidation_0-logloss:0.091587\n",
      "[57]\tvalidation_0-logloss:0.091527\n",
      "[58]\tvalidation_0-logloss:0.091986\n",
      "[59]\tvalidation_0-logloss:0.091951\n",
      "[60]\tvalidation_0-logloss:0.091939\n",
      "[61]\tvalidation_0-logloss:0.091461\n",
      "[62]\tvalidation_0-logloss:0.090311\n",
      "[63]\tvalidation_0-logloss:0.089407\n",
      "[64]\tvalidation_0-logloss:0.089719\n",
      "[65]\tvalidation_0-logloss:0.089743\n",
      "[66]\tvalidation_0-logloss:0.089622\n",
      "[67]\tvalidation_0-logloss:0.088734\n",
      "[68]\tvalidation_0-logloss:0.088621\n",
      "[69]\tvalidation_0-logloss:0.089739\n",
      "[70]\tvalidation_0-logloss:0.089981\n",
      "[71]\tvalidation_0-logloss:0.089782\n",
      "[72]\tvalidation_0-logloss:0.089584\n",
      "[73]\tvalidation_0-logloss:0.089533\n",
      "[74]\tvalidation_0-logloss:0.088748\n",
      "[75]\tvalidation_0-logloss:0.088597\n",
      "[76]\tvalidation_0-logloss:0.08812\n",
      "[77]\tvalidation_0-logloss:0.088396\n",
      "[78]\tvalidation_0-logloss:0.088736\n",
      "[79]\tvalidation_0-logloss:0.088153\n",
      "[80]\tvalidation_0-logloss:0.087577\n",
      "[81]\tvalidation_0-logloss:0.087412\n",
      "[82]\tvalidation_0-logloss:0.08849\n",
      "[83]\tvalidation_0-logloss:0.088575\n",
      "[84]\tvalidation_0-logloss:0.08807\n",
      "[85]\tvalidation_0-logloss:0.087641\n",
      "[86]\tvalidation_0-logloss:0.087416\n",
      "[87]\tvalidation_0-logloss:0.087611\n",
      "[88]\tvalidation_0-logloss:0.087065\n",
      "[89]\tvalidation_0-logloss:0.08727\n",
      "[90]\tvalidation_0-logloss:0.087161\n",
      "[91]\tvalidation_0-logloss:0.086962\n",
      "[92]\tvalidation_0-logloss:0.087166\n",
      "[93]\tvalidation_0-logloss:0.087067\n",
      "[94]\tvalidation_0-logloss:0.086592\n",
      "[95]\tvalidation_0-logloss:0.086116\n",
      "[96]\tvalidation_0-logloss:0.087139\n",
      "[97]\tvalidation_0-logloss:0.086768\n",
      "[98]\tvalidation_0-logloss:0.086694\n",
      "[99]\tvalidation_0-logloss:0.086547\n"
     ]
    }
   ],
   "source": [
    "from xgboost import XGBClassifier\n",
    "\n",
    "xgb_wrapper = XGBClassifier(n_estimator=400, learning_rate=0.1, max_depth=3)\n",
    "evals=[(X_test,y_test)]\n",
    "xgb_wrapper.fit(X_train,y_train, early_stopping_rounds=100, eval_metric='logloss',eval_set=evals,verbose=True)\n",
    "ws100_preds = xgb_wrapper.predict(X_test)\n",
    "ws100_pred_proba = xgb_wrapper.predict_proba(X_test)[:,1]"
   ]
  },
  {
   "cell_type": "markdown",
   "metadata": {},
   "source": [
    "    n_estimator을 400을 설정해도 400번 반복을 수행하지 않고 311번 반복한 후 학습을 완료했음을 알 수 있습니다.(? 왜 나랑 달라)\n",
    "    311번 반복한 후 멈춘 이유는 211번 반복시 logloss가 311번 박복 시 logloss와 성능 평가 지수가 향상되지 않았기 때문에 더 이상 반복하지 않고 멈춘것입니다."
   ]
  },
  {
   "cell_type": "markdown",
   "metadata": {},
   "source": [
    "조기 중단으로 학습된 XGBClassifier의 예측 성능을 살펴보겠습니다. 조기 중단이 적용되지 않은 결과보다 약간 저조한 성능을 나타냈지만, 큰 차이는 아닙니다."
   ]
  },
  {
   "cell_type": "code",
   "execution_count": 21,
   "metadata": {},
   "outputs": [
    {
     "name": "stdout",
     "output_type": "stream",
     "text": [
      "오차 행렬\n",
      "[[34  3]\n",
      " [ 2 75]]\n",
      "정확도: 0.9561, 정밀도: 0.9615, 재현율: 0.9740, F1:0.9677, AUC:0.9947\n"
     ]
    }
   ],
   "source": [
    "get_clf_eval(y_test,ws100_preds,ws100_pred_proba)"
   ]
  },
  {
   "cell_type": "markdown",
   "metadata": {},
   "source": [
    "    하지만 조기 중단값을 넘누 급격하게 줄이면 예측 성능이 저하될 우려가 큽니다. 만일 early_Stopping_rounds를 10으로 하면 아직 성능이 향상될 여지가 있음에도 불구하고 10번 반복하는 동안 성능 평ㄱ아 지표가 향샹되지 않으면 반복이 멈춰 버려서 충분한 학습이 되지 않아 예측 성능이 나빠질 수 있습니다."
   ]
  },
  {
   "cell_type": "markdown",
   "metadata": {},
   "source": [
    "early_stopping_rounds를 10으로 설정하고 예측 성능을 다시 측정해 보겠습니다."
   ]
  },
  {
   "cell_type": "code",
   "execution_count": 23,
   "metadata": {},
   "outputs": [
    {
     "name": "stdout",
     "output_type": "stream",
     "text": [
      "[0]\tvalidation_0-logloss:0.61352\n",
      "Will train until validation_0-logloss hasn't improved in 10 rounds.\n",
      "[1]\tvalidation_0-logloss:0.547842\n",
      "[2]\tvalidation_0-logloss:0.494247\n",
      "[3]\tvalidation_0-logloss:0.447986\n",
      "[4]\tvalidation_0-logloss:0.409109\n",
      "[5]\tvalidation_0-logloss:0.374977\n",
      "[6]\tvalidation_0-logloss:0.345714\n",
      "[7]\tvalidation_0-logloss:0.320529\n",
      "[8]\tvalidation_0-logloss:0.29721\n",
      "[9]\tvalidation_0-logloss:0.277991\n",
      "[10]\tvalidation_0-logloss:0.260302\n",
      "[11]\tvalidation_0-logloss:0.246037\n",
      "[12]\tvalidation_0-logloss:0.231556\n",
      "[13]\tvalidation_0-logloss:0.22005\n",
      "[14]\tvalidation_0-logloss:0.208572\n",
      "[15]\tvalidation_0-logloss:0.199993\n",
      "[16]\tvalidation_0-logloss:0.190118\n",
      "[17]\tvalidation_0-logloss:0.181818\n",
      "[18]\tvalidation_0-logloss:0.174729\n",
      "[19]\tvalidation_0-logloss:0.167657\n",
      "[20]\tvalidation_0-logloss:0.158202\n",
      "[21]\tvalidation_0-logloss:0.154725\n",
      "[22]\tvalidation_0-logloss:0.148947\n",
      "[23]\tvalidation_0-logloss:0.143308\n",
      "[24]\tvalidation_0-logloss:0.136344\n",
      "[25]\tvalidation_0-logloss:0.132778\n",
      "[26]\tvalidation_0-logloss:0.127912\n",
      "[27]\tvalidation_0-logloss:0.125263\n",
      "[28]\tvalidation_0-logloss:0.119978\n",
      "[29]\tvalidation_0-logloss:0.116412\n",
      "[30]\tvalidation_0-logloss:0.114502\n",
      "[31]\tvalidation_0-logloss:0.112572\n",
      "[32]\tvalidation_0-logloss:0.11154\n",
      "[33]\tvalidation_0-logloss:0.108681\n",
      "[34]\tvalidation_0-logloss:0.106681\n",
      "[35]\tvalidation_0-logloss:0.104207\n",
      "[36]\tvalidation_0-logloss:0.102962\n",
      "[37]\tvalidation_0-logloss:0.100576\n",
      "[38]\tvalidation_0-logloss:0.098683\n",
      "[39]\tvalidation_0-logloss:0.096444\n",
      "[40]\tvalidation_0-logloss:0.095869\n",
      "[41]\tvalidation_0-logloss:0.094242\n",
      "[42]\tvalidation_0-logloss:0.094715\n",
      "[43]\tvalidation_0-logloss:0.094272\n",
      "[44]\tvalidation_0-logloss:0.093894\n",
      "[45]\tvalidation_0-logloss:0.094184\n",
      "[46]\tvalidation_0-logloss:0.09402\n",
      "[47]\tvalidation_0-logloss:0.09236\n",
      "[48]\tvalidation_0-logloss:0.093012\n",
      "[49]\tvalidation_0-logloss:0.091272\n",
      "[50]\tvalidation_0-logloss:0.090051\n",
      "[51]\tvalidation_0-logloss:0.089605\n",
      "[52]\tvalidation_0-logloss:0.089577\n",
      "[53]\tvalidation_0-logloss:0.090703\n",
      "[54]\tvalidation_0-logloss:0.089579\n",
      "[55]\tvalidation_0-logloss:0.090357\n",
      "[56]\tvalidation_0-logloss:0.091587\n",
      "[57]\tvalidation_0-logloss:0.091527\n",
      "[58]\tvalidation_0-logloss:0.091986\n",
      "[59]\tvalidation_0-logloss:0.091951\n",
      "[60]\tvalidation_0-logloss:0.091939\n",
      "[61]\tvalidation_0-logloss:0.091461\n",
      "[62]\tvalidation_0-logloss:0.090311\n",
      "Stopping. Best iteration:\n",
      "[52]\tvalidation_0-logloss:0.089577\n",
      "\n",
      "오차 행렬\n",
      "[[34  3]\n",
      " [ 2 75]]\n",
      "정확도: 0.9561, 정밀도: 0.9615, 재현율: 0.9740, F1:0.9677, AUC:0.9947\n"
     ]
    }
   ],
   "source": [
    "# early_stopping_rounds를 10으로 설정하고 재학습.\n",
    "xgb_wrapper.fit(X_train,y_train,eval_set=evals,eval_metric='logloss',early_stopping_rounds=10)\n",
    "\n",
    "ws100_preds = xgb_wrapper.predict(X_test)\n",
    "ws100_pred_proba = xgb_wrapper.predict_proba(X_test)[:,1]\n",
    "get_clf_eval(y_test,ws100_preds,ws100_pred_proba)"
   ]
  },
  {
   "cell_type": "markdown",
   "metadata": {},
   "source": [
    "    62번 반복까지만 수행된 후 학습이 종료, 62번 logloss가 52번 logloss 보다 성능 평가 지수가 향상되지 못해서 더 이상의 반복을 수행하지 않고 학습이 종료됐습니다. 이렇게 학습된 모델로 예측한 결과 정확도는 early_stopping_rounds = 100 보다 성능이 떨어져야하는데 나는 왜 이럴까"
   ]
  },
  {
   "cell_type": "markdown",
   "metadata": {},
   "source": [
    "피처의 중요도를 시각화하는 모듈인 plot_importance() API에 사이킷런 래퍼 클래스를 입력해도 앞에서 파이썬 래퍼 클래스를 입력한 결과와 똑같이 시각화 결과를 도출해 줍니다."
   ]
  },
  {
   "cell_type": "code",
   "execution_count": 24,
   "metadata": {},
   "outputs": [
    {
     "data": {
      "text/plain": [
       "<matplotlib.axes._subplots.AxesSubplot at 0x27cec3497f0>"
      ]
     },
     "execution_count": 24,
     "metadata": {},
     "output_type": "execute_result"
    },
    {
     "data": {
      "image/png": "[encoded data removed]",
      "text/plain": [
       "<Figure size 720x864 with 1 Axes>"
      ]
     },
     "metadata": {
      "needs_background": "light"
     },
     "output_type": "display_data"
    }
   ],
   "source": [
    "from xgboost import plot_importance\n",
    "import matplotlib.pyplot as plt\n",
    "%matplotlib inline\n",
    "\n",
    "fig, ax = plt.subplots(figsize=(10,12))\n",
    "# 사이킷런 Wrapper 클래스를 입력해도 무방.\n",
    "plot_importance(xgb_wrapper,ax=ax)"
   ]
  },
  {
   "cell_type": "markdown",
   "metadata": {},
   "source": [
    "# LightGBM\n",
    "\n",
    "         LightGBM은 XGBoost와 함꼐 부스팅 계열 알고리즘에서 가장 각광을 받고있습니다. XGBoost는 매우 뛰어난 부스팅 알고리즘이지만, 여전히 학습 시간이 오래 걸립니다. XGBoost에서 GridSearchCV로 하이퍼 파라미터를 튜닝하기에 어렴을 겪을 수밖에 없습니다.\n",
    "         LightGBM의 가장 큰 장점은 XGBoost보다 학습에 걸리는 시간이 훨씬 적다는 점입니다. 또한 메모리 사용량도 상대적으로 적습니다. LightGBM 의' Light'는 바로 이러한 장점 때문에 붙여진 것 같습니다.\n",
    "         LightGBM과 XGBoost의 예측 성능은 별다른 차이가 없습니다. 또한 기능상의 다양성은 LightGBM이 약간 더 많습니다. LightGBM 한 가지 단점으로 알려진 것은 적은 데이터 세트에 적용할 경우 과적합이 발생하기 쉽다는 것입니다. 일반적으로 1만건 이하의 데이터 세트 정도라고 LightGBM의 공식 문서에서 기술하고 있습니다.\n",
    "        LightGBM은 일발 GBM 계열의 트리 분할 방법과 다르게 리프 중심 트리 분할(Leaf Wise) 방식을 사용합니다. 기존의 대부분 트리 기반 알고리즘은 트리의 깊이를 효과적으로 줄이기 위한 균형 트리 분할(Level Wise) 방식을 사용합니다.하지만  LightGBM의 리프 중심 트리 분할 방식은 트리의 균형을 맞추지 않고, 최대 손실 값(Max Delta loss)을 가지는 리프 노트를 지속적으로 분할하면서 트리의 깊이가 깊어지고 비대칭적인 규칙 트리가 생성됩니다. 하지만 이렇게 최대 손실값을 가지는 리프 노드를 지속적으로 분할해 생성된 규칙 트리는 학습을 반복할수록 결국은 균형 트리 분할 방식보다 예측 오류 손실을 최소화 할 수 있다는 것이 LightGBM의 구현 사상입니다."
   ]
  },
  {
   "cell_type": "markdown",
   "metadata": {},
   "source": [
    "        LightGBM의 XGBoost 대비 장점은 다음과 같이 정리할 수 있습니다.\n",
    "        - 더 빠른 학습과 예측 수행 시간\n",
    "        - 더 작은 메모리 사용량\n",
    "        - 카테로리형 피처의 자동 변환과 최적 분할(원-핫 인코딩 등을 사용하지 않고도 카테고리형 피처를 최적으로 변환하고 이에\n",
    "            따른 노드 분할 수행)\n",
    "        대용량 데이터에 대한 뛰어난 예측 성능 및 병렬 컴퓨팅 기능을 제공하며, 최근에는 GPU까지 지원하고 있습니다.\n",
    "        \n",
    "        LightGBM 또한 사이킷런과 호환성 지워하기 위해 만들어졌으며 Estimator를 상속 받아 fit()과 predict() 기반의 학습 및 예측과 시이킷런이 제공하는 다양한 유틸리티의 활용이 가능합니다."
   ]
  },
  {
   "cell_type": "markdown",
   "metadata": {},
   "source": [
    "#### LightGBM 설치\n",
    "        \n",
    "        윈도우의 LightGBM 설치시에는 VIsual Studio Build tool 2015이상이 먼저 설치돼 있어야 합니다.\n",
    "        이후 conda install -c conda-forge lightgbm\n"
   ]
  },
  {
   "cell_type": "markdown",
   "metadata": {},
   "source": [
    "#### LightGBM 하이퍼 파라미터\n",
    "\n",
    "        "
   ]
  }
 ],
 "metadata": {
  "kernelspec": {
   "display_name": "Python 3",
   "language": "python",
   "name": "python3"
  },
  "language_info": {
   "codemirror_mode": {
    "name": "ipython",
    "version": 3
   },
   "file_extension": ".py",
   "mimetype": "text/x-python",
   "name": "python",
   "nbconvert_exporter": "python",
   "pygments_lexer": "ipython3",
   "version": "3.7.3"
  }
 },
 "nbformat": 4,
 "nbformat_minor": 2
}
